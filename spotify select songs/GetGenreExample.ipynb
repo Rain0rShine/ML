{
 "cells": [
  {
   "cell_type": "code",
   "execution_count": 1,
   "id": "17adb772",
   "metadata": {},
   "outputs": [],
   "source": [
    "import json\n",
    "import requests\n",
    "import pandas as pd"
   ]
  },
  {
   "cell_type": "code",
   "execution_count": 5,
   "id": "300ca164",
   "metadata": {},
   "outputs": [],
   "source": [
    "import requests"
   ]
  },
  {
   "cell_type": "code",
   "execution_count": 7,
   "id": "55a4f746",
   "metadata": {},
   "outputs": [],
   "source": [
    "def get_token(client_id, client_secret):\n",
    "    token_url = 'https://accounts.spotify.com/api/token'\n",
    "    \n",
    "    headers = {\n",
    "        'Content-Type': 'application/x-www-form-urlencoded'\n",
    "    }\n",
    "    \n",
    "    data = {\n",
    "        'grant_type': 'client_credentials',\n",
    "        'client_id': client_id,\n",
    "        'client_secret': client_secret\n",
    "    }\n",
    "    \n",
    "    response = requests.post(token_url, headers=headers, data=data)\n",
    "    return response.json()\n",
    "\n",
    "client_id = \"b6286c7ed787435494bb4c28b2a6c57a\"\n",
    "client_secret = \"7045aab08c5a425b9434bd8a0ef187f2\"\n",
    "token_response = get_token(client_id, client_secret)\n",
    "access_token = token_response['access_token']"
   ]
  },
  {
   "cell_type": "code",
   "execution_count": 8,
   "id": "250fc11b",
   "metadata": {},
   "outputs": [],
   "source": [
    "headers = {\n",
    "    'Authorization': 'Bearer ' + access_token\n",
    "}"
   ]
  },
  {
   "cell_type": "code",
   "execution_count": 11,
   "id": "e12da4ad",
   "metadata": {},
   "outputs": [],
   "source": [
    "def get_genres(artists):\n",
    "    genres = []\n",
    "    # for art_id in artists['spot_id']:\n",
    "    for artist_id in artist_ids:\n",
    "        response = requests.get('https://api.spotify.com/v1/artists/' + artist_id, headers=headers)\n",
    "        artist_genres = response.json()['genres']\n",
    "        genres.append(artist_genres)\n",
    "        \n",
    "    # Add column of genres to artists dictionary\n",
    "    artists['genres'] = genres\n",
    "    return genres"
   ]
  },
  {
   "cell_type": "code",
   "execution_count": 10,
   "id": "42227436",
   "metadata": {},
   "outputs": [],
   "source": [
    "playlist_artists = {\n",
    "        'name':[],\n",
    "        'spot_id': []\n",
    "    }\n",
    "playlist_genres = get_genres(playlist_artists)"
   ]
  },
  {
   "cell_type": "code",
   "execution_count": 16,
   "id": "452ea34f",
   "metadata": {},
   "outputs": [
    {
     "ename": "NameError",
     "evalue": "name 'artist_ids' is not defined",
     "output_type": "error",
     "traceback": [
      "\u001b[1;31m---------------------------------------------------------------------------\u001b[0m",
      "\u001b[1;31mNameError\u001b[0m                                 Traceback (most recent call last)",
      "\u001b[1;32m~\\AppData\\Local\\Temp\\ipykernel_17960\\2562353825.py\u001b[0m in \u001b[0;36m<module>\u001b[1;34m\u001b[0m\n\u001b[1;32m----> 1\u001b[1;33m \u001b[0mplaylist_genres\u001b[0m \u001b[1;33m=\u001b[0m \u001b[0mget_genres\u001b[0m\u001b[1;33m(\u001b[0m\u001b[1;34m'artist_ids'\u001b[0m\u001b[1;33m)\u001b[0m\u001b[1;33m\u001b[0m\u001b[1;33m\u001b[0m\u001b[0m\n\u001b[0m",
      "\u001b[1;32m~\\AppData\\Local\\Temp\\ipykernel_17960\\2692943666.py\u001b[0m in \u001b[0;36mget_genres\u001b[1;34m(artists)\u001b[0m\n\u001b[0;32m      1\u001b[0m \u001b[1;32mdef\u001b[0m \u001b[0mget_genres\u001b[0m\u001b[1;33m(\u001b[0m\u001b[0martists\u001b[0m\u001b[1;33m)\u001b[0m\u001b[1;33m:\u001b[0m\u001b[1;33m\u001b[0m\u001b[1;33m\u001b[0m\u001b[0m\n\u001b[0;32m      2\u001b[0m     \u001b[0mgenres\u001b[0m \u001b[1;33m=\u001b[0m \u001b[1;33m[\u001b[0m\u001b[1;33m]\u001b[0m\u001b[1;33m\u001b[0m\u001b[1;33m\u001b[0m\u001b[0m\n\u001b[1;32m----> 3\u001b[1;33m     \u001b[1;32mfor\u001b[0m \u001b[0martist_id\u001b[0m \u001b[1;32min\u001b[0m \u001b[0martist_ids\u001b[0m\u001b[1;33m:\u001b[0m\u001b[1;33m\u001b[0m\u001b[1;33m\u001b[0m\u001b[0m\n\u001b[0m\u001b[0;32m      4\u001b[0m         \u001b[0mresponse\u001b[0m \u001b[1;33m=\u001b[0m \u001b[0mrequests\u001b[0m\u001b[1;33m.\u001b[0m\u001b[0mget\u001b[0m\u001b[1;33m(\u001b[0m\u001b[1;34m'https://api.spotify.com/v1/artists/'\u001b[0m \u001b[1;33m+\u001b[0m \u001b[0martist_id\u001b[0m\u001b[1;33m,\u001b[0m \u001b[0mheaders\u001b[0m\u001b[1;33m=\u001b[0m\u001b[0mheaders\u001b[0m\u001b[1;33m)\u001b[0m\u001b[1;33m\u001b[0m\u001b[1;33m\u001b[0m\u001b[0m\n\u001b[0;32m      5\u001b[0m         \u001b[0martist_genres\u001b[0m \u001b[1;33m=\u001b[0m \u001b[0mresponse\u001b[0m\u001b[1;33m.\u001b[0m\u001b[0mjson\u001b[0m\u001b[1;33m(\u001b[0m\u001b[1;33m)\u001b[0m\u001b[1;33m[\u001b[0m\u001b[1;34m'genres'\u001b[0m\u001b[1;33m]\u001b[0m\u001b[1;33m\u001b[0m\u001b[1;33m\u001b[0m\u001b[0m\n",
      "\u001b[1;31mNameError\u001b[0m: name 'artist_ids' is not defined"
     ]
    }
   ],
   "source": [
    "playlist_genres = get_genres('artist_ids')"
   ]
  },
  {
   "cell_type": "code",
   "execution_count": 15,
   "id": "60928075",
   "metadata": {},
   "outputs": [
    {
     "data": {
      "text/plain": [
       "[]"
      ]
     },
     "execution_count": 15,
     "metadata": {},
     "output_type": "execute_result"
    }
   ],
   "source": [
    "playlist_genres"
   ]
  },
  {
   "cell_type": "code",
   "execution_count": null,
   "id": "0ae55ac2",
   "metadata": {},
   "outputs": [],
   "source": []
  }
 ],
 "metadata": {
  "kernelspec": {
   "display_name": "Python 3 (ipykernel)",
   "language": "python",
   "name": "python3"
  },
  "language_info": {
   "codemirror_mode": {
    "name": "ipython",
    "version": 3
   },
   "file_extension": ".py",
   "mimetype": "text/x-python",
   "name": "python",
   "nbconvert_exporter": "python",
   "pygments_lexer": "ipython3",
   "version": "3.9.13"
  }
 },
 "nbformat": 4,
 "nbformat_minor": 5
}
