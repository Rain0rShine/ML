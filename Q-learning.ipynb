{
 "cells": [
  {
   "cell_type": "code",
   "execution_count": null,
   "id": "764bee1f",
   "metadata": {},
   "outputs": [],
   "source": []
  },
  {
   "cell_type": "markdown",
   "id": "d56f0b34",
   "metadata": {},
   "source": [
    "1. Create table of q-values and initialize them to 0 \n",
    "2. Set learing rate (a) to ___ (can be anything between 0 and 1)\n",
    "3. Discount rate (gamma) is initially set to 1 which means that it will explore first  (the discount rate is always between 0 and 1)\n",
    "4. Run trial\n",
    "5. Update Q-values\n",
    "6. Decrease discount rate\n",
    "7. Repeat steps 4-6 until the table stops changing or after 1000 trials.\n"
   ]
  },
  {
   "cell_type": "markdown",
   "id": "bf47286e",
   "metadata": {},
   "source": [
    "For mouse:\n",
    "1. Table of 6 values for the 6 tiles (x, y, q-value) (x is between 0 and 2) (y is between 0 and -1)\n",
    "2. +1 for little cheese, -1 for empty tile, +5 for big cheese and game ends, -5 for poison and game ends\n",
    "3. Game ends if 5 steps are taken"
   ]
  },
  {
   "cell_type": "code",
   "execution_count": null,
   "id": "8c365886",
   "metadata": {},
   "outputs": [],
   "source": []
  }
 ],
 "metadata": {
  "kernelspec": {
   "display_name": "Python 3 (ipykernel)",
   "language": "python",
   "name": "python3"
  },
  "language_info": {
   "codemirror_mode": {
    "name": "ipython",
    "version": 3
   },
   "file_extension": ".py",
   "mimetype": "text/x-python",
   "name": "python",
   "nbconvert_exporter": "python",
   "pygments_lexer": "ipython3",
   "version": "3.9.13"
  }
 },
 "nbformat": 4,
 "nbformat_minor": 5
}
