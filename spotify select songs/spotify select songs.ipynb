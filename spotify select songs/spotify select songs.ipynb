{
 "cells": [
  {
   "cell_type": "code",
   "execution_count": 1,
   "id": "55ecc4ad",
   "metadata": {},
   "outputs": [],
   "source": [
    "import pandas as pd"
   ]
  },
  {
   "cell_type": "code",
   "execution_count": 2,
   "id": "4a5a8a62",
   "metadata": {},
   "outputs": [],
   "source": [
    "import json"
   ]
  },
  {
   "cell_type": "code",
   "execution_count": 36,
   "id": "ab44e4ef",
   "metadata": {},
   "outputs": [],
   "source": [
    "with open(\"vetting_playlist.json\", \"r\") as file:\n",
    "    data = json.load(file)"
   ]
  },
  {
   "cell_type": "code",
   "execution_count": 22,
   "id": "105893a7",
   "metadata": {},
   "outputs": [
    {
     "data": {
      "text/plain": [
       "dict_keys(['href', 'items', 'limit', 'next', 'offset', 'previous', 'total'])"
      ]
     },
     "execution_count": 22,
     "metadata": {},
     "output_type": "execute_result"
    }
   ],
   "source": [
    "data[\"tracks\"].keys()"
   ]
  },
  {
   "cell_type": "code",
   "execution_count": 24,
   "id": "a8632daf",
   "metadata": {
    "collapsed": true
   },
   "outputs": [
    {
     "data": {
      "text/plain": [
       "{'added_at': '2017-06-23T23:21:59Z',\n",
       " 'added_by': {'external_urls': {'spotify': 'https://open.spotify.com/user/1225630715'},\n",
       "  'href': 'https://api.spotify.com/v1/users/1225630715',\n",
       "  'id': '1225630715',\n",
       "  'type': 'user',\n",
       "  'uri': 'spotify:user:1225630715'},\n",
       " 'is_local': False,\n",
       " 'primary_color': None,\n",
       " 'track': {'preview_url': None,\n",
       "  'available_markets': [],\n",
       "  'explicit': False,\n",
       "  'type': 'track',\n",
       "  'episode': False,\n",
       "  'track': True,\n",
       "  'album': {'available_markets': [],\n",
       "   'type': 'album',\n",
       "   'album_type': 'album',\n",
       "   'href': 'https://api.spotify.com/v1/albums/6SIib5yrq0saKy08p2IPrB',\n",
       "   'id': '6SIib5yrq0saKy08p2IPrB',\n",
       "   'images': [{'height': 640,\n",
       "     'url': 'https://i.scdn.co/image/ab67616d0000b273c48375f67f100f88207b54bc',\n",
       "     'width': 640},\n",
       "    {'height': 300,\n",
       "     'url': 'https://i.scdn.co/image/ab67616d00001e02c48375f67f100f88207b54bc',\n",
       "     'width': 300},\n",
       "    {'height': 64,\n",
       "     'url': 'https://i.scdn.co/image/ab67616d00004851c48375f67f100f88207b54bc',\n",
       "     'width': 64}],\n",
       "   'name': 'Bad Self Portraits',\n",
       "   'release_date': '2014-02-18',\n",
       "   'release_date_precision': 'day',\n",
       "   'uri': 'spotify:album:6SIib5yrq0saKy08p2IPrB',\n",
       "   'artists': [{'external_urls': {'spotify': 'https://open.spotify.com/artist/3nuc29fYGlQbIrwh4yrNWd'},\n",
       "     'href': 'https://api.spotify.com/v1/artists/3nuc29fYGlQbIrwh4yrNWd',\n",
       "     'id': '3nuc29fYGlQbIrwh4yrNWd',\n",
       "     'name': 'Lake Street Dive',\n",
       "     'type': 'artist',\n",
       "     'uri': 'spotify:artist:3nuc29fYGlQbIrwh4yrNWd'}],\n",
       "   'external_urls': {'spotify': 'https://open.spotify.com/album/6SIib5yrq0saKy08p2IPrB'},\n",
       "   'total_tracks': 11},\n",
       "  'artists': [{'external_urls': {'spotify': 'https://open.spotify.com/artist/3nuc29fYGlQbIrwh4yrNWd'},\n",
       "    'href': 'https://api.spotify.com/v1/artists/3nuc29fYGlQbIrwh4yrNWd',\n",
       "    'id': '3nuc29fYGlQbIrwh4yrNWd',\n",
       "    'name': 'Lake Street Dive',\n",
       "    'type': 'artist',\n",
       "    'uri': 'spotify:artist:3nuc29fYGlQbIrwh4yrNWd'}],\n",
       "  'disc_number': 1,\n",
       "  'track_number': 3,\n",
       "  'duration_ms': 215879,\n",
       "  'external_ids': {'isrc': 'USFMT1406103'},\n",
       "  'external_urls': {'spotify': 'https://open.spotify.com/track/0NSEZeWHkYCknk1nAVO1Fh'},\n",
       "  'href': 'https://api.spotify.com/v1/tracks/0NSEZeWHkYCknk1nAVO1Fh',\n",
       "  'id': '0NSEZeWHkYCknk1nAVO1Fh',\n",
       "  'name': 'Better Than',\n",
       "  'popularity': 0,\n",
       "  'uri': 'spotify:track:0NSEZeWHkYCknk1nAVO1Fh',\n",
       "  'is_local': False},\n",
       " 'video_thumbnail': {'url': None}}"
      ]
     },
     "execution_count": 24,
     "metadata": {},
     "output_type": "execute_result"
    }
   ],
   "source": [
    "data['tracks']['items'][0]"
   ]
  },
  {
   "cell_type": "code",
   "execution_count": 31,
   "id": "89fd221e",
   "metadata": {
    "collapsed": true
   },
   "outputs": [
    {
     "data": {
      "text/plain": [
       "{'added_at': '2017-04-15T00:54:34Z',\n",
       " 'added_by': {'external_urls': {'spotify': 'https://open.spotify.com/user/1225630715'},\n",
       "  'href': 'https://api.spotify.com/v1/users/1225630715',\n",
       "  'id': '1225630715',\n",
       "  'type': 'user',\n",
       "  'uri': 'spotify:user:1225630715'},\n",
       " 'is_local': False,\n",
       " 'primary_color': None,\n",
       " 'track': {'preview_url': None,\n",
       "  'available_markets': [],\n",
       "  'explicit': False,\n",
       "  'type': 'track',\n",
       "  'episode': False,\n",
       "  'track': True,\n",
       "  'album': {'available_markets': [],\n",
       "   'type': 'album',\n",
       "   'album_type': 'single',\n",
       "   'href': 'https://api.spotify.com/v1/albums/1dNRrt0QTrQrZnujD7KS4k',\n",
       "   'id': '1dNRrt0QTrQrZnujD7KS4k',\n",
       "   'images': [{'height': 640,\n",
       "     'url': 'https://i.scdn.co/image/ab67616d0000b273101b0c82d0d3d9079b5b3966',\n",
       "     'width': 640},\n",
       "    {'height': 300,\n",
       "     'url': 'https://i.scdn.co/image/ab67616d00001e02101b0c82d0d3d9079b5b3966',\n",
       "     'width': 300},\n",
       "    {'height': 64,\n",
       "     'url': 'https://i.scdn.co/image/ab67616d00004851101b0c82d0d3d9079b5b3966',\n",
       "     'width': 64}],\n",
       "   'name': 'Future People',\n",
       "   'release_date': '2015-03-18',\n",
       "   'release_date_precision': 'day',\n",
       "   'uri': 'spotify:album:1dNRrt0QTrQrZnujD7KS4k',\n",
       "   'artists': [{'external_urls': {'spotify': 'https://open.spotify.com/artist/16GcWuvvybAoaHr0NqT8Eh'},\n",
       "     'href': 'https://api.spotify.com/v1/artists/16GcWuvvybAoaHr0NqT8Eh',\n",
       "     'id': '16GcWuvvybAoaHr0NqT8Eh',\n",
       "     'name': 'Alabama Shakes',\n",
       "     'type': 'artist',\n",
       "     'uri': 'spotify:artist:16GcWuvvybAoaHr0NqT8Eh'}],\n",
       "   'external_urls': {'spotify': 'https://open.spotify.com/album/1dNRrt0QTrQrZnujD7KS4k'},\n",
       "   'total_tracks': 1},\n",
       "  'artists': [{'external_urls': {'spotify': 'https://open.spotify.com/artist/16GcWuvvybAoaHr0NqT8Eh'},\n",
       "    'href': 'https://api.spotify.com/v1/artists/16GcWuvvybAoaHr0NqT8Eh',\n",
       "    'id': '16GcWuvvybAoaHr0NqT8Eh',\n",
       "    'name': 'Alabama Shakes',\n",
       "    'type': 'artist',\n",
       "    'uri': 'spotify:artist:16GcWuvvybAoaHr0NqT8Eh'}],\n",
       "  'disc_number': 1,\n",
       "  'track_number': 1,\n",
       "  'duration_ms': 201612,\n",
       "  'external_ids': {'isrc': 'USATO1400853'},\n",
       "  'external_urls': {'spotify': 'https://open.spotify.com/track/6p5LBZkLRIeVhbLh0w7EuP'},\n",
       "  'href': 'https://api.spotify.com/v1/tracks/6p5LBZkLRIeVhbLh0w7EuP',\n",
       "  'id': '6p5LBZkLRIeVhbLh0w7EuP',\n",
       "  'name': 'Future People',\n",
       "  'popularity': 0,\n",
       "  'uri': 'spotify:track:6p5LBZkLRIeVhbLh0w7EuP',\n",
       "  'is_local': False},\n",
       " 'video_thumbnail': {'url': None}}"
      ]
     },
     "execution_count": 31,
     "metadata": {},
     "output_type": "execute_result"
    }
   ],
   "source": [
    "data['tracks']['items']"
   ]
  },
  {
   "cell_type": "code",
   "execution_count": 34,
   "id": "61c3e966",
   "metadata": {
    "collapsed": true
   },
   "outputs": [
    {
     "ename": "AttributeError",
     "evalue": "'list' object has no attribute 'keys'",
     "output_type": "error",
     "traceback": [
      "\u001b[1;31m---------------------------------------------------------------------------\u001b[0m",
      "\u001b[1;31mAttributeError\u001b[0m                            Traceback (most recent call last)",
      "\u001b[1;32m~\\AppData\\Local\\Temp\\ipykernel_37152\\1164621120.py\u001b[0m in \u001b[0;36m<module>\u001b[1;34m\u001b[0m\n\u001b[1;32m----> 1\u001b[1;33m \u001b[0mdata\u001b[0m\u001b[1;33m[\u001b[0m\u001b[1;34m'tracks'\u001b[0m\u001b[1;33m]\u001b[0m\u001b[1;33m[\u001b[0m\u001b[1;34m'items'\u001b[0m\u001b[1;33m]\u001b[0m\u001b[1;33m.\u001b[0m\u001b[0mkeys\u001b[0m\u001b[1;33m(\u001b[0m\u001b[1;33m)\u001b[0m\u001b[1;33m\u001b[0m\u001b[1;33m\u001b[0m\u001b[0m\n\u001b[0m",
      "\u001b[1;31mAttributeError\u001b[0m: 'list' object has no attribute 'keys'"
     ]
    }
   ],
   "source": [
    "data['tracks']['items']"
   ]
  },
  {
   "cell_type": "code",
   "execution_count": null,
   "id": "49ba0ed1",
   "metadata": {},
   "outputs": [],
   "source": [
    "# to consider: artist, album, realease date, genre, date added"
   ]
  },
  {
   "cell_type": "code",
   "execution_count": null,
   "id": "4446ef14",
   "metadata": {},
   "outputs": [],
   "source": [
    "# decided: genre, artist, bpm, popularity"
   ]
  },
  {
   "cell_type": "code",
   "execution_count": 28,
   "id": "79366570",
   "metadata": {},
   "outputs": [
    {
     "data": {
      "text/plain": [
       "146"
      ]
     },
     "execution_count": 28,
     "metadata": {},
     "output_type": "execute_result"
    }
   ],
   "source": [
    "len(data['tracks']['items'])"
   ]
  },
  {
   "cell_type": "code",
   "execution_count": 30,
   "id": "37f2f57f",
   "metadata": {
    "collapsed": true
   },
   "outputs": [
    {
     "ename": "TypeError",
     "evalue": "'list' object is not callable",
     "output_type": "error",
     "traceback": [
      "\u001b[1;31m---------------------------------------------------------------------------\u001b[0m",
      "\u001b[1;31mTypeError\u001b[0m                                 Traceback (most recent call last)",
      "\u001b[1;32m~\\AppData\\Local\\Temp\\ipykernel_37152\\149821525.py\u001b[0m in \u001b[0;36m<module>\u001b[1;34m\u001b[0m\n\u001b[1;32m----> 1\u001b[1;33m \u001b[0mdata\u001b[0m\u001b[1;33m[\u001b[0m\u001b[1;34m'tracks'\u001b[0m\u001b[1;33m]\u001b[0m\u001b[1;33m[\u001b[0m\u001b[1;34m'items'\u001b[0m\u001b[1;33m]\u001b[0m\u001b[1;33m(\u001b[0m\u001b[1;34m'release_date'\u001b[0m\u001b[1;33m)\u001b[0m\u001b[1;33m\u001b[0m\u001b[1;33m\u001b[0m\u001b[0m\n\u001b[0m",
      "\u001b[1;31mTypeError\u001b[0m: 'list' object is not callable"
     ]
    }
   ],
   "source": [
    "data['tracks']['items']('release_date')"
   ]
  },
  {
   "cell_type": "code",
   "execution_count": 26,
   "id": "50425ce6",
   "metadata": {
    "collapsed": true
   },
   "outputs": [
    {
     "ename": "AttributeError",
     "evalue": "'dict' object has no attribute 'info'",
     "output_type": "error",
     "traceback": [
      "\u001b[1;31m---------------------------------------------------------------------------\u001b[0m",
      "\u001b[1;31mAttributeError\u001b[0m                            Traceback (most recent call last)",
      "\u001b[1;32m~\\AppData\\Local\\Temp\\ipykernel_37152\\169168403.py\u001b[0m in \u001b[0;36m<module>\u001b[1;34m\u001b[0m\n\u001b[1;32m----> 1\u001b[1;33m \u001b[0mdata\u001b[0m\u001b[1;33m.\u001b[0m\u001b[0minfo\u001b[0m\u001b[1;33m(\u001b[0m\u001b[1;33m)\u001b[0m\u001b[1;33m\u001b[0m\u001b[1;33m\u001b[0m\u001b[0m\n\u001b[0m",
      "\u001b[1;31mAttributeError\u001b[0m: 'dict' object has no attribute 'info'"
     ]
    }
   ],
   "source": []
  },
  {
   "cell_type": "code",
   "execution_count": 3,
   "id": "fe971019",
   "metadata": {
    "collapsed": true
   },
   "outputs": [
    {
     "name": "stdout",
     "output_type": "stream",
     "text": [
      "                                                  href  \\\n",
      "0    https://api.spotify.com/v1/playlists/0bw8158RM...   \n",
      "1    https://api.spotify.com/v1/playlists/0bw8158RM...   \n",
      "2    https://api.spotify.com/v1/playlists/0bw8158RM...   \n",
      "3    https://api.spotify.com/v1/playlists/0bw8158RM...   \n",
      "4    https://api.spotify.com/v1/playlists/0bw8158RM...   \n",
      "..                                                 ...   \n",
      "141  https://api.spotify.com/v1/playlists/0bw8158RM...   \n",
      "142  https://api.spotify.com/v1/playlists/0bw8158RM...   \n",
      "143  https://api.spotify.com/v1/playlists/0bw8158RM...   \n",
      "144  https://api.spotify.com/v1/playlists/0bw8158RM...   \n",
      "145  https://api.spotify.com/v1/playlists/0bw8158RM...   \n",
      "\n",
      "                                                 items  limit  \\\n",
      "0    {'added_at': '2017-06-23T23:21:59Z', 'added_by...    100   \n",
      "1    {'added_at': '2017-04-21T17:02:44Z', 'added_by...    100   \n",
      "2    {'added_at': '2017-06-12T22:46:03Z', 'added_by...    100   \n",
      "3    {'added_at': '2017-04-15T00:53:05Z', 'added_by...    100   \n",
      "4    {'added_at': '2017-06-29T23:13:06Z', 'added_by...    100   \n",
      "..                                                 ...    ...   \n",
      "141  {'added_at': '2024-07-02T05:22:56Z', 'added_by...    100   \n",
      "142  {'added_at': '2024-10-06T05:22:15Z', 'added_by...    100   \n",
      "143  {'added_at': '2024-10-06T05:24:37Z', 'added_by...    100   \n",
      "144  {'added_at': '2024-11-07T23:54:43Z', 'added_by...    100   \n",
      "145  {'added_at': '2024-12-12T22:41:56Z', 'added_by...    100   \n",
      "\n",
      "                                                  next  offset previous  total  \n",
      "0    https://api.spotify.com/v1/playlists/0bw8158RM...       0     None    146  \n",
      "1    https://api.spotify.com/v1/playlists/0bw8158RM...       0     None    146  \n",
      "2    https://api.spotify.com/v1/playlists/0bw8158RM...       0     None    146  \n",
      "3    https://api.spotify.com/v1/playlists/0bw8158RM...       0     None    146  \n",
      "4    https://api.spotify.com/v1/playlists/0bw8158RM...       0     None    146  \n",
      "..                                                 ...     ...      ...    ...  \n",
      "141  https://api.spotify.com/v1/playlists/0bw8158RM...       0     None    146  \n",
      "142  https://api.spotify.com/v1/playlists/0bw8158RM...       0     None    146  \n",
      "143  https://api.spotify.com/v1/playlists/0bw8158RM...       0     None    146  \n",
      "144  https://api.spotify.com/v1/playlists/0bw8158RM...       0     None    146  \n",
      "145  https://api.spotify.com/v1/playlists/0bw8158RM...       0     None    146  \n",
      "\n",
      "[146 rows x 7 columns]\n"
     ]
    }
   ],
   "source": [
    "import pandas as pd\n",
    "import json\n",
    "import seaborn as sns\n",
    "jsonFile = json.load(open(\"vetting_playlist.json\"))\n",
    " \n",
    "# Set json data into Pandas DataFrame\n",
    "df = pd.DataFrame(jsonFile[\"tracks\"])\n",
    " \n",
    "# Output DataFrame\n",
    "print(df)"
   ]
  },
  {
   "cell_type": "code",
   "execution_count": 4,
   "id": "d0c1d22b",
   "metadata": {},
   "outputs": [
    {
     "name": "stdout",
     "output_type": "stream",
     "text": [
      "JSON is valid!\n"
     ]
    }
   ],
   "source": [
    "import json\n",
    "with open(\"vetting_playlist.json\", \"r\", encoding=\"utf-8\") as f:\n",
    "    try:\n",
    "        data = json.load(f)\n",
    "        print(\"JSON is valid!\")\n",
    "    except json.JSONDecodeError as e:\n",
    "        print(f\"Invalid JSON: {e}\")\n"
   ]
  },
  {
   "cell_type": "code",
   "execution_count": 5,
   "id": "9bd7a704",
   "metadata": {
    "collapsed": true
   },
   "outputs": [
    {
     "data": {
      "text/plain": [
       "{'added_at': '2017-06-23T23:21:59Z',\n",
       " 'added_by': {'external_urls': {'spotify': 'https://open.spotify.com/user/1225630715'},\n",
       "  'href': 'https://api.spotify.com/v1/users/1225630715',\n",
       "  'id': '1225630715',\n",
       "  'type': 'user',\n",
       "  'uri': 'spotify:user:1225630715'},\n",
       " 'is_local': False,\n",
       " 'primary_color': None,\n",
       " 'track': {'preview_url': None,\n",
       "  'available_markets': [],\n",
       "  'explicit': False,\n",
       "  'type': 'track',\n",
       "  'episode': False,\n",
       "  'track': True,\n",
       "  'album': {'available_markets': [],\n",
       "   'type': 'album',\n",
       "   'album_type': 'album',\n",
       "   'href': 'https://api.spotify.com/v1/albums/6SIib5yrq0saKy08p2IPrB',\n",
       "   'id': '6SIib5yrq0saKy08p2IPrB',\n",
       "   'images': [{'height': 640,\n",
       "     'url': 'https://i.scdn.co/image/ab67616d0000b273c48375f67f100f88207b54bc',\n",
       "     'width': 640},\n",
       "    {'height': 300,\n",
       "     'url': 'https://i.scdn.co/image/ab67616d00001e02c48375f67f100f88207b54bc',\n",
       "     'width': 300},\n",
       "    {'height': 64,\n",
       "     'url': 'https://i.scdn.co/image/ab67616d00004851c48375f67f100f88207b54bc',\n",
       "     'width': 64}],\n",
       "   'name': 'Bad Self Portraits',\n",
       "   'release_date': '2014-02-18',\n",
       "   'release_date_precision': 'day',\n",
       "   'uri': 'spotify:album:6SIib5yrq0saKy08p2IPrB',\n",
       "   'artists': [{'external_urls': {'spotify': 'https://open.spotify.com/artist/3nuc29fYGlQbIrwh4yrNWd'},\n",
       "     'href': 'https://api.spotify.com/v1/artists/3nuc29fYGlQbIrwh4yrNWd',\n",
       "     'id': '3nuc29fYGlQbIrwh4yrNWd',\n",
       "     'name': 'Lake Street Dive',\n",
       "     'type': 'artist',\n",
       "     'uri': 'spotify:artist:3nuc29fYGlQbIrwh4yrNWd'}],\n",
       "   'external_urls': {'spotify': 'https://open.spotify.com/album/6SIib5yrq0saKy08p2IPrB'},\n",
       "   'total_tracks': 11},\n",
       "  'artists': [{'external_urls': {'spotify': 'https://open.spotify.com/artist/3nuc29fYGlQbIrwh4yrNWd'},\n",
       "    'href': 'https://api.spotify.com/v1/artists/3nuc29fYGlQbIrwh4yrNWd',\n",
       "    'id': '3nuc29fYGlQbIrwh4yrNWd',\n",
       "    'name': 'Lake Street Dive',\n",
       "    'type': 'artist',\n",
       "    'uri': 'spotify:artist:3nuc29fYGlQbIrwh4yrNWd'}],\n",
       "  'disc_number': 1,\n",
       "  'track_number': 3,\n",
       "  'duration_ms': 215879,\n",
       "  'external_ids': {'isrc': 'USFMT1406103'},\n",
       "  'external_urls': {'spotify': 'https://open.spotify.com/track/0NSEZeWHkYCknk1nAVO1Fh'},\n",
       "  'href': 'https://api.spotify.com/v1/tracks/0NSEZeWHkYCknk1nAVO1Fh',\n",
       "  'id': '0NSEZeWHkYCknk1nAVO1Fh',\n",
       "  'name': 'Better Than',\n",
       "  'popularity': 0,\n",
       "  'uri': 'spotify:track:0NSEZeWHkYCknk1nAVO1Fh',\n",
       "  'is_local': False},\n",
       " 'video_thumbnail': {'url': None}}"
      ]
     },
     "execution_count": 5,
     "metadata": {},
     "output_type": "execute_result"
    }
   ],
   "source": [
    "df[\"items\"].iloc[0]"
   ]
  },
  {
   "cell_type": "code",
   "execution_count": 21,
   "id": "70a2101e",
   "metadata": {
    "collapsed": true
   },
   "outputs": [
    {
     "ename": "NameError",
     "evalue": "name 'items' is not defined",
     "output_type": "error",
     "traceback": [
      "\u001b[1;31m---------------------------------------------------------------------------\u001b[0m",
      "\u001b[1;31mNameError\u001b[0m                                 Traceback (most recent call last)",
      "\u001b[1;32m~\\AppData\\Local\\Temp\\ipykernel_37152\\2757367147.py\u001b[0m in \u001b[0;36m<module>\u001b[1;34m\u001b[0m\n\u001b[1;32m----> 1\u001b[1;33m \u001b[0mdf\u001b[0m\u001b[1;33m[\u001b[0m\u001b[0mitems\u001b[0m\u001b[1;33m]\u001b[0m\u001b[1;33m.\u001b[0m\u001b[0minfo\u001b[0m\u001b[1;33m(\u001b[0m\u001b[1;33m)\u001b[0m\u001b[1;33m\u001b[0m\u001b[1;33m\u001b[0m\u001b[0m\n\u001b[0m",
      "\u001b[1;31mNameError\u001b[0m: name 'items' is not defined"
     ]
    }
   ],
   "source": [
    "df[items].info()"
   ]
  },
  {
   "cell_type": "code",
   "execution_count": 6,
   "id": "bfc2b359",
   "metadata": {
    "collapsed": true
   },
   "outputs": [
    {
     "name": "stdout",
     "output_type": "stream",
     "text": [
      "<class 'pandas.core.frame.DataFrame'>\n",
      "RangeIndex: 146 entries, 0 to 145\n",
      "Data columns (total 7 columns):\n",
      " #   Column    Non-Null Count  Dtype \n",
      "---  ------    --------------  ----- \n",
      " 0   href      146 non-null    object\n",
      " 1   items     146 non-null    object\n",
      " 2   limit     146 non-null    int64 \n",
      " 3   next      146 non-null    object\n",
      " 4   offset    146 non-null    int64 \n",
      " 5   previous  0 non-null      object\n",
      " 6   total     146 non-null    int64 \n",
      "dtypes: int64(3), object(4)\n",
      "memory usage: 8.1+ KB\n"
     ]
    }
   ],
   "source": [
    "df.info()"
   ]
  },
  {
   "cell_type": "code",
   "execution_count": 7,
   "id": "740f9427",
   "metadata": {
    "collapsed": true
   },
   "outputs": [
    {
     "data": {
      "text/html": [
       "<div>\n",
       "<style scoped>\n",
       "    .dataframe tbody tr th:only-of-type {\n",
       "        vertical-align: middle;\n",
       "    }\n",
       "\n",
       "    .dataframe tbody tr th {\n",
       "        vertical-align: top;\n",
       "    }\n",
       "\n",
       "    .dataframe thead th {\n",
       "        text-align: right;\n",
       "    }\n",
       "</style>\n",
       "<table border=\"1\" class=\"dataframe\">\n",
       "  <thead>\n",
       "    <tr style=\"text-align: right;\">\n",
       "      <th></th>\n",
       "      <th>href</th>\n",
       "      <th>items</th>\n",
       "      <th>limit</th>\n",
       "      <th>next</th>\n",
       "      <th>offset</th>\n",
       "      <th>previous</th>\n",
       "      <th>total</th>\n",
       "    </tr>\n",
       "  </thead>\n",
       "  <tbody>\n",
       "    <tr>\n",
       "      <th>0</th>\n",
       "      <td>https://api.spotify.com/v1/playlists/0bw8158RM...</td>\n",
       "      <td>{'added_at': '2017-06-23T23:21:59Z', 'added_by...</td>\n",
       "      <td>100</td>\n",
       "      <td>https://api.spotify.com/v1/playlists/0bw8158RM...</td>\n",
       "      <td>0</td>\n",
       "      <td>None</td>\n",
       "      <td>146</td>\n",
       "    </tr>\n",
       "    <tr>\n",
       "      <th>1</th>\n",
       "      <td>https://api.spotify.com/v1/playlists/0bw8158RM...</td>\n",
       "      <td>{'added_at': '2017-04-21T17:02:44Z', 'added_by...</td>\n",
       "      <td>100</td>\n",
       "      <td>https://api.spotify.com/v1/playlists/0bw8158RM...</td>\n",
       "      <td>0</td>\n",
       "      <td>None</td>\n",
       "      <td>146</td>\n",
       "    </tr>\n",
       "    <tr>\n",
       "      <th>2</th>\n",
       "      <td>https://api.spotify.com/v1/playlists/0bw8158RM...</td>\n",
       "      <td>{'added_at': '2017-06-12T22:46:03Z', 'added_by...</td>\n",
       "      <td>100</td>\n",
       "      <td>https://api.spotify.com/v1/playlists/0bw8158RM...</td>\n",
       "      <td>0</td>\n",
       "      <td>None</td>\n",
       "      <td>146</td>\n",
       "    </tr>\n",
       "    <tr>\n",
       "      <th>3</th>\n",
       "      <td>https://api.spotify.com/v1/playlists/0bw8158RM...</td>\n",
       "      <td>{'added_at': '2017-04-15T00:53:05Z', 'added_by...</td>\n",
       "      <td>100</td>\n",
       "      <td>https://api.spotify.com/v1/playlists/0bw8158RM...</td>\n",
       "      <td>0</td>\n",
       "      <td>None</td>\n",
       "      <td>146</td>\n",
       "    </tr>\n",
       "    <tr>\n",
       "      <th>4</th>\n",
       "      <td>https://api.spotify.com/v1/playlists/0bw8158RM...</td>\n",
       "      <td>{'added_at': '2017-06-29T23:13:06Z', 'added_by...</td>\n",
       "      <td>100</td>\n",
       "      <td>https://api.spotify.com/v1/playlists/0bw8158RM...</td>\n",
       "      <td>0</td>\n",
       "      <td>None</td>\n",
       "      <td>146</td>\n",
       "    </tr>\n",
       "  </tbody>\n",
       "</table>\n",
       "</div>"
      ],
      "text/plain": [
       "                                                href  \\\n",
       "0  https://api.spotify.com/v1/playlists/0bw8158RM...   \n",
       "1  https://api.spotify.com/v1/playlists/0bw8158RM...   \n",
       "2  https://api.spotify.com/v1/playlists/0bw8158RM...   \n",
       "3  https://api.spotify.com/v1/playlists/0bw8158RM...   \n",
       "4  https://api.spotify.com/v1/playlists/0bw8158RM...   \n",
       "\n",
       "                                               items  limit  \\\n",
       "0  {'added_at': '2017-06-23T23:21:59Z', 'added_by...    100   \n",
       "1  {'added_at': '2017-04-21T17:02:44Z', 'added_by...    100   \n",
       "2  {'added_at': '2017-06-12T22:46:03Z', 'added_by...    100   \n",
       "3  {'added_at': '2017-04-15T00:53:05Z', 'added_by...    100   \n",
       "4  {'added_at': '2017-06-29T23:13:06Z', 'added_by...    100   \n",
       "\n",
       "                                                next  offset previous  total  \n",
       "0  https://api.spotify.com/v1/playlists/0bw8158RM...       0     None    146  \n",
       "1  https://api.spotify.com/v1/playlists/0bw8158RM...       0     None    146  \n",
       "2  https://api.spotify.com/v1/playlists/0bw8158RM...       0     None    146  \n",
       "3  https://api.spotify.com/v1/playlists/0bw8158RM...       0     None    146  \n",
       "4  https://api.spotify.com/v1/playlists/0bw8158RM...       0     None    146  "
      ]
     },
     "execution_count": 7,
     "metadata": {},
     "output_type": "execute_result"
    }
   ],
   "source": [
    "df.head()"
   ]
  },
  {
   "cell_type": "code",
   "execution_count": 8,
   "id": "617fa305",
   "metadata": {},
   "outputs": [],
   "source": [
    "import pandas as pd\n",
    "\n",
    "df_expanded = df[\"items\"].apply(pd.json_normalize)\n"
   ]
  },
  {
   "cell_type": "code",
   "execution_count": 9,
   "id": "ffa4ed27",
   "metadata": {},
   "outputs": [],
   "source": [
    "import json\n",
    "\n",
    "def extract_track_info(row):\n",
    "    item = json.loads(row) if isinstance(row, str) else row  # Convert string JSON if necessary\n",
    "    track_name = item.get(\"track\", {}).get(\"name\", \"Unknown\")\n",
    "    artist_name = item.get(\"track\", {}).get(\"artists\", [{}])[0].get(\"name\", \"Unknown\")\n",
    "    return pd.Series([track_name, artist_name])\n",
    "\n",
    "df[[\"track_name\", \"artist_name\"]] = df[\"items\"].apply(extract_track_info)\n"
   ]
  },
  {
   "cell_type": "code",
   "execution_count": 10,
   "id": "4566c57f",
   "metadata": {
    "collapsed": true
   },
   "outputs": [
    {
     "name": "stdout",
     "output_type": "stream",
     "text": [
      "<class 'pandas.core.frame.DataFrame'>\n",
      "RangeIndex: 146 entries, 0 to 145\n",
      "Data columns (total 9 columns):\n",
      " #   Column       Non-Null Count  Dtype \n",
      "---  ------       --------------  ----- \n",
      " 0   href         146 non-null    object\n",
      " 1   items        146 non-null    object\n",
      " 2   limit        146 non-null    int64 \n",
      " 3   next         146 non-null    object\n",
      " 4   offset       146 non-null    int64 \n",
      " 5   previous     0 non-null      object\n",
      " 6   total        146 non-null    int64 \n",
      " 7   track_name   146 non-null    object\n",
      " 8   artist_name  146 non-null    object\n",
      "dtypes: int64(3), object(6)\n",
      "memory usage: 10.4+ KB\n"
     ]
    }
   ],
   "source": [
    "df.info()"
   ]
  },
  {
   "cell_type": "code",
   "execution_count": 11,
   "id": "edd510d1",
   "metadata": {
    "collapsed": true
   },
   "outputs": [
    {
     "name": "stdout",
     "output_type": "stream",
     "text": [
      "<class 'pandas.core.series.Series'>\n",
      "RangeIndex: 146 entries, 0 to 145\n",
      "Series name: items\n",
      "Non-Null Count  Dtype \n",
      "--------------  ----- \n",
      "146 non-null    object\n",
      "dtypes: object(1)\n",
      "memory usage: 1.3+ KB\n"
     ]
    }
   ],
   "source": [
    "df_expanded.info()"
   ]
  },
  {
   "cell_type": "code",
   "execution_count": 12,
   "id": "95aa283d",
   "metadata": {
    "collapsed": true
   },
   "outputs": [
    {
     "data": {
      "text/plain": [
       "0                   added_at  is_local primary_colo...\n",
       "1                   added_at  is_local primary_colo...\n",
       "2                   added_at  is_local primary_colo...\n",
       "3                   added_at  is_local primary_colo...\n",
       "4                   added_at  is_local primary_colo...\n",
       "Name: items, dtype: object"
      ]
     },
     "execution_count": 12,
     "metadata": {},
     "output_type": "execute_result"
    }
   ],
   "source": [
    "df_expanded.head()"
   ]
  },
  {
   "cell_type": "code",
   "execution_count": 13,
   "id": "4baf5ecf",
   "metadata": {},
   "outputs": [],
   "source": [
    "artists = pd.read_json(\"artists_0-999.json\")"
   ]
  },
  {
   "cell_type": "code",
   "execution_count": 14,
   "id": "c5a7b108",
   "metadata": {
    "collapsed": true
   },
   "outputs": [
    {
     "ename": "ValueError",
     "evalue": "Mixing dicts with non-Series may lead to ambiguous ordering.",
     "output_type": "error",
     "traceback": [
      "\u001b[1;31m---------------------------------------------------------------------------\u001b[0m",
      "\u001b[1;31mValueError\u001b[0m                                Traceback (most recent call last)",
      "\u001b[1;32m~\\AppData\\Local\\Temp\\ipykernel_37152\\3999359256.py\u001b[0m in \u001b[0;36m<module>\u001b[1;34m\u001b[0m\n\u001b[1;32m----> 1\u001b[1;33m \u001b[0mmpd\u001b[0m \u001b[1;33m=\u001b[0m \u001b[0mpd\u001b[0m\u001b[1;33m.\u001b[0m\u001b[0mread_json\u001b[0m\u001b[1;33m(\u001b[0m\u001b[1;34m\"mpd.slice.0-999.json\"\u001b[0m\u001b[1;33m)\u001b[0m\u001b[1;33m\u001b[0m\u001b[1;33m\u001b[0m\u001b[0m\n\u001b[0m",
      "\u001b[1;32mC:\\ProgramData\\Anaconda3\\lib\\site-packages\\pandas\\util\\_decorators.py\u001b[0m in \u001b[0;36mwrapper\u001b[1;34m(*args, **kwargs)\u001b[0m\n\u001b[0;32m    205\u001b[0m                 \u001b[1;32melse\u001b[0m\u001b[1;33m:\u001b[0m\u001b[1;33m\u001b[0m\u001b[1;33m\u001b[0m\u001b[0m\n\u001b[0;32m    206\u001b[0m                     \u001b[0mkwargs\u001b[0m\u001b[1;33m[\u001b[0m\u001b[0mnew_arg_name\u001b[0m\u001b[1;33m]\u001b[0m \u001b[1;33m=\u001b[0m \u001b[0mnew_arg_value\u001b[0m\u001b[1;33m\u001b[0m\u001b[1;33m\u001b[0m\u001b[0m\n\u001b[1;32m--> 207\u001b[1;33m             \u001b[1;32mreturn\u001b[0m \u001b[0mfunc\u001b[0m\u001b[1;33m(\u001b[0m\u001b[1;33m*\u001b[0m\u001b[0margs\u001b[0m\u001b[1;33m,\u001b[0m \u001b[1;33m**\u001b[0m\u001b[0mkwargs\u001b[0m\u001b[1;33m)\u001b[0m\u001b[1;33m\u001b[0m\u001b[1;33m\u001b[0m\u001b[0m\n\u001b[0m\u001b[0;32m    208\u001b[0m \u001b[1;33m\u001b[0m\u001b[0m\n\u001b[0;32m    209\u001b[0m         \u001b[1;32mreturn\u001b[0m \u001b[0mcast\u001b[0m\u001b[1;33m(\u001b[0m\u001b[0mF\u001b[0m\u001b[1;33m,\u001b[0m \u001b[0mwrapper\u001b[0m\u001b[1;33m)\u001b[0m\u001b[1;33m\u001b[0m\u001b[1;33m\u001b[0m\u001b[0m\n",
      "\u001b[1;32mC:\\ProgramData\\Anaconda3\\lib\\site-packages\\pandas\\util\\_decorators.py\u001b[0m in \u001b[0;36mwrapper\u001b[1;34m(*args, **kwargs)\u001b[0m\n\u001b[0;32m    309\u001b[0m                     \u001b[0mstacklevel\u001b[0m\u001b[1;33m=\u001b[0m\u001b[0mstacklevel\u001b[0m\u001b[1;33m,\u001b[0m\u001b[1;33m\u001b[0m\u001b[1;33m\u001b[0m\u001b[0m\n\u001b[0;32m    310\u001b[0m                 )\n\u001b[1;32m--> 311\u001b[1;33m             \u001b[1;32mreturn\u001b[0m \u001b[0mfunc\u001b[0m\u001b[1;33m(\u001b[0m\u001b[1;33m*\u001b[0m\u001b[0margs\u001b[0m\u001b[1;33m,\u001b[0m \u001b[1;33m**\u001b[0m\u001b[0mkwargs\u001b[0m\u001b[1;33m)\u001b[0m\u001b[1;33m\u001b[0m\u001b[1;33m\u001b[0m\u001b[0m\n\u001b[0m\u001b[0;32m    312\u001b[0m \u001b[1;33m\u001b[0m\u001b[0m\n\u001b[0;32m    313\u001b[0m         \u001b[1;32mreturn\u001b[0m \u001b[0mwrapper\u001b[0m\u001b[1;33m\u001b[0m\u001b[1;33m\u001b[0m\u001b[0m\n",
      "\u001b[1;32mC:\\ProgramData\\Anaconda3\\lib\\site-packages\\pandas\\io\\json\\_json.py\u001b[0m in \u001b[0;36mread_json\u001b[1;34m(path_or_buf, orient, typ, dtype, convert_axes, convert_dates, keep_default_dates, numpy, precise_float, date_unit, encoding, encoding_errors, lines, chunksize, compression, nrows, storage_options)\u001b[0m\n\u001b[0;32m    610\u001b[0m \u001b[1;33m\u001b[0m\u001b[0m\n\u001b[0;32m    611\u001b[0m     \u001b[1;32mwith\u001b[0m \u001b[0mjson_reader\u001b[0m\u001b[1;33m:\u001b[0m\u001b[1;33m\u001b[0m\u001b[1;33m\u001b[0m\u001b[0m\n\u001b[1;32m--> 612\u001b[1;33m         \u001b[1;32mreturn\u001b[0m \u001b[0mjson_reader\u001b[0m\u001b[1;33m.\u001b[0m\u001b[0mread\u001b[0m\u001b[1;33m(\u001b[0m\u001b[1;33m)\u001b[0m\u001b[1;33m\u001b[0m\u001b[1;33m\u001b[0m\u001b[0m\n\u001b[0m\u001b[0;32m    613\u001b[0m \u001b[1;33m\u001b[0m\u001b[0m\n\u001b[0;32m    614\u001b[0m \u001b[1;33m\u001b[0m\u001b[0m\n",
      "\u001b[1;32mC:\\ProgramData\\Anaconda3\\lib\\site-packages\\pandas\\io\\json\\_json.py\u001b[0m in \u001b[0;36mread\u001b[1;34m(self)\u001b[0m\n\u001b[0;32m    744\u001b[0m                 \u001b[0mobj\u001b[0m \u001b[1;33m=\u001b[0m \u001b[0mself\u001b[0m\u001b[1;33m.\u001b[0m\u001b[0m_get_object_parser\u001b[0m\u001b[1;33m(\u001b[0m\u001b[0mself\u001b[0m\u001b[1;33m.\u001b[0m\u001b[0m_combine_lines\u001b[0m\u001b[1;33m(\u001b[0m\u001b[0mdata_lines\u001b[0m\u001b[1;33m)\u001b[0m\u001b[1;33m)\u001b[0m\u001b[1;33m\u001b[0m\u001b[1;33m\u001b[0m\u001b[0m\n\u001b[0;32m    745\u001b[0m         \u001b[1;32melse\u001b[0m\u001b[1;33m:\u001b[0m\u001b[1;33m\u001b[0m\u001b[1;33m\u001b[0m\u001b[0m\n\u001b[1;32m--> 746\u001b[1;33m             \u001b[0mobj\u001b[0m \u001b[1;33m=\u001b[0m \u001b[0mself\u001b[0m\u001b[1;33m.\u001b[0m\u001b[0m_get_object_parser\u001b[0m\u001b[1;33m(\u001b[0m\u001b[0mself\u001b[0m\u001b[1;33m.\u001b[0m\u001b[0mdata\u001b[0m\u001b[1;33m)\u001b[0m\u001b[1;33m\u001b[0m\u001b[1;33m\u001b[0m\u001b[0m\n\u001b[0m\u001b[0;32m    747\u001b[0m         \u001b[0mself\u001b[0m\u001b[1;33m.\u001b[0m\u001b[0mclose\u001b[0m\u001b[1;33m(\u001b[0m\u001b[1;33m)\u001b[0m\u001b[1;33m\u001b[0m\u001b[1;33m\u001b[0m\u001b[0m\n\u001b[0;32m    748\u001b[0m         \u001b[1;32mreturn\u001b[0m \u001b[0mobj\u001b[0m\u001b[1;33m\u001b[0m\u001b[1;33m\u001b[0m\u001b[0m\n",
      "\u001b[1;32mC:\\ProgramData\\Anaconda3\\lib\\site-packages\\pandas\\io\\json\\_json.py\u001b[0m in \u001b[0;36m_get_object_parser\u001b[1;34m(self, json)\u001b[0m\n\u001b[0;32m    766\u001b[0m         \u001b[0mobj\u001b[0m \u001b[1;33m=\u001b[0m \u001b[1;32mNone\u001b[0m\u001b[1;33m\u001b[0m\u001b[1;33m\u001b[0m\u001b[0m\n\u001b[0;32m    767\u001b[0m         \u001b[1;32mif\u001b[0m \u001b[0mtyp\u001b[0m \u001b[1;33m==\u001b[0m \u001b[1;34m\"frame\"\u001b[0m\u001b[1;33m:\u001b[0m\u001b[1;33m\u001b[0m\u001b[1;33m\u001b[0m\u001b[0m\n\u001b[1;32m--> 768\u001b[1;33m             \u001b[0mobj\u001b[0m \u001b[1;33m=\u001b[0m \u001b[0mFrameParser\u001b[0m\u001b[1;33m(\u001b[0m\u001b[0mjson\u001b[0m\u001b[1;33m,\u001b[0m \u001b[1;33m**\u001b[0m\u001b[0mkwargs\u001b[0m\u001b[1;33m)\u001b[0m\u001b[1;33m.\u001b[0m\u001b[0mparse\u001b[0m\u001b[1;33m(\u001b[0m\u001b[1;33m)\u001b[0m\u001b[1;33m\u001b[0m\u001b[1;33m\u001b[0m\u001b[0m\n\u001b[0m\u001b[0;32m    769\u001b[0m \u001b[1;33m\u001b[0m\u001b[0m\n\u001b[0;32m    770\u001b[0m         \u001b[1;32mif\u001b[0m \u001b[0mtyp\u001b[0m \u001b[1;33m==\u001b[0m \u001b[1;34m\"series\"\u001b[0m \u001b[1;32mor\u001b[0m \u001b[0mobj\u001b[0m \u001b[1;32mis\u001b[0m \u001b[1;32mNone\u001b[0m\u001b[1;33m:\u001b[0m\u001b[1;33m\u001b[0m\u001b[1;33m\u001b[0m\u001b[0m\n",
      "\u001b[1;32mC:\\ProgramData\\Anaconda3\\lib\\site-packages\\pandas\\io\\json\\_json.py\u001b[0m in \u001b[0;36mparse\u001b[1;34m(self)\u001b[0m\n\u001b[0;32m    878\u001b[0m             \u001b[0mself\u001b[0m\u001b[1;33m.\u001b[0m\u001b[0m_parse_numpy\u001b[0m\u001b[1;33m(\u001b[0m\u001b[1;33m)\u001b[0m\u001b[1;33m\u001b[0m\u001b[1;33m\u001b[0m\u001b[0m\n\u001b[0;32m    879\u001b[0m         \u001b[1;32melse\u001b[0m\u001b[1;33m:\u001b[0m\u001b[1;33m\u001b[0m\u001b[1;33m\u001b[0m\u001b[0m\n\u001b[1;32m--> 880\u001b[1;33m             \u001b[0mself\u001b[0m\u001b[1;33m.\u001b[0m\u001b[0m_parse_no_numpy\u001b[0m\u001b[1;33m(\u001b[0m\u001b[1;33m)\u001b[0m\u001b[1;33m\u001b[0m\u001b[1;33m\u001b[0m\u001b[0m\n\u001b[0m\u001b[0;32m    881\u001b[0m \u001b[1;33m\u001b[0m\u001b[0m\n\u001b[0;32m    882\u001b[0m         \u001b[1;32mif\u001b[0m \u001b[0mself\u001b[0m\u001b[1;33m.\u001b[0m\u001b[0mobj\u001b[0m \u001b[1;32mis\u001b[0m \u001b[1;32mNone\u001b[0m\u001b[1;33m:\u001b[0m\u001b[1;33m\u001b[0m\u001b[1;33m\u001b[0m\u001b[0m\n",
      "\u001b[1;32mC:\\ProgramData\\Anaconda3\\lib\\site-packages\\pandas\\io\\json\\_json.py\u001b[0m in \u001b[0;36m_parse_no_numpy\u001b[1;34m(self)\u001b[0m\n\u001b[0;32m   1130\u001b[0m \u001b[1;33m\u001b[0m\u001b[0m\n\u001b[0;32m   1131\u001b[0m         \u001b[1;32mif\u001b[0m \u001b[0morient\u001b[0m \u001b[1;33m==\u001b[0m \u001b[1;34m\"columns\"\u001b[0m\u001b[1;33m:\u001b[0m\u001b[1;33m\u001b[0m\u001b[1;33m\u001b[0m\u001b[0m\n\u001b[1;32m-> 1132\u001b[1;33m             self.obj = DataFrame(\n\u001b[0m\u001b[0;32m   1133\u001b[0m                 \u001b[0mloads\u001b[0m\u001b[1;33m(\u001b[0m\u001b[0mjson\u001b[0m\u001b[1;33m,\u001b[0m \u001b[0mprecise_float\u001b[0m\u001b[1;33m=\u001b[0m\u001b[0mself\u001b[0m\u001b[1;33m.\u001b[0m\u001b[0mprecise_float\u001b[0m\u001b[1;33m)\u001b[0m\u001b[1;33m,\u001b[0m \u001b[0mdtype\u001b[0m\u001b[1;33m=\u001b[0m\u001b[1;32mNone\u001b[0m\u001b[1;33m\u001b[0m\u001b[1;33m\u001b[0m\u001b[0m\n\u001b[0;32m   1134\u001b[0m             )\n",
      "\u001b[1;32mC:\\ProgramData\\Anaconda3\\lib\\site-packages\\pandas\\core\\frame.py\u001b[0m in \u001b[0;36m__init__\u001b[1;34m(self, data, index, columns, dtype, copy)\u001b[0m\n\u001b[0;32m    634\u001b[0m         \u001b[1;32melif\u001b[0m \u001b[0misinstance\u001b[0m\u001b[1;33m(\u001b[0m\u001b[0mdata\u001b[0m\u001b[1;33m,\u001b[0m \u001b[0mdict\u001b[0m\u001b[1;33m)\u001b[0m\u001b[1;33m:\u001b[0m\u001b[1;33m\u001b[0m\u001b[1;33m\u001b[0m\u001b[0m\n\u001b[0;32m    635\u001b[0m             \u001b[1;31m# GH#38939 de facto copy defaults to False only in non-dict cases\u001b[0m\u001b[1;33m\u001b[0m\u001b[1;33m\u001b[0m\u001b[0m\n\u001b[1;32m--> 636\u001b[1;33m             \u001b[0mmgr\u001b[0m \u001b[1;33m=\u001b[0m \u001b[0mdict_to_mgr\u001b[0m\u001b[1;33m(\u001b[0m\u001b[0mdata\u001b[0m\u001b[1;33m,\u001b[0m \u001b[0mindex\u001b[0m\u001b[1;33m,\u001b[0m \u001b[0mcolumns\u001b[0m\u001b[1;33m,\u001b[0m \u001b[0mdtype\u001b[0m\u001b[1;33m=\u001b[0m\u001b[0mdtype\u001b[0m\u001b[1;33m,\u001b[0m \u001b[0mcopy\u001b[0m\u001b[1;33m=\u001b[0m\u001b[0mcopy\u001b[0m\u001b[1;33m,\u001b[0m \u001b[0mtyp\u001b[0m\u001b[1;33m=\u001b[0m\u001b[0mmanager\u001b[0m\u001b[1;33m)\u001b[0m\u001b[1;33m\u001b[0m\u001b[1;33m\u001b[0m\u001b[0m\n\u001b[0m\u001b[0;32m    637\u001b[0m         \u001b[1;32melif\u001b[0m \u001b[0misinstance\u001b[0m\u001b[1;33m(\u001b[0m\u001b[0mdata\u001b[0m\u001b[1;33m,\u001b[0m \u001b[0mma\u001b[0m\u001b[1;33m.\u001b[0m\u001b[0mMaskedArray\u001b[0m\u001b[1;33m)\u001b[0m\u001b[1;33m:\u001b[0m\u001b[1;33m\u001b[0m\u001b[1;33m\u001b[0m\u001b[0m\n\u001b[0;32m    638\u001b[0m             \u001b[1;32mimport\u001b[0m \u001b[0mnumpy\u001b[0m\u001b[1;33m.\u001b[0m\u001b[0mma\u001b[0m\u001b[1;33m.\u001b[0m\u001b[0mmrecords\u001b[0m \u001b[1;32mas\u001b[0m \u001b[0mmrecords\u001b[0m\u001b[1;33m\u001b[0m\u001b[1;33m\u001b[0m\u001b[0m\n",
      "\u001b[1;32mC:\\ProgramData\\Anaconda3\\lib\\site-packages\\pandas\\core\\internals\\construction.py\u001b[0m in \u001b[0;36mdict_to_mgr\u001b[1;34m(data, index, columns, dtype, typ, copy)\u001b[0m\n\u001b[0;32m    500\u001b[0m         \u001b[1;31m# TODO: can we get rid of the dt64tz special case above?\u001b[0m\u001b[1;33m\u001b[0m\u001b[1;33m\u001b[0m\u001b[0m\n\u001b[0;32m    501\u001b[0m \u001b[1;33m\u001b[0m\u001b[0m\n\u001b[1;32m--> 502\u001b[1;33m     \u001b[1;32mreturn\u001b[0m \u001b[0marrays_to_mgr\u001b[0m\u001b[1;33m(\u001b[0m\u001b[0marrays\u001b[0m\u001b[1;33m,\u001b[0m \u001b[0mcolumns\u001b[0m\u001b[1;33m,\u001b[0m \u001b[0mindex\u001b[0m\u001b[1;33m,\u001b[0m \u001b[0mdtype\u001b[0m\u001b[1;33m=\u001b[0m\u001b[0mdtype\u001b[0m\u001b[1;33m,\u001b[0m \u001b[0mtyp\u001b[0m\u001b[1;33m=\u001b[0m\u001b[0mtyp\u001b[0m\u001b[1;33m,\u001b[0m \u001b[0mconsolidate\u001b[0m\u001b[1;33m=\u001b[0m\u001b[0mcopy\u001b[0m\u001b[1;33m)\u001b[0m\u001b[1;33m\u001b[0m\u001b[1;33m\u001b[0m\u001b[0m\n\u001b[0m\u001b[0;32m    503\u001b[0m \u001b[1;33m\u001b[0m\u001b[0m\n\u001b[0;32m    504\u001b[0m \u001b[1;33m\u001b[0m\u001b[0m\n",
      "\u001b[1;32mC:\\ProgramData\\Anaconda3\\lib\\site-packages\\pandas\\core\\internals\\construction.py\u001b[0m in \u001b[0;36marrays_to_mgr\u001b[1;34m(arrays, columns, index, dtype, verify_integrity, typ, consolidate)\u001b[0m\n\u001b[0;32m    118\u001b[0m         \u001b[1;31m# figure out the index, if necessary\u001b[0m\u001b[1;33m\u001b[0m\u001b[1;33m\u001b[0m\u001b[0m\n\u001b[0;32m    119\u001b[0m         \u001b[1;32mif\u001b[0m \u001b[0mindex\u001b[0m \u001b[1;32mis\u001b[0m \u001b[1;32mNone\u001b[0m\u001b[1;33m:\u001b[0m\u001b[1;33m\u001b[0m\u001b[1;33m\u001b[0m\u001b[0m\n\u001b[1;32m--> 120\u001b[1;33m             \u001b[0mindex\u001b[0m \u001b[1;33m=\u001b[0m \u001b[0m_extract_index\u001b[0m\u001b[1;33m(\u001b[0m\u001b[0marrays\u001b[0m\u001b[1;33m)\u001b[0m\u001b[1;33m\u001b[0m\u001b[1;33m\u001b[0m\u001b[0m\n\u001b[0m\u001b[0;32m    121\u001b[0m         \u001b[1;32melse\u001b[0m\u001b[1;33m:\u001b[0m\u001b[1;33m\u001b[0m\u001b[1;33m\u001b[0m\u001b[0m\n\u001b[0;32m    122\u001b[0m             \u001b[0mindex\u001b[0m \u001b[1;33m=\u001b[0m \u001b[0mensure_index\u001b[0m\u001b[1;33m(\u001b[0m\u001b[0mindex\u001b[0m\u001b[1;33m)\u001b[0m\u001b[1;33m\u001b[0m\u001b[1;33m\u001b[0m\u001b[0m\n",
      "\u001b[1;32mC:\\ProgramData\\Anaconda3\\lib\\site-packages\\pandas\\core\\internals\\construction.py\u001b[0m in \u001b[0;36m_extract_index\u001b[1;34m(data)\u001b[0m\n\u001b[0;32m    675\u001b[0m \u001b[1;33m\u001b[0m\u001b[0m\n\u001b[0;32m    676\u001b[0m             \u001b[1;32mif\u001b[0m \u001b[0mhave_dicts\u001b[0m\u001b[1;33m:\u001b[0m\u001b[1;33m\u001b[0m\u001b[1;33m\u001b[0m\u001b[0m\n\u001b[1;32m--> 677\u001b[1;33m                 raise ValueError(\n\u001b[0m\u001b[0;32m    678\u001b[0m                     \u001b[1;34m\"Mixing dicts with non-Series may lead to ambiguous ordering.\"\u001b[0m\u001b[1;33m\u001b[0m\u001b[1;33m\u001b[0m\u001b[0m\n\u001b[0;32m    679\u001b[0m                 )\n",
      "\u001b[1;31mValueError\u001b[0m: Mixing dicts with non-Series may lead to ambiguous ordering."
     ]
    }
   ],
   "source": [
    "mpd = pd.read_json(\"mpd.slice.0-999.json\")"
   ]
  },
  {
   "cell_type": "code",
   "execution_count": null,
   "id": "f42a15aa",
   "metadata": {},
   "outputs": [],
   "source": []
  },
  {
   "cell_type": "code",
   "execution_count": 15,
   "id": "a1905126",
   "metadata": {
    "collapsed": true
   },
   "outputs": [
    {
     "data": {
      "text/html": [
       "<div>\n",
       "<style scoped>\n",
       "    .dataframe tbody tr th:only-of-type {\n",
       "        vertical-align: middle;\n",
       "    }\n",
       "\n",
       "    .dataframe tbody tr th {\n",
       "        vertical-align: top;\n",
       "    }\n",
       "\n",
       "    .dataframe thead th {\n",
       "        text-align: right;\n",
       "    }\n",
       "</style>\n",
       "<table border=\"1\" class=\"dataframe\">\n",
       "  <thead>\n",
       "    <tr style=\"text-align: right;\">\n",
       "      <th></th>\n",
       "      <th>2wIVse2owClT7go1WT98tk</th>\n",
       "      <th>26dSoYclwsYLMAKD3tpOr4</th>\n",
       "      <th>6vWDO969PvNqNYHIOW5v0m</th>\n",
       "      <th>31TPClRtHm23RisEBtV3X7</th>\n",
       "      <th>5EvFsr3kj42KNv97ZEnqij</th>\n",
       "      <th>23zg3TcAtWQy7J6upgbUnj</th>\n",
       "      <th>6wPhSqRtPu1UhRCDX5yaDJ</th>\n",
       "      <th>1Y8cdNmUJH7yBTd9yOvr5i</th>\n",
       "      <th>1G9G7WwrXka3Z1r7aIDjI7</th>\n",
       "      <th>2jw70GZXlAI8QzWeY2bgRc</th>\n",
       "      <th>...</th>\n",
       "      <th>5xxkw4ElO0WX3v4i1W5kAQ</th>\n",
       "      <th>1llFhhYvVi6kC2bfKoPw2k</th>\n",
       "      <th>70bIIPbBQeaFzRrIfahMEM</th>\n",
       "      <th>3jBjP8GvB5zigSypIcs0pW</th>\n",
       "      <th>6gySlC6ptVBqnzwrMFUDX0</th>\n",
       "      <th>04BsVprJtIhl2C4fgPEz4W</th>\n",
       "      <th>5HCypjplgh5uQezvBpOfXN</th>\n",
       "      <th>1r2kTJ27zuaEoXasQT5NDd</th>\n",
       "      <th>0sHN89qak07mnug3LVVjzP</th>\n",
       "      <th>77bNdkKYBBmc30CisCA6tE</th>\n",
       "    </tr>\n",
       "  </thead>\n",
       "  <tbody>\n",
       "    <tr>\n",
       "      <th>external_urls</th>\n",
       "      <td>{'spotify': 'https://open.spotify.com/artist/2...</td>\n",
       "      <td>{'spotify': 'https://open.spotify.com/artist/2...</td>\n",
       "      <td>{'spotify': 'https://open.spotify.com/artist/6...</td>\n",
       "      <td>{'spotify': 'https://open.spotify.com/artist/3...</td>\n",
       "      <td>{'spotify': 'https://open.spotify.com/artist/5...</td>\n",
       "      <td>{'spotify': 'https://open.spotify.com/artist/2...</td>\n",
       "      <td>{'spotify': 'https://open.spotify.com/artist/6...</td>\n",
       "      <td>{'spotify': 'https://open.spotify.com/artist/1...</td>\n",
       "      <td>{'spotify': 'https://open.spotify.com/artist/1...</td>\n",
       "      <td>{'spotify': 'https://open.spotify.com/artist/2...</td>\n",
       "      <td>...</td>\n",
       "      <td>{'spotify': 'https://open.spotify.com/artist/5...</td>\n",
       "      <td>{'spotify': 'https://open.spotify.com/artist/1...</td>\n",
       "      <td>{'spotify': 'https://open.spotify.com/artist/7...</td>\n",
       "      <td>{'spotify': 'https://open.spotify.com/artist/3...</td>\n",
       "      <td>{'spotify': 'https://open.spotify.com/artist/6...</td>\n",
       "      <td>{'spotify': 'https://open.spotify.com/artist/0...</td>\n",
       "      <td>{'spotify': 'https://open.spotify.com/artist/5...</td>\n",
       "      <td>{'spotify': 'https://open.spotify.com/artist/1...</td>\n",
       "      <td>{'spotify': 'https://open.spotify.com/artist/0...</td>\n",
       "      <td>{'spotify': 'https://open.spotify.com/artist/7...</td>\n",
       "    </tr>\n",
       "    <tr>\n",
       "      <th>followers</th>\n",
       "      <td>{'href': None, 'total': 2386591}</td>\n",
       "      <td>{'href': None, 'total': 13836642}</td>\n",
       "      <td>{'href': None, 'total': 36504075}</td>\n",
       "      <td>{'href': None, 'total': 13667356}</td>\n",
       "      <td>{'href': None, 'total': 2099287}</td>\n",
       "      <td>{'href': None, 'total': 10974183}</td>\n",
       "      <td>{'href': None, 'total': 5502730}</td>\n",
       "      <td>{'href': None, 'total': 6932798}</td>\n",
       "      <td>{'href': None, 'total': 2518660}</td>\n",
       "      <td>{'href': None, 'total': 3717288}</td>\n",
       "      <td>...</td>\n",
       "      <td>{'href': None, 'total': 30404}</td>\n",
       "      <td>{'href': None, 'total': 40111}</td>\n",
       "      <td>{'href': None, 'total': 11074}</td>\n",
       "      <td>{'href': None, 'total': 1797}</td>\n",
       "      <td>{'href': None, 'total': 780}</td>\n",
       "      <td>{'href': None, 'total': 17366}</td>\n",
       "      <td>{'href': None, 'total': 5693}</td>\n",
       "      <td>{'href': None, 'total': 2168}</td>\n",
       "      <td>{'href': None, 'total': 16658}</td>\n",
       "      <td>{'href': None, 'total': 216}</td>\n",
       "    </tr>\n",
       "    <tr>\n",
       "      <th>genres</th>\n",
       "      <td>[dance pop, hip hop, hip pop, neo soul, pop ra...</td>\n",
       "      <td>[dance pop, pop]</td>\n",
       "      <td>[pop, r&amp;b]</td>\n",
       "      <td>[dance pop, pop]</td>\n",
       "      <td>[pop rap, reggae fusion]</td>\n",
       "      <td>[atl hip hop, contemporary r&amp;b, dance pop, pop...</td>\n",
       "      <td>[dance pop, girl group, pop]</td>\n",
       "      <td>[dance pop, girl group, pop, r&amp;b, urban contem...</td>\n",
       "      <td>[atl hip hop, dirty south rap, hip hop, old sc...</td>\n",
       "      <td>[canadian latin, canadian pop, dance pop, pop]</td>\n",
       "      <td>...</td>\n",
       "      <td>[irish singer-songwriter]</td>\n",
       "      <td>[cleveland indie]</td>\n",
       "      <td>[]</td>\n",
       "      <td>[]</td>\n",
       "      <td>[]</td>\n",
       "      <td>[]</td>\n",
       "      <td>[channel pop]</td>\n",
       "      <td>[]</td>\n",
       "      <td>[australian r&amp;b]</td>\n",
       "      <td>[]</td>\n",
       "    </tr>\n",
       "    <tr>\n",
       "      <th>href</th>\n",
       "      <td>https://api.spotify.com/v1/artists/2wIVse2owCl...</td>\n",
       "      <td>https://api.spotify.com/v1/artists/26dSoYclwsY...</td>\n",
       "      <td>https://api.spotify.com/v1/artists/6vWDO969PvN...</td>\n",
       "      <td>https://api.spotify.com/v1/artists/31TPClRtHm2...</td>\n",
       "      <td>https://api.spotify.com/v1/artists/5EvFsr3kj42...</td>\n",
       "      <td>https://api.spotify.com/v1/artists/23zg3TcAtWQ...</td>\n",
       "      <td>https://api.spotify.com/v1/artists/6wPhSqRtPu1...</td>\n",
       "      <td>https://api.spotify.com/v1/artists/1Y8cdNmUJH7...</td>\n",
       "      <td>https://api.spotify.com/v1/artists/1G9G7WwrXka...</td>\n",
       "      <td>https://api.spotify.com/v1/artists/2jw70GZXlAI...</td>\n",
       "      <td>...</td>\n",
       "      <td>https://api.spotify.com/v1/artists/5xxkw4ElO0W...</td>\n",
       "      <td>https://api.spotify.com/v1/artists/1llFhhYvVi6...</td>\n",
       "      <td>https://api.spotify.com/v1/artists/70bIIPbBQea...</td>\n",
       "      <td>https://api.spotify.com/v1/artists/3jBjP8GvB5z...</td>\n",
       "      <td>https://api.spotify.com/v1/artists/6gySlC6ptVB...</td>\n",
       "      <td>https://api.spotify.com/v1/artists/04BsVprJtIh...</td>\n",
       "      <td>https://api.spotify.com/v1/artists/5HCypjplgh5...</td>\n",
       "      <td>https://api.spotify.com/v1/artists/1r2kTJ27zua...</td>\n",
       "      <td>https://api.spotify.com/v1/artists/0sHN89qak07...</td>\n",
       "      <td>https://api.spotify.com/v1/artists/77bNdkKYBBm...</td>\n",
       "    </tr>\n",
       "    <tr>\n",
       "      <th>id</th>\n",
       "      <td>2wIVse2owClT7go1WT98tk</td>\n",
       "      <td>26dSoYclwsYLMAKD3tpOr4</td>\n",
       "      <td>6vWDO969PvNqNYHIOW5v0m</td>\n",
       "      <td>31TPClRtHm23RisEBtV3X7</td>\n",
       "      <td>5EvFsr3kj42KNv97ZEnqij</td>\n",
       "      <td>23zg3TcAtWQy7J6upgbUnj</td>\n",
       "      <td>6wPhSqRtPu1UhRCDX5yaDJ</td>\n",
       "      <td>1Y8cdNmUJH7yBTd9yOvr5i</td>\n",
       "      <td>1G9G7WwrXka3Z1r7aIDjI7</td>\n",
       "      <td>2jw70GZXlAI8QzWeY2bgRc</td>\n",
       "      <td>...</td>\n",
       "      <td>5xxkw4ElO0WX3v4i1W5kAQ</td>\n",
       "      <td>1llFhhYvVi6kC2bfKoPw2k</td>\n",
       "      <td>70bIIPbBQeaFzRrIfahMEM</td>\n",
       "      <td>3jBjP8GvB5zigSypIcs0pW</td>\n",
       "      <td>6gySlC6ptVBqnzwrMFUDX0</td>\n",
       "      <td>04BsVprJtIhl2C4fgPEz4W</td>\n",
       "      <td>5HCypjplgh5uQezvBpOfXN</td>\n",
       "      <td>1r2kTJ27zuaEoXasQT5NDd</td>\n",
       "      <td>0sHN89qak07mnug3LVVjzP</td>\n",
       "      <td>77bNdkKYBBmc30CisCA6tE</td>\n",
       "    </tr>\n",
       "  </tbody>\n",
       "</table>\n",
       "<p>5 rows × 9723 columns</p>\n",
       "</div>"
      ],
      "text/plain": [
       "                                          2wIVse2owClT7go1WT98tk  \\\n",
       "external_urls  {'spotify': 'https://open.spotify.com/artist/2...   \n",
       "followers                       {'href': None, 'total': 2386591}   \n",
       "genres         [dance pop, hip hop, hip pop, neo soul, pop ra...   \n",
       "href           https://api.spotify.com/v1/artists/2wIVse2owCl...   \n",
       "id                                        2wIVse2owClT7go1WT98tk   \n",
       "\n",
       "                                          26dSoYclwsYLMAKD3tpOr4  \\\n",
       "external_urls  {'spotify': 'https://open.spotify.com/artist/2...   \n",
       "followers                      {'href': None, 'total': 13836642}   \n",
       "genres                                          [dance pop, pop]   \n",
       "href           https://api.spotify.com/v1/artists/26dSoYclwsY...   \n",
       "id                                        26dSoYclwsYLMAKD3tpOr4   \n",
       "\n",
       "                                          6vWDO969PvNqNYHIOW5v0m  \\\n",
       "external_urls  {'spotify': 'https://open.spotify.com/artist/6...   \n",
       "followers                      {'href': None, 'total': 36504075}   \n",
       "genres                                                [pop, r&b]   \n",
       "href           https://api.spotify.com/v1/artists/6vWDO969PvN...   \n",
       "id                                        6vWDO969PvNqNYHIOW5v0m   \n",
       "\n",
       "                                          31TPClRtHm23RisEBtV3X7  \\\n",
       "external_urls  {'spotify': 'https://open.spotify.com/artist/3...   \n",
       "followers                      {'href': None, 'total': 13667356}   \n",
       "genres                                          [dance pop, pop]   \n",
       "href           https://api.spotify.com/v1/artists/31TPClRtHm2...   \n",
       "id                                        31TPClRtHm23RisEBtV3X7   \n",
       "\n",
       "                                          5EvFsr3kj42KNv97ZEnqij  \\\n",
       "external_urls  {'spotify': 'https://open.spotify.com/artist/5...   \n",
       "followers                       {'href': None, 'total': 2099287}   \n",
       "genres                                  [pop rap, reggae fusion]   \n",
       "href           https://api.spotify.com/v1/artists/5EvFsr3kj42...   \n",
       "id                                        5EvFsr3kj42KNv97ZEnqij   \n",
       "\n",
       "                                          23zg3TcAtWQy7J6upgbUnj  \\\n",
       "external_urls  {'spotify': 'https://open.spotify.com/artist/2...   \n",
       "followers                      {'href': None, 'total': 10974183}   \n",
       "genres         [atl hip hop, contemporary r&b, dance pop, pop...   \n",
       "href           https://api.spotify.com/v1/artists/23zg3TcAtWQ...   \n",
       "id                                        23zg3TcAtWQy7J6upgbUnj   \n",
       "\n",
       "                                          6wPhSqRtPu1UhRCDX5yaDJ  \\\n",
       "external_urls  {'spotify': 'https://open.spotify.com/artist/6...   \n",
       "followers                       {'href': None, 'total': 5502730}   \n",
       "genres                              [dance pop, girl group, pop]   \n",
       "href           https://api.spotify.com/v1/artists/6wPhSqRtPu1...   \n",
       "id                                        6wPhSqRtPu1UhRCDX5yaDJ   \n",
       "\n",
       "                                          1Y8cdNmUJH7yBTd9yOvr5i  \\\n",
       "external_urls  {'spotify': 'https://open.spotify.com/artist/1...   \n",
       "followers                       {'href': None, 'total': 6932798}   \n",
       "genres         [dance pop, girl group, pop, r&b, urban contem...   \n",
       "href           https://api.spotify.com/v1/artists/1Y8cdNmUJH7...   \n",
       "id                                        1Y8cdNmUJH7yBTd9yOvr5i   \n",
       "\n",
       "                                          1G9G7WwrXka3Z1r7aIDjI7  \\\n",
       "external_urls  {'spotify': 'https://open.spotify.com/artist/1...   \n",
       "followers                       {'href': None, 'total': 2518660}   \n",
       "genres         [atl hip hop, dirty south rap, hip hop, old sc...   \n",
       "href           https://api.spotify.com/v1/artists/1G9G7WwrXka...   \n",
       "id                                        1G9G7WwrXka3Z1r7aIDjI7   \n",
       "\n",
       "                                          2jw70GZXlAI8QzWeY2bgRc  ...  \\\n",
       "external_urls  {'spotify': 'https://open.spotify.com/artist/2...  ...   \n",
       "followers                       {'href': None, 'total': 3717288}  ...   \n",
       "genres            [canadian latin, canadian pop, dance pop, pop]  ...   \n",
       "href           https://api.spotify.com/v1/artists/2jw70GZXlAI...  ...   \n",
       "id                                        2jw70GZXlAI8QzWeY2bgRc  ...   \n",
       "\n",
       "                                          5xxkw4ElO0WX3v4i1W5kAQ  \\\n",
       "external_urls  {'spotify': 'https://open.spotify.com/artist/5...   \n",
       "followers                         {'href': None, 'total': 30404}   \n",
       "genres                                 [irish singer-songwriter]   \n",
       "href           https://api.spotify.com/v1/artists/5xxkw4ElO0W...   \n",
       "id                                        5xxkw4ElO0WX3v4i1W5kAQ   \n",
       "\n",
       "                                          1llFhhYvVi6kC2bfKoPw2k  \\\n",
       "external_urls  {'spotify': 'https://open.spotify.com/artist/1...   \n",
       "followers                         {'href': None, 'total': 40111}   \n",
       "genres                                         [cleveland indie]   \n",
       "href           https://api.spotify.com/v1/artists/1llFhhYvVi6...   \n",
       "id                                        1llFhhYvVi6kC2bfKoPw2k   \n",
       "\n",
       "                                          70bIIPbBQeaFzRrIfahMEM  \\\n",
       "external_urls  {'spotify': 'https://open.spotify.com/artist/7...   \n",
       "followers                         {'href': None, 'total': 11074}   \n",
       "genres                                                        []   \n",
       "href           https://api.spotify.com/v1/artists/70bIIPbBQea...   \n",
       "id                                        70bIIPbBQeaFzRrIfahMEM   \n",
       "\n",
       "                                          3jBjP8GvB5zigSypIcs0pW  \\\n",
       "external_urls  {'spotify': 'https://open.spotify.com/artist/3...   \n",
       "followers                          {'href': None, 'total': 1797}   \n",
       "genres                                                        []   \n",
       "href           https://api.spotify.com/v1/artists/3jBjP8GvB5z...   \n",
       "id                                        3jBjP8GvB5zigSypIcs0pW   \n",
       "\n",
       "                                          6gySlC6ptVBqnzwrMFUDX0  \\\n",
       "external_urls  {'spotify': 'https://open.spotify.com/artist/6...   \n",
       "followers                           {'href': None, 'total': 780}   \n",
       "genres                                                        []   \n",
       "href           https://api.spotify.com/v1/artists/6gySlC6ptVB...   \n",
       "id                                        6gySlC6ptVBqnzwrMFUDX0   \n",
       "\n",
       "                                          04BsVprJtIhl2C4fgPEz4W  \\\n",
       "external_urls  {'spotify': 'https://open.spotify.com/artist/0...   \n",
       "followers                         {'href': None, 'total': 17366}   \n",
       "genres                                                        []   \n",
       "href           https://api.spotify.com/v1/artists/04BsVprJtIh...   \n",
       "id                                        04BsVprJtIhl2C4fgPEz4W   \n",
       "\n",
       "                                          5HCypjplgh5uQezvBpOfXN  \\\n",
       "external_urls  {'spotify': 'https://open.spotify.com/artist/5...   \n",
       "followers                          {'href': None, 'total': 5693}   \n",
       "genres                                             [channel pop]   \n",
       "href           https://api.spotify.com/v1/artists/5HCypjplgh5...   \n",
       "id                                        5HCypjplgh5uQezvBpOfXN   \n",
       "\n",
       "                                          1r2kTJ27zuaEoXasQT5NDd  \\\n",
       "external_urls  {'spotify': 'https://open.spotify.com/artist/1...   \n",
       "followers                          {'href': None, 'total': 2168}   \n",
       "genres                                                        []   \n",
       "href           https://api.spotify.com/v1/artists/1r2kTJ27zua...   \n",
       "id                                        1r2kTJ27zuaEoXasQT5NDd   \n",
       "\n",
       "                                          0sHN89qak07mnug3LVVjzP  \\\n",
       "external_urls  {'spotify': 'https://open.spotify.com/artist/0...   \n",
       "followers                         {'href': None, 'total': 16658}   \n",
       "genres                                          [australian r&b]   \n",
       "href           https://api.spotify.com/v1/artists/0sHN89qak07...   \n",
       "id                                        0sHN89qak07mnug3LVVjzP   \n",
       "\n",
       "                                          77bNdkKYBBmc30CisCA6tE  \n",
       "external_urls  {'spotify': 'https://open.spotify.com/artist/7...  \n",
       "followers                           {'href': None, 'total': 216}  \n",
       "genres                                                        []  \n",
       "href           https://api.spotify.com/v1/artists/77bNdkKYBBm...  \n",
       "id                                        77bNdkKYBBmc30CisCA6tE  \n",
       "\n",
       "[5 rows x 9723 columns]"
      ]
     },
     "execution_count": 15,
     "metadata": {},
     "output_type": "execute_result"
    }
   ],
   "source": [
    "artists.head()"
   ]
  },
  {
   "cell_type": "code",
   "execution_count": 19,
   "id": "9f20cc9b",
   "metadata": {},
   "outputs": [
    {
     "ename": "NameError",
     "evalue": "name 'items' is not defined",
     "output_type": "error",
     "traceback": [
      "\u001b[1;31m---------------------------------------------------------------------------\u001b[0m",
      "\u001b[1;31mNameError\u001b[0m                                 Traceback (most recent call last)",
      "\u001b[1;32m~\\AppData\\Local\\Temp\\ipykernel_37152\\2757367147.py\u001b[0m in \u001b[0;36m<module>\u001b[1;34m\u001b[0m\n\u001b[1;32m----> 1\u001b[1;33m \u001b[0mdf\u001b[0m\u001b[1;33m[\u001b[0m\u001b[0mitems\u001b[0m\u001b[1;33m]\u001b[0m\u001b[1;33m.\u001b[0m\u001b[0minfo\u001b[0m\u001b[1;33m(\u001b[0m\u001b[1;33m)\u001b[0m\u001b[1;33m\u001b[0m\u001b[1;33m\u001b[0m\u001b[0m\n\u001b[0m",
      "\u001b[1;31mNameError\u001b[0m: name 'items' is not defined"
     ]
    }
   ],
   "source": [
    "df[items].info()"
   ]
  },
  {
   "cell_type": "code",
   "execution_count": null,
   "id": "a17477f5",
   "metadata": {},
   "outputs": [],
   "source": []
  }
 ],
 "metadata": {
  "kernelspec": {
   "display_name": "Python 3 (ipykernel)",
   "language": "python",
   "name": "python3"
  },
  "language_info": {
   "codemirror_mode": {
    "name": "ipython",
    "version": 3
   },
   "file_extension": ".py",
   "mimetype": "text/x-python",
   "name": "python",
   "nbconvert_exporter": "python",
   "pygments_lexer": "ipython3",
   "version": "3.9.13"
  }
 },
 "nbformat": 4,
 "nbformat_minor": 5
}
