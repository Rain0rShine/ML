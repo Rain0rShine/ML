{
 "cells": [
  {
   "cell_type": "code",
   "execution_count": 26,
   "id": "93002b23",
   "metadata": {},
   "outputs": [],
   "source": [
    "import pandas as pd\n",
    "import numpy as np\n",
    "import seaborn as sns\n",
    "import json\n",
    "from bs4 import BeautifulSoup\n",
    "import numpy as np\n",
    "import requests\n",
    "from sklearn.cluster import DBSCAN\n",
    "from sklearn.preprocessing import StandardScaler\n",
    "from sklearn.decomposition import PCA\n",
    "\n",
    "import matplotlib.pyplot as plt\n",
    "from sklearn.datasets import make_blobs\n",
    "from sklearn.metrics import silhouette_samples, silhouette_score\n",
    "from sklearn.cluster import KMeans\n",
    "from sklearn.model_selection import train_test_split"
   ]
  },
  {
   "cell_type": "code",
   "execution_count": 2,
   "id": "241f9eff",
   "metadata": {},
   "outputs": [],
   "source": [
    "with open('vetting_playlist.json', 'r') as file:\n",
    "    data1 = json.load(file)"
   ]
  },
  {
   "cell_type": "code",
   "execution_count": 3,
   "id": "b8e96864",
   "metadata": {},
   "outputs": [],
   "source": [
    "#data1.keys()\n",
    "#This is for someone else"
   ]
  },
  {
   "cell_type": "code",
   "execution_count": 4,
   "id": "850e5856",
   "metadata": {},
   "outputs": [],
   "source": [
    "file_paths = [\n",
    "    'mpd.slice.15000-15999.json',\n",
    "]\n",
    "\n",
    "all_data = []\n",
    "\n",
    "for file_path in file_paths:\n",
    "    with open(file_path, 'r') as file:\n",
    "        data = json.load(file)\n",
    "        for playlist in data['playlists']:\n",
    "            playlist_name = playlist['name']\n",
    "            for track in playlist['tracks']:\n",
    "                all_data.append({\n",
    "                    \"playlist_name\": playlist_name,\n",
    "                    \"position_in_playlist\": track[\"pos\"],\n",
    "                    \"track_id\": track['track_uri'],\n",
    "                    \"track_name\": track['track_name'],\n",
    "                    \"artist_name\": track['artist_name'],\n",
    "                    \"duration_ms\": track['duration_ms'],\n",
    "                    \"album_name\": track['album_name']\n",
    "                })\n",
    "                # Add and remove for DBSCAN\n",
    "                if len(all_data) >= 1000:\n",
    "                    break\n",
    "            if len(all_data) >= 1000:\n",
    "                break\n",
    "        if len(all_data) >= 1000:\n",
    "            break\n",
    "df = pd.DataFrame(all_data)"
   ]
  },
  {
   "cell_type": "code",
   "execution_count": 5,
   "id": "df16fded",
   "metadata": {},
   "outputs": [
    {
     "name": "stdout",
     "output_type": "stream",
     "text": [
      "<class 'pandas.core.frame.DataFrame'>\n",
      "RangeIndex: 1000 entries, 0 to 999\n",
      "Data columns (total 7 columns):\n",
      " #   Column                Non-Null Count  Dtype \n",
      "---  ------                --------------  ----- \n",
      " 0   playlist_name         1000 non-null   object\n",
      " 1   position_in_playlist  1000 non-null   int64 \n",
      " 2   track_id              1000 non-null   object\n",
      " 3   track_name            1000 non-null   object\n",
      " 4   artist_name           1000 non-null   object\n",
      " 5   duration_ms           1000 non-null   int64 \n",
      " 6   album_name            1000 non-null   object\n",
      "dtypes: int64(2), object(5)\n",
      "memory usage: 54.8+ KB\n"
     ]
    }
   ],
   "source": [
    "df.info()"
   ]
  },
  {
   "cell_type": "code",
   "execution_count": 6,
   "id": "bb2b4638",
   "metadata": {},
   "outputs": [],
   "source": [
    "# Count how many playlists each track appears in\n",
    "track_counts = df.groupby(['track_id', 'track_name', 'artist_name']).size().reset_index(name='count')"
   ]
  },
  {
   "cell_type": "code",
   "execution_count": 7,
   "id": "1fc6f4f6",
   "metadata": {},
   "outputs": [],
   "source": [
    "# Normalize counts to a popularity score (1-10)\n",
    "min_count = track_counts['count'].min()\n",
    "max_count = track_counts['count'].max()\n",
    "track_counts['popularity_score'] = (\n",
    "    ((track_counts['count'] - min_count) / (max_count - min_count) * 9 + 1\n",
    ").astype(int))"
   ]
  },
  {
   "cell_type": "code",
   "execution_count": 8,
   "id": "4c9ac0ab",
   "metadata": {},
   "outputs": [],
   "source": [
    "# Merge popularity scores back into the original DataFrame\n",
    "df_with_popularity = df.merge(\n",
    "    track_counts[['track_id', 'popularity_score']],\n",
    "    on='track_id',\n",
    "    how='left'\n",
    ")"
   ]
  },
  {
   "cell_type": "markdown",
   "id": "89143f2d",
   "metadata": {},
   "source": [
    "# Popularity Score\n",
    "\n",
    "## What Does the Score Tell You?\n",
    "#### High Popularity Score (8-10):\n",
    "\n",
    "#### Tracks with high scores are included in many playlists, indicating they are widely popular or well-liked.\n",
    "\n",
    "#### Medium Popularity Score (4-7):\n",
    "\n",
    "#### Tracks with medium scores are moderately popular and appear in a reasonable number of playlists.\n",
    "\n",
    "#### Low Popularity Score (1-3):\n",
    "\n",
    "#### Tracks with low scores are less popular and appear in only a few playlists."
   ]
  },
  {
   "cell_type": "code",
   "execution_count": 9,
   "id": "9b21c978",
   "metadata": {},
   "outputs": [
    {
     "data": {
      "text/plain": [
       "0      1\n",
       "1      1\n",
       "2      1\n",
       "3      1\n",
       "4      1\n",
       "      ..\n",
       "995    1\n",
       "996    1\n",
       "997    1\n",
       "998    1\n",
       "999    1\n",
       "Name: popularity_score, Length: 1000, dtype: int32"
      ]
     },
     "execution_count": 9,
     "metadata": {},
     "output_type": "execute_result"
    }
   ],
   "source": [
    "df_with_popularity['popularity_score']"
   ]
  },
  {
   "cell_type": "code",
   "execution_count": 27,
   "id": "3acfd450",
   "metadata": {},
   "outputs": [
    {
     "data": {
      "text/html": [
       "<div>\n",
       "<style scoped>\n",
       "    .dataframe tbody tr th:only-of-type {\n",
       "        vertical-align: middle;\n",
       "    }\n",
       "\n",
       "    .dataframe tbody tr th {\n",
       "        vertical-align: top;\n",
       "    }\n",
       "\n",
       "    .dataframe thead th {\n",
       "        text-align: right;\n",
       "    }\n",
       "</style>\n",
       "<table border=\"1\" class=\"dataframe\">\n",
       "  <thead>\n",
       "    <tr style=\"text-align: right;\">\n",
       "      <th></th>\n",
       "      <th>playlist_name</th>\n",
       "      <th>position_in_playlist</th>\n",
       "      <th>track_id</th>\n",
       "      <th>track_name</th>\n",
       "      <th>artist_name</th>\n",
       "      <th>duration_ms</th>\n",
       "      <th>album_name</th>\n",
       "      <th>popularity_score</th>\n",
       "    </tr>\n",
       "  </thead>\n",
       "  <tbody>\n",
       "    <tr>\n",
       "      <th>0</th>\n",
       "      <td>Wedding Music</td>\n",
       "      <td>0</td>\n",
       "      <td>spotify:track:2rb4cO7RczQFSvpjTJ4C2P</td>\n",
       "      <td>Always Forever</td>\n",
       "      <td>Phil Wickham</td>\n",
       "      <td>281880</td>\n",
       "      <td>Phil Wickham</td>\n",
       "      <td>1</td>\n",
       "    </tr>\n",
       "    <tr>\n",
       "      <th>1</th>\n",
       "      <td>Wedding Music</td>\n",
       "      <td>1</td>\n",
       "      <td>spotify:track:017nSBNU2XHwMV0NCWZCqg</td>\n",
       "      <td>Divine Romance</td>\n",
       "      <td>Phil Wickham</td>\n",
       "      <td>298026</td>\n",
       "      <td>Phil Wickham</td>\n",
       "      <td>1</td>\n",
       "    </tr>\n",
       "    <tr>\n",
       "      <th>2</th>\n",
       "      <td>Wedding Music</td>\n",
       "      <td>2</td>\n",
       "      <td>spotify:track:0W5TB5VNs0J16suh3r67P1</td>\n",
       "      <td>Messiah / You're Beautiful</td>\n",
       "      <td>Phil Wickham</td>\n",
       "      <td>293720</td>\n",
       "      <td>Cannons</td>\n",
       "      <td>1</td>\n",
       "    </tr>\n",
       "    <tr>\n",
       "      <th>3</th>\n",
       "      <td>Wedding Music</td>\n",
       "      <td>3</td>\n",
       "      <td>spotify:track:1gBnG1MiTNBBVzmuwP7Wii</td>\n",
       "      <td>Love Is Not A Fight</td>\n",
       "      <td>Warren Barfield</td>\n",
       "      <td>222986</td>\n",
       "      <td>Worth Fighting For</td>\n",
       "      <td>1</td>\n",
       "    </tr>\n",
       "    <tr>\n",
       "      <th>4</th>\n",
       "      <td>Wedding Music</td>\n",
       "      <td>4</td>\n",
       "      <td>spotify:track:0b99xsUKkETGwZGzpX987r</td>\n",
       "      <td>When I Say I Do</td>\n",
       "      <td>Matthew West</td>\n",
       "      <td>246000</td>\n",
       "      <td>Hold You Up EP</td>\n",
       "      <td>1</td>\n",
       "    </tr>\n",
       "    <tr>\n",
       "      <th>...</th>\n",
       "      <td>...</td>\n",
       "      <td>...</td>\n",
       "      <td>...</td>\n",
       "      <td>...</td>\n",
       "      <td>...</td>\n",
       "      <td>...</td>\n",
       "      <td>...</td>\n",
       "      <td>...</td>\n",
       "    </tr>\n",
       "    <tr>\n",
       "      <th>995</th>\n",
       "      <td>house/edm</td>\n",
       "      <td>30</td>\n",
       "      <td>spotify:track:6GX1zjEDqeI6ogBtkFjleM</td>\n",
       "      <td>Perfect - Matoma Remix</td>\n",
       "      <td>One Direction</td>\n",
       "      <td>223826</td>\n",
       "      <td>Perfect - EP</td>\n",
       "      <td>1</td>\n",
       "    </tr>\n",
       "    <tr>\n",
       "      <th>996</th>\n",
       "      <td>house/edm</td>\n",
       "      <td>31</td>\n",
       "      <td>spotify:track:1bYuKo7Ph4qS5Klw9zzD74</td>\n",
       "      <td>Last Night Of Our Lives - Radio Edit</td>\n",
       "      <td>Manse</td>\n",
       "      <td>181500</td>\n",
       "      <td>Last Night Of Our Lives</td>\n",
       "      <td>1</td>\n",
       "    </tr>\n",
       "    <tr>\n",
       "      <th>997</th>\n",
       "      <td>house/edm</td>\n",
       "      <td>32</td>\n",
       "      <td>spotify:track:0tICYNayWWhH9GPeFrfjfD</td>\n",
       "      <td>This Girl (Kungs Vs. Cookin' On 3 Burners) - K...</td>\n",
       "      <td>Kungs</td>\n",
       "      <td>195546</td>\n",
       "      <td>Layers</td>\n",
       "      <td>1</td>\n",
       "    </tr>\n",
       "    <tr>\n",
       "      <th>998</th>\n",
       "      <td>house/edm</td>\n",
       "      <td>33</td>\n",
       "      <td>spotify:track:0NF4I7fY4eRKpDA6fPJkZT</td>\n",
       "      <td>Tell Me</td>\n",
       "      <td>Kaaze</td>\n",
       "      <td>173906</td>\n",
       "      <td>Tell Me</td>\n",
       "      <td>1</td>\n",
       "    </tr>\n",
       "    <tr>\n",
       "      <th>999</th>\n",
       "      <td>house/edm</td>\n",
       "      <td>34</td>\n",
       "      <td>spotify:track:7GnR8O4LXHdVTZxzsQMRWz</td>\n",
       "      <td>Into the Sunset - Headhunterz Radio Edit</td>\n",
       "      <td>Crystal Lake</td>\n",
       "      <td>192187</td>\n",
       "      <td>Into the Sunset</td>\n",
       "      <td>1</td>\n",
       "    </tr>\n",
       "  </tbody>\n",
       "</table>\n",
       "<p>944 rows × 8 columns</p>\n",
       "</div>"
      ],
      "text/plain": [
       "     playlist_name  position_in_playlist  \\\n",
       "0    Wedding Music                     0   \n",
       "1    Wedding Music                     1   \n",
       "2    Wedding Music                     2   \n",
       "3    Wedding Music                     3   \n",
       "4    Wedding Music                     4   \n",
       "..             ...                   ...   \n",
       "995      house/edm                    30   \n",
       "996      house/edm                    31   \n",
       "997      house/edm                    32   \n",
       "998      house/edm                    33   \n",
       "999      house/edm                    34   \n",
       "\n",
       "                                 track_id  \\\n",
       "0    spotify:track:2rb4cO7RczQFSvpjTJ4C2P   \n",
       "1    spotify:track:017nSBNU2XHwMV0NCWZCqg   \n",
       "2    spotify:track:0W5TB5VNs0J16suh3r67P1   \n",
       "3    spotify:track:1gBnG1MiTNBBVzmuwP7Wii   \n",
       "4    spotify:track:0b99xsUKkETGwZGzpX987r   \n",
       "..                                    ...   \n",
       "995  spotify:track:6GX1zjEDqeI6ogBtkFjleM   \n",
       "996  spotify:track:1bYuKo7Ph4qS5Klw9zzD74   \n",
       "997  spotify:track:0tICYNayWWhH9GPeFrfjfD   \n",
       "998  spotify:track:0NF4I7fY4eRKpDA6fPJkZT   \n",
       "999  spotify:track:7GnR8O4LXHdVTZxzsQMRWz   \n",
       "\n",
       "                                            track_name      artist_name  \\\n",
       "0                                       Always Forever     Phil Wickham   \n",
       "1                                       Divine Romance     Phil Wickham   \n",
       "2                           Messiah / You're Beautiful     Phil Wickham   \n",
       "3                                  Love Is Not A Fight  Warren Barfield   \n",
       "4                                      When I Say I Do     Matthew West   \n",
       "..                                                 ...              ...   \n",
       "995                             Perfect - Matoma Remix    One Direction   \n",
       "996               Last Night Of Our Lives - Radio Edit            Manse   \n",
       "997  This Girl (Kungs Vs. Cookin' On 3 Burners) - K...            Kungs   \n",
       "998                                            Tell Me            Kaaze   \n",
       "999           Into the Sunset - Headhunterz Radio Edit     Crystal Lake   \n",
       "\n",
       "     duration_ms               album_name  popularity_score  \n",
       "0         281880             Phil Wickham                 1  \n",
       "1         298026             Phil Wickham                 1  \n",
       "2         293720                  Cannons                 1  \n",
       "3         222986       Worth Fighting For                 1  \n",
       "4         246000           Hold You Up EP                 1  \n",
       "..           ...                      ...               ...  \n",
       "995       223826             Perfect - EP                 1  \n",
       "996       181500  Last Night Of Our Lives                 1  \n",
       "997       195546                   Layers                 1  \n",
       "998       173906                  Tell Me                 1  \n",
       "999       192187          Into the Sunset                 1  \n",
       "\n",
       "[944 rows x 8 columns]"
      ]
     },
     "execution_count": 27,
     "metadata": {},
     "output_type": "execute_result"
    }
   ],
   "source": [
    "df_with_popularity[df_with_popularity['popularity_score'] == 1]"
   ]
  },
  {
   "cell_type": "code",
   "execution_count": 28,
   "id": "b5875f87",
   "metadata": {},
   "outputs": [
    {
     "name": "stdout",
     "output_type": "stream",
     "text": [
      "<class 'pandas.core.frame.DataFrame'>\n",
      "RangeIndex: 1000 entries, 0 to 999\n",
      "Data columns (total 7 columns):\n",
      " #   Column                Non-Null Count  Dtype \n",
      "---  ------                --------------  ----- \n",
      " 0   playlist_name         1000 non-null   object\n",
      " 1   position_in_playlist  1000 non-null   int64 \n",
      " 2   track_id              1000 non-null   object\n",
      " 3   track_name            1000 non-null   object\n",
      " 4   artist_name           1000 non-null   object\n",
      " 5   duration_ms           1000 non-null   int64 \n",
      " 6   album_name            1000 non-null   object\n",
      "dtypes: int64(2), object(5)\n",
      "memory usage: 54.8+ KB\n"
     ]
    }
   ],
   "source": [
    "df.info()"
   ]
  },
  {
   "cell_type": "code",
   "execution_count": 29,
   "id": "e4161ab1",
   "metadata": {},
   "outputs": [
    {
     "data": {
      "text/html": [
       "<div>\n",
       "<style scoped>\n",
       "    .dataframe tbody tr th:only-of-type {\n",
       "        vertical-align: middle;\n",
       "    }\n",
       "\n",
       "    .dataframe tbody tr th {\n",
       "        vertical-align: top;\n",
       "    }\n",
       "\n",
       "    .dataframe thead th {\n",
       "        text-align: right;\n",
       "    }\n",
       "</style>\n",
       "<table border=\"1\" class=\"dataframe\">\n",
       "  <thead>\n",
       "    <tr style=\"text-align: right;\">\n",
       "      <th></th>\n",
       "      <th>playlist_name</th>\n",
       "      <th>position_in_playlist</th>\n",
       "      <th>track_id</th>\n",
       "      <th>track_name</th>\n",
       "      <th>artist_name</th>\n",
       "      <th>duration_ms</th>\n",
       "      <th>album_name</th>\n",
       "    </tr>\n",
       "  </thead>\n",
       "  <tbody>\n",
       "    <tr>\n",
       "      <th>0</th>\n",
       "      <td>Wedding Music</td>\n",
       "      <td>0</td>\n",
       "      <td>spotify:track:2rb4cO7RczQFSvpjTJ4C2P</td>\n",
       "      <td>Always Forever</td>\n",
       "      <td>Phil Wickham</td>\n",
       "      <td>281880</td>\n",
       "      <td>Phil Wickham</td>\n",
       "    </tr>\n",
       "    <tr>\n",
       "      <th>1</th>\n",
       "      <td>Wedding Music</td>\n",
       "      <td>1</td>\n",
       "      <td>spotify:track:017nSBNU2XHwMV0NCWZCqg</td>\n",
       "      <td>Divine Romance</td>\n",
       "      <td>Phil Wickham</td>\n",
       "      <td>298026</td>\n",
       "      <td>Phil Wickham</td>\n",
       "    </tr>\n",
       "    <tr>\n",
       "      <th>2</th>\n",
       "      <td>Wedding Music</td>\n",
       "      <td>2</td>\n",
       "      <td>spotify:track:0W5TB5VNs0J16suh3r67P1</td>\n",
       "      <td>Messiah / You're Beautiful</td>\n",
       "      <td>Phil Wickham</td>\n",
       "      <td>293720</td>\n",
       "      <td>Cannons</td>\n",
       "    </tr>\n",
       "    <tr>\n",
       "      <th>3</th>\n",
       "      <td>Wedding Music</td>\n",
       "      <td>3</td>\n",
       "      <td>spotify:track:1gBnG1MiTNBBVzmuwP7Wii</td>\n",
       "      <td>Love Is Not A Fight</td>\n",
       "      <td>Warren Barfield</td>\n",
       "      <td>222986</td>\n",
       "      <td>Worth Fighting For</td>\n",
       "    </tr>\n",
       "    <tr>\n",
       "      <th>4</th>\n",
       "      <td>Wedding Music</td>\n",
       "      <td>4</td>\n",
       "      <td>spotify:track:0b99xsUKkETGwZGzpX987r</td>\n",
       "      <td>When I Say I Do</td>\n",
       "      <td>Matthew West</td>\n",
       "      <td>246000</td>\n",
       "      <td>Hold You Up EP</td>\n",
       "    </tr>\n",
       "  </tbody>\n",
       "</table>\n",
       "</div>"
      ],
      "text/plain": [
       "   playlist_name  position_in_playlist                              track_id  \\\n",
       "0  Wedding Music                     0  spotify:track:2rb4cO7RczQFSvpjTJ4C2P   \n",
       "1  Wedding Music                     1  spotify:track:017nSBNU2XHwMV0NCWZCqg   \n",
       "2  Wedding Music                     2  spotify:track:0W5TB5VNs0J16suh3r67P1   \n",
       "3  Wedding Music                     3  spotify:track:1gBnG1MiTNBBVzmuwP7Wii   \n",
       "4  Wedding Music                     4  spotify:track:0b99xsUKkETGwZGzpX987r   \n",
       "\n",
       "                   track_name      artist_name  duration_ms  \\\n",
       "0              Always Forever     Phil Wickham       281880   \n",
       "1              Divine Romance     Phil Wickham       298026   \n",
       "2  Messiah / You're Beautiful     Phil Wickham       293720   \n",
       "3         Love Is Not A Fight  Warren Barfield       222986   \n",
       "4             When I Say I Do     Matthew West       246000   \n",
       "\n",
       "           album_name  \n",
       "0        Phil Wickham  \n",
       "1        Phil Wickham  \n",
       "2             Cannons  \n",
       "3  Worth Fighting For  \n",
       "4      Hold You Up EP  "
      ]
     },
     "execution_count": 29,
     "metadata": {},
     "output_type": "execute_result"
    }
   ],
   "source": [
    "df.head()"
   ]
  },
  {
   "cell_type": "code",
   "execution_count": 13,
   "id": "1c379cbf",
   "metadata": {},
   "outputs": [],
   "source": [
    "track_name = df.drop_duplicates(subset=['track_name'])"
   ]
  },
  {
   "cell_type": "code",
   "execution_count": 14,
   "id": "44fd1a53",
   "metadata": {},
   "outputs": [
    {
     "name": "stdout",
     "output_type": "stream",
     "text": [
      "<class 'pandas.core.frame.DataFrame'>\n",
      "Int64Index: 968 entries, 0 to 999\n",
      "Data columns (total 7 columns):\n",
      " #   Column                Non-Null Count  Dtype \n",
      "---  ------                --------------  ----- \n",
      " 0   playlist_name         968 non-null    object\n",
      " 1   position_in_playlist  968 non-null    int64 \n",
      " 2   track_id              968 non-null    object\n",
      " 3   track_name            968 non-null    object\n",
      " 4   artist_name           968 non-null    object\n",
      " 5   duration_ms           968 non-null    int64 \n",
      " 6   album_name            968 non-null    object\n",
      "dtypes: int64(2), object(5)\n",
      "memory usage: 60.5+ KB\n"
     ]
    }
   ],
   "source": [
    "track_name.info()"
   ]
  },
  {
   "cell_type": "code",
   "execution_count": 15,
   "id": "6e07ad66",
   "metadata": {
    "scrolled": false
   },
   "outputs": [
    {
     "data": {
      "text/html": [
       "<div>\n",
       "<style scoped>\n",
       "    .dataframe tbody tr th:only-of-type {\n",
       "        vertical-align: middle;\n",
       "    }\n",
       "\n",
       "    .dataframe tbody tr th {\n",
       "        vertical-align: top;\n",
       "    }\n",
       "\n",
       "    .dataframe thead th {\n",
       "        text-align: right;\n",
       "    }\n",
       "</style>\n",
       "<table border=\"1\" class=\"dataframe\">\n",
       "  <thead>\n",
       "    <tr style=\"text-align: right;\">\n",
       "      <th></th>\n",
       "      <th>playlist_name</th>\n",
       "      <th>position_in_playlist</th>\n",
       "      <th>track_id</th>\n",
       "      <th>track_name</th>\n",
       "      <th>artist_name</th>\n",
       "      <th>duration_ms</th>\n",
       "      <th>album_name</th>\n",
       "    </tr>\n",
       "  </thead>\n",
       "  <tbody>\n",
       "    <tr>\n",
       "      <th>0</th>\n",
       "      <td>Wedding Music</td>\n",
       "      <td>0</td>\n",
       "      <td>spotify:track:2rb4cO7RczQFSvpjTJ4C2P</td>\n",
       "      <td>Always Forever</td>\n",
       "      <td>Phil Wickham</td>\n",
       "      <td>281880</td>\n",
       "      <td>Phil Wickham</td>\n",
       "    </tr>\n",
       "    <tr>\n",
       "      <th>1</th>\n",
       "      <td>Wedding Music</td>\n",
       "      <td>1</td>\n",
       "      <td>spotify:track:017nSBNU2XHwMV0NCWZCqg</td>\n",
       "      <td>Divine Romance</td>\n",
       "      <td>Phil Wickham</td>\n",
       "      <td>298026</td>\n",
       "      <td>Phil Wickham</td>\n",
       "    </tr>\n",
       "    <tr>\n",
       "      <th>2</th>\n",
       "      <td>Wedding Music</td>\n",
       "      <td>2</td>\n",
       "      <td>spotify:track:0W5TB5VNs0J16suh3r67P1</td>\n",
       "      <td>Messiah / You're Beautiful</td>\n",
       "      <td>Phil Wickham</td>\n",
       "      <td>293720</td>\n",
       "      <td>Cannons</td>\n",
       "    </tr>\n",
       "    <tr>\n",
       "      <th>3</th>\n",
       "      <td>Wedding Music</td>\n",
       "      <td>3</td>\n",
       "      <td>spotify:track:1gBnG1MiTNBBVzmuwP7Wii</td>\n",
       "      <td>Love Is Not A Fight</td>\n",
       "      <td>Warren Barfield</td>\n",
       "      <td>222986</td>\n",
       "      <td>Worth Fighting For</td>\n",
       "    </tr>\n",
       "    <tr>\n",
       "      <th>4</th>\n",
       "      <td>Wedding Music</td>\n",
       "      <td>4</td>\n",
       "      <td>spotify:track:0b99xsUKkETGwZGzpX987r</td>\n",
       "      <td>When I Say I Do</td>\n",
       "      <td>Matthew West</td>\n",
       "      <td>246000</td>\n",
       "      <td>Hold You Up EP</td>\n",
       "    </tr>\n",
       "    <tr>\n",
       "      <th>...</th>\n",
       "      <td>...</td>\n",
       "      <td>...</td>\n",
       "      <td>...</td>\n",
       "      <td>...</td>\n",
       "      <td>...</td>\n",
       "      <td>...</td>\n",
       "      <td>...</td>\n",
       "    </tr>\n",
       "    <tr>\n",
       "      <th>995</th>\n",
       "      <td>house/edm</td>\n",
       "      <td>30</td>\n",
       "      <td>spotify:track:6GX1zjEDqeI6ogBtkFjleM</td>\n",
       "      <td>Perfect - Matoma Remix</td>\n",
       "      <td>One Direction</td>\n",
       "      <td>223826</td>\n",
       "      <td>Perfect - EP</td>\n",
       "    </tr>\n",
       "    <tr>\n",
       "      <th>996</th>\n",
       "      <td>house/edm</td>\n",
       "      <td>31</td>\n",
       "      <td>spotify:track:1bYuKo7Ph4qS5Klw9zzD74</td>\n",
       "      <td>Last Night Of Our Lives - Radio Edit</td>\n",
       "      <td>Manse</td>\n",
       "      <td>181500</td>\n",
       "      <td>Last Night Of Our Lives</td>\n",
       "    </tr>\n",
       "    <tr>\n",
       "      <th>997</th>\n",
       "      <td>house/edm</td>\n",
       "      <td>32</td>\n",
       "      <td>spotify:track:0tICYNayWWhH9GPeFrfjfD</td>\n",
       "      <td>This Girl (Kungs Vs. Cookin' On 3 Burners) - K...</td>\n",
       "      <td>Kungs</td>\n",
       "      <td>195546</td>\n",
       "      <td>Layers</td>\n",
       "    </tr>\n",
       "    <tr>\n",
       "      <th>998</th>\n",
       "      <td>house/edm</td>\n",
       "      <td>33</td>\n",
       "      <td>spotify:track:0NF4I7fY4eRKpDA6fPJkZT</td>\n",
       "      <td>Tell Me</td>\n",
       "      <td>Kaaze</td>\n",
       "      <td>173906</td>\n",
       "      <td>Tell Me</td>\n",
       "    </tr>\n",
       "    <tr>\n",
       "      <th>999</th>\n",
       "      <td>house/edm</td>\n",
       "      <td>34</td>\n",
       "      <td>spotify:track:7GnR8O4LXHdVTZxzsQMRWz</td>\n",
       "      <td>Into the Sunset - Headhunterz Radio Edit</td>\n",
       "      <td>Crystal Lake</td>\n",
       "      <td>192187</td>\n",
       "      <td>Into the Sunset</td>\n",
       "    </tr>\n",
       "  </tbody>\n",
       "</table>\n",
       "<p>968 rows × 7 columns</p>\n",
       "</div>"
      ],
      "text/plain": [
       "     playlist_name  position_in_playlist  \\\n",
       "0    Wedding Music                     0   \n",
       "1    Wedding Music                     1   \n",
       "2    Wedding Music                     2   \n",
       "3    Wedding Music                     3   \n",
       "4    Wedding Music                     4   \n",
       "..             ...                   ...   \n",
       "995      house/edm                    30   \n",
       "996      house/edm                    31   \n",
       "997      house/edm                    32   \n",
       "998      house/edm                    33   \n",
       "999      house/edm                    34   \n",
       "\n",
       "                                 track_id  \\\n",
       "0    spotify:track:2rb4cO7RczQFSvpjTJ4C2P   \n",
       "1    spotify:track:017nSBNU2XHwMV0NCWZCqg   \n",
       "2    spotify:track:0W5TB5VNs0J16suh3r67P1   \n",
       "3    spotify:track:1gBnG1MiTNBBVzmuwP7Wii   \n",
       "4    spotify:track:0b99xsUKkETGwZGzpX987r   \n",
       "..                                    ...   \n",
       "995  spotify:track:6GX1zjEDqeI6ogBtkFjleM   \n",
       "996  spotify:track:1bYuKo7Ph4qS5Klw9zzD74   \n",
       "997  spotify:track:0tICYNayWWhH9GPeFrfjfD   \n",
       "998  spotify:track:0NF4I7fY4eRKpDA6fPJkZT   \n",
       "999  spotify:track:7GnR8O4LXHdVTZxzsQMRWz   \n",
       "\n",
       "                                            track_name      artist_name  \\\n",
       "0                                       Always Forever     Phil Wickham   \n",
       "1                                       Divine Romance     Phil Wickham   \n",
       "2                           Messiah / You're Beautiful     Phil Wickham   \n",
       "3                                  Love Is Not A Fight  Warren Barfield   \n",
       "4                                      When I Say I Do     Matthew West   \n",
       "..                                                 ...              ...   \n",
       "995                             Perfect - Matoma Remix    One Direction   \n",
       "996               Last Night Of Our Lives - Radio Edit            Manse   \n",
       "997  This Girl (Kungs Vs. Cookin' On 3 Burners) - K...            Kungs   \n",
       "998                                            Tell Me            Kaaze   \n",
       "999           Into the Sunset - Headhunterz Radio Edit     Crystal Lake   \n",
       "\n",
       "     duration_ms               album_name  \n",
       "0         281880             Phil Wickham  \n",
       "1         298026             Phil Wickham  \n",
       "2         293720                  Cannons  \n",
       "3         222986       Worth Fighting For  \n",
       "4         246000           Hold You Up EP  \n",
       "..           ...                      ...  \n",
       "995       223826             Perfect - EP  \n",
       "996       181500  Last Night Of Our Lives  \n",
       "997       195546                   Layers  \n",
       "998       173906                  Tell Me  \n",
       "999       192187          Into the Sunset  \n",
       "\n",
       "[968 rows x 7 columns]"
      ]
     },
     "execution_count": 15,
     "metadata": {},
     "output_type": "execute_result"
    }
   ],
   "source": [
    "track_name.head(1000)"
   ]
  },
  {
   "cell_type": "code",
   "execution_count": 16,
   "id": "2e4e8b88",
   "metadata": {},
   "outputs": [],
   "source": [
    "artists = df.drop_duplicates(subset=['artist_name'])"
   ]
  },
  {
   "cell_type": "code",
   "execution_count": 17,
   "id": "f621c358",
   "metadata": {},
   "outputs": [
    {
     "name": "stdout",
     "output_type": "stream",
     "text": [
      "<class 'pandas.core.frame.DataFrame'>\n",
      "Int64Index: 488 entries, 0 to 999\n",
      "Data columns (total 7 columns):\n",
      " #   Column                Non-Null Count  Dtype \n",
      "---  ------                --------------  ----- \n",
      " 0   playlist_name         488 non-null    object\n",
      " 1   position_in_playlist  488 non-null    int64 \n",
      " 2   track_id              488 non-null    object\n",
      " 3   track_name            488 non-null    object\n",
      " 4   artist_name           488 non-null    object\n",
      " 5   duration_ms           488 non-null    int64 \n",
      " 6   album_name            488 non-null    object\n",
      "dtypes: int64(2), object(5)\n",
      "memory usage: 30.5+ KB\n"
     ]
    }
   ],
   "source": [
    "artists.info()"
   ]
  },
  {
   "cell_type": "code",
   "execution_count": 18,
   "id": "6c440c5e",
   "metadata": {},
   "outputs": [],
   "source": [
    "playlists = df.drop_duplicates(subset=['playlist_name'])"
   ]
  },
  {
   "cell_type": "code",
   "execution_count": 19,
   "id": "fcf511ef",
   "metadata": {},
   "outputs": [
    {
     "name": "stdout",
     "output_type": "stream",
     "text": [
      "<class 'pandas.core.frame.DataFrame'>\n",
      "Int64Index: 16 entries, 0 to 965\n",
      "Data columns (total 7 columns):\n",
      " #   Column                Non-Null Count  Dtype \n",
      "---  ------                --------------  ----- \n",
      " 0   playlist_name         16 non-null     object\n",
      " 1   position_in_playlist  16 non-null     int64 \n",
      " 2   track_id              16 non-null     object\n",
      " 3   track_name            16 non-null     object\n",
      " 4   artist_name           16 non-null     object\n",
      " 5   duration_ms           16 non-null     int64 \n",
      " 6   album_name            16 non-null     object\n",
      "dtypes: int64(2), object(5)\n",
      "memory usage: 1.0+ KB\n"
     ]
    }
   ],
   "source": [
    "playlists.info()"
   ]
  },
  {
   "cell_type": "code",
   "execution_count": 20,
   "id": "c3dad951",
   "metadata": {},
   "outputs": [],
   "source": [
    "file_path = 'mpd.slice.15000-15999.json'  # Replace with your file path\n",
    "with open(file_path, 'r') as file:\n",
    "    data1 = json.load(file)\n",
    "\n",
    "# Extract track information\n",
    "tracks_data = []\n",
    "for playlist in data1['playlists']:\n",
    "    for track in playlist['tracks']:\n",
    "        tracks_data.append({\n",
    "            \"playlist_name\": playlist['name'],\n",
    "            \"track_name\": track['track_name'],\n",
    "            \"artist_name\": track['artist_name'],\n",
    "            \"track_id\": track['track_uri'],  # Use 'track_uri' or 'track_id'\n",
    "            \"duration_ms\": track['duration_ms']\n",
    "        })\n",
    "\n",
    "# Convert to a DataFrame\n",
    "df1 = pd.DataFrame(tracks_data)"
   ]
  },
  {
   "cell_type": "code",
   "execution_count": null,
   "id": "1435ec96",
   "metadata": {},
   "outputs": [],
   "source": []
  },
  {
   "cell_type": "markdown",
   "id": "f993412a",
   "metadata": {},
   "source": [
    "# K-means"
   ]
  },
  {
   "cell_type": "code",
   "execution_count": 30,
   "id": "069912b1",
   "metadata": {},
   "outputs": [
    {
     "data": {
      "text/html": [
       "<div>\n",
       "<style scoped>\n",
       "    .dataframe tbody tr th:only-of-type {\n",
       "        vertical-align: middle;\n",
       "    }\n",
       "\n",
       "    .dataframe tbody tr th {\n",
       "        vertical-align: top;\n",
       "    }\n",
       "\n",
       "    .dataframe thead th {\n",
       "        text-align: right;\n",
       "    }\n",
       "</style>\n",
       "<table border=\"1\" class=\"dataframe\">\n",
       "  <thead>\n",
       "    <tr style=\"text-align: right;\">\n",
       "      <th></th>\n",
       "      <th>playlist_name</th>\n",
       "      <th>position_in_playlist</th>\n",
       "      <th>track_id</th>\n",
       "      <th>track_name</th>\n",
       "      <th>artist_name</th>\n",
       "      <th>duration_ms</th>\n",
       "      <th>album_name</th>\n",
       "      <th>popularity_score</th>\n",
       "    </tr>\n",
       "  </thead>\n",
       "  <tbody>\n",
       "    <tr>\n",
       "      <th>0</th>\n",
       "      <td>Wedding Music</td>\n",
       "      <td>0</td>\n",
       "      <td>spotify:track:2rb4cO7RczQFSvpjTJ4C2P</td>\n",
       "      <td>Always Forever</td>\n",
       "      <td>Phil Wickham</td>\n",
       "      <td>281880</td>\n",
       "      <td>Phil Wickham</td>\n",
       "      <td>1</td>\n",
       "    </tr>\n",
       "    <tr>\n",
       "      <th>1</th>\n",
       "      <td>Wedding Music</td>\n",
       "      <td>1</td>\n",
       "      <td>spotify:track:017nSBNU2XHwMV0NCWZCqg</td>\n",
       "      <td>Divine Romance</td>\n",
       "      <td>Phil Wickham</td>\n",
       "      <td>298026</td>\n",
       "      <td>Phil Wickham</td>\n",
       "      <td>1</td>\n",
       "    </tr>\n",
       "    <tr>\n",
       "      <th>2</th>\n",
       "      <td>Wedding Music</td>\n",
       "      <td>2</td>\n",
       "      <td>spotify:track:0W5TB5VNs0J16suh3r67P1</td>\n",
       "      <td>Messiah / You're Beautiful</td>\n",
       "      <td>Phil Wickham</td>\n",
       "      <td>293720</td>\n",
       "      <td>Cannons</td>\n",
       "      <td>1</td>\n",
       "    </tr>\n",
       "    <tr>\n",
       "      <th>3</th>\n",
       "      <td>Wedding Music</td>\n",
       "      <td>3</td>\n",
       "      <td>spotify:track:1gBnG1MiTNBBVzmuwP7Wii</td>\n",
       "      <td>Love Is Not A Fight</td>\n",
       "      <td>Warren Barfield</td>\n",
       "      <td>222986</td>\n",
       "      <td>Worth Fighting For</td>\n",
       "      <td>1</td>\n",
       "    </tr>\n",
       "    <tr>\n",
       "      <th>4</th>\n",
       "      <td>Wedding Music</td>\n",
       "      <td>4</td>\n",
       "      <td>spotify:track:0b99xsUKkETGwZGzpX987r</td>\n",
       "      <td>When I Say I Do</td>\n",
       "      <td>Matthew West</td>\n",
       "      <td>246000</td>\n",
       "      <td>Hold You Up EP</td>\n",
       "      <td>1</td>\n",
       "    </tr>\n",
       "  </tbody>\n",
       "</table>\n",
       "</div>"
      ],
      "text/plain": [
       "   playlist_name  position_in_playlist                              track_id  \\\n",
       "0  Wedding Music                     0  spotify:track:2rb4cO7RczQFSvpjTJ4C2P   \n",
       "1  Wedding Music                     1  spotify:track:017nSBNU2XHwMV0NCWZCqg   \n",
       "2  Wedding Music                     2  spotify:track:0W5TB5VNs0J16suh3r67P1   \n",
       "3  Wedding Music                     3  spotify:track:1gBnG1MiTNBBVzmuwP7Wii   \n",
       "4  Wedding Music                     4  spotify:track:0b99xsUKkETGwZGzpX987r   \n",
       "\n",
       "                   track_name      artist_name  duration_ms  \\\n",
       "0              Always Forever     Phil Wickham       281880   \n",
       "1              Divine Romance     Phil Wickham       298026   \n",
       "2  Messiah / You're Beautiful     Phil Wickham       293720   \n",
       "3         Love Is Not A Fight  Warren Barfield       222986   \n",
       "4             When I Say I Do     Matthew West       246000   \n",
       "\n",
       "           album_name  popularity_score  \n",
       "0        Phil Wickham                 1  \n",
       "1        Phil Wickham                 1  \n",
       "2             Cannons                 1  \n",
       "3  Worth Fighting For                 1  \n",
       "4      Hold You Up EP                 1  "
      ]
     },
     "execution_count": 30,
     "metadata": {},
     "output_type": "execute_result"
    }
   ],
   "source": [
    "df_with_popularity.head()"
   ]
  },
  {
   "cell_type": "code",
   "execution_count": 31,
   "id": "5b55783c",
   "metadata": {},
   "outputs": [
    {
     "name": "stdout",
     "output_type": "stream",
     "text": [
      "<class 'pandas.core.frame.DataFrame'>\n",
      "Int64Index: 1000 entries, 0 to 999\n",
      "Data columns (total 8 columns):\n",
      " #   Column                Non-Null Count  Dtype \n",
      "---  ------                --------------  ----- \n",
      " 0   playlist_name         1000 non-null   object\n",
      " 1   position_in_playlist  1000 non-null   int64 \n",
      " 2   track_id              1000 non-null   object\n",
      " 3   track_name            1000 non-null   object\n",
      " 4   artist_name           1000 non-null   object\n",
      " 5   duration_ms           1000 non-null   int64 \n",
      " 6   album_name            1000 non-null   object\n",
      " 7   popularity_score      1000 non-null   int32 \n",
      "dtypes: int32(1), int64(2), object(5)\n",
      "memory usage: 66.4+ KB\n"
     ]
    }
   ],
   "source": [
    "df_with_popularity.info()"
   ]
  },
  {
   "cell_type": "code",
   "execution_count": 32,
   "id": "2c20d147",
   "metadata": {},
   "outputs": [
    {
     "data": {
      "text/html": [
       "<div>\n",
       "<style scoped>\n",
       "    .dataframe tbody tr th:only-of-type {\n",
       "        vertical-align: middle;\n",
       "    }\n",
       "\n",
       "    .dataframe tbody tr th {\n",
       "        vertical-align: top;\n",
       "    }\n",
       "\n",
       "    .dataframe thead th {\n",
       "        text-align: right;\n",
       "    }\n",
       "</style>\n",
       "<table border=\"1\" class=\"dataframe\">\n",
       "  <thead>\n",
       "    <tr style=\"text-align: right;\">\n",
       "      <th></th>\n",
       "      <th>popularity_score</th>\n",
       "      <th>duration_ms</th>\n",
       "    </tr>\n",
       "  </thead>\n",
       "  <tbody>\n",
       "    <tr>\n",
       "      <th>541</th>\n",
       "      <td>1</td>\n",
       "      <td>123706</td>\n",
       "    </tr>\n",
       "    <tr>\n",
       "      <th>440</th>\n",
       "      <td>1</td>\n",
       "      <td>231186</td>\n",
       "    </tr>\n",
       "    <tr>\n",
       "      <th>482</th>\n",
       "      <td>1</td>\n",
       "      <td>186439</td>\n",
       "    </tr>\n",
       "    <tr>\n",
       "      <th>422</th>\n",
       "      <td>1</td>\n",
       "      <td>172266</td>\n",
       "    </tr>\n",
       "    <tr>\n",
       "      <th>778</th>\n",
       "      <td>1</td>\n",
       "      <td>255626</td>\n",
       "    </tr>\n",
       "  </tbody>\n",
       "</table>\n",
       "</div>"
      ],
      "text/plain": [
       "     popularity_score  duration_ms\n",
       "541                 1       123706\n",
       "440                 1       231186\n",
       "482                 1       186439\n",
       "422                 1       172266\n",
       "778                 1       255626"
      ]
     },
     "execution_count": 32,
     "metadata": {},
     "output_type": "execute_result"
    }
   ],
   "source": [
    "from sklearn.model_selection import train_test_split\n",
    "train_df, _ = train_test_split(df_with_popularity, test_size=0.3, random_state=42) \n",
    "train_df = train_df[[\"popularity_score\", \"duration_ms\"]]\n",
    "train_df.head()"
   ]
  },
  {
   "cell_type": "code",
   "execution_count": 33,
   "id": "7a36740d",
   "metadata": {},
   "outputs": [
    {
     "data": {
      "text/plain": [
       "KMeans(n_clusters=2)"
      ]
     },
     "execution_count": 33,
     "metadata": {},
     "output_type": "execute_result"
    }
   ],
   "source": [
    "model = KMeans(n_clusters=2)\n",
    "model.fit(train_df)"
   ]
  },
  {
   "cell_type": "code",
   "execution_count": 34,
   "id": "5c8fc9bf",
   "metadata": {},
   "outputs": [
    {
     "data": {
      "text/plain": [
       "array([[1.52247191e+00, 2.14657178e+05],\n",
       "       [1.32530120e+00, 3.03169560e+05]])"
      ]
     },
     "execution_count": 34,
     "metadata": {},
     "output_type": "execute_result"
    }
   ],
   "source": [
    "model.cluster_centers_"
   ]
  },
  {
   "cell_type": "code",
   "execution_count": 35,
   "id": "61f436fb",
   "metadata": {},
   "outputs": [
    {
     "name": "stderr",
     "output_type": "stream",
     "text": [
      "C:\\ProgramData\\Anaconda3\\lib\\site-packages\\sklearn\\cluster\\_kmeans.py:1036: UserWarning: KMeans is known to have a memory leak on Windows with MKL, when there are less chunks than available threads. You can avoid it by setting the environment variable OMP_NUM_THREADS=3.\n",
      "  warnings.warn(\n"
     ]
    },
    {
     "data": {
      "image/png": "[encoded data removed]",
      "text/plain": [
       "<Figure size 640x480 with 1 Axes>"
      ]
     },
     "metadata": {},
     "output_type": "display_data"
    }
   ],
   "source": [
    "import matplotlib.pyplot as plt\n",
    "from sklearn.cluster import KMeans\n",
    "\n",
    "elbow = []\n",
    "\n",
    "# Assuming 'train_df' is your dataset (replace with your actual dataset)\n",
    "for x in range(1, 16):\n",
    "    model = KMeans(n_clusters=x)\n",
    "    model.fit(train_df)  # Fit the model to your dataset\n",
    "    elbow.append(model.inertia_)  # Append inertia to the list\n",
    "\n",
    "# Plotting the Elbow graph\n",
    "plt.plot(range(1, 16), elbow)\n",
    "plt.xlabel('Number of clusters')\n",
    "plt.ylabel('Inertia')\n",
    "plt.title('Elbow Method')\n",
    "plt.show()\n"
   ]
  },
  {
   "cell_type": "code",
   "execution_count": 36,
   "id": "4e19b5a2",
   "metadata": {},
   "outputs": [],
   "source": [
    "greatestSil = 0\n",
    "for x in range(2, 10):\n",
    "    model = KMeans(n_clusters=x)\n",
    "    model.fit(train_df)\n",
    "    \n",
    "    if silhouette_score(train_df, model.labels_) > greatestSil:\n",
    "        greatestSil = silhouette_score(train_df, model.labels_)\n",
    "        bestCluster = x\n",
    "        "
   ]
  },
  {
   "cell_type": "code",
   "execution_count": 37,
   "id": "566a27b6",
   "metadata": {},
   "outputs": [
    {
     "data": {
      "text/plain": [
       "0.5769486908849768"
      ]
     },
     "execution_count": 37,
     "metadata": {},
     "output_type": "execute_result"
    }
   ],
   "source": [
    "greatestSil"
   ]
  },
  {
   "cell_type": "code",
   "execution_count": 38,
   "id": "c08f60a7",
   "metadata": {},
   "outputs": [
    {
     "data": {
      "text/plain": [
       "2"
      ]
     },
     "execution_count": 38,
     "metadata": {},
     "output_type": "execute_result"
    }
   ],
   "source": [
    "bestCluster"
   ]
  },
  {
   "cell_type": "code",
   "execution_count": null,
   "id": "9cedb78e",
   "metadata": {},
   "outputs": [],
   "source": []
  }
 ],
 "metadata": {
  "kernelspec": {
   "display_name": "Python 3 (ipykernel)",
   "language": "python",
   "name": "python3"
  },
  "language_info": {
   "codemirror_mode": {
    "name": "ipython",
    "version": 3
   },
   "file_extension": ".py",
   "mimetype": "text/x-python",
   "name": "python",
   "nbconvert_exporter": "python",
   "pygments_lexer": "ipython3",
   "version": "3.9.13"
  }
 },
 "nbformat": 4,
 "nbformat_minor": 5
}
