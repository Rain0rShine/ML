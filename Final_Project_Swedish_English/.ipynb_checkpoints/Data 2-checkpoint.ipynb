{
 "cells": [
  {
   "cell_type": "code",
   "execution_count": null,
   "id": "7f0d59f2",
   "metadata": {},
   "outputs": [],
   "source": []
  },
  {
   "cell_type": "code",
   "execution_count": 1,
   "id": "e7f60508",
   "metadata": {},
   "outputs": [
    {
     "name": "stdout",
     "output_type": "stream",
     "text": [
      "Defaulting to user installation because normal site-packages is not writeable\n",
      "Requirement already satisfied: pandas in c:\\programdata\\anaconda3\\lib\\site-packages (1.4.4)\n",
      "Requirement already satisfied: lxml in c:\\programdata\\anaconda3\\lib\\site-packages (4.9.1)\n",
      "Requirement already satisfied: numpy>=1.18.5 in c:\\users\\enichol\\appdata\\roaming\\python\\python39\\site-packages (from pandas) (1.26.4)\n",
      "Requirement already satisfied: python-dateutil>=2.8.1 in c:\\programdata\\anaconda3\\lib\\site-packages (from pandas) (2.8.2)\n",
      "Requirement already satisfied: pytz>=2020.1 in c:\\programdata\\anaconda3\\lib\\site-packages (from pandas) (2022.1)\n",
      "Requirement already satisfied: six>=1.5 in c:\\programdata\\anaconda3\\lib\\site-packages (from python-dateutil>=2.8.1->pandas) (1.16.0)\n",
      "Note: you may need to restart the kernel to use updated packages.\n"
     ]
    }
   ],
   "source": [
    "pip install pandas lxml\n"
   ]
  },
  {
   "cell_type": "code",
   "execution_count": 6,
   "id": "bc7b3ba0",
   "metadata": {},
   "outputs": [
    {
     "name": "stdout",
     "output_type": "stream",
     "text": [
      "Processed 43533711 translation units\n",
      "                                             english  \\\n",
      "0               Previously on The Hot Zone: Anthrax.   \n",
      "1  Director Mueller just assigned us a major case...   \n",
      "2  Investigation''s  officially been dubbed Ameri...   \n",
      "3  Whoever sent these  letters got their Anthrax ...   \n",
      "4  We wouldn''t be here if we didn''t have eviden...   \n",
      "\n",
      "                                             swedish  \n",
      "0                              I tidigare avsnitt...  \n",
      "1      Byråchef Mueller gav oss just ett stort fall.  \n",
      "2            Utredningen har fått namnet Amerithrax.  \n",
      "3  Brevskickaren fick sin mjältbrand från ett ame...  \n",
      "4  Vi hade inte varit här om inte bevisen pekat p...  \n"
     ]
    }
   ],
   "source": [
    "import gzip\n",
    "import pandas as pd\n",
    "from lxml import etree\n",
    "\n",
    "def process_tmx_chunked(file_path, chunk_size=10000):\n",
    "    # Create an empty list to store DataFrames\n",
    "    chunks = []\n",
    "    \n",
    "    # Initialize variables for chunk processing\n",
    "    current_chunk = []\n",
    "    processed_count = 0\n",
    "    \n",
    "    # Use iterparse for memory-efficient parsing\n",
    "    context = etree.iterparse(\n",
    "        gzip.open(file_path), \n",
    "        events=('end',), \n",
    "        tag='tu'\n",
    "    )\n",
    "    \n",
    "    for event, elem in context:\n",
    "        try:\n",
    "            variants = {}\n",
    "            for tuv in elem.findall('tuv'):\n",
    "                lang = tuv.get('{http://www.w3.org/XML/1998/namespace}lang')\n",
    "                seg = tuv.find('seg')\n",
    "                variants[lang] = seg.text if seg is not None else ''\n",
    "            \n",
    "            if 'en' in variants and 'sv' in variants:\n",
    "                current_chunk.append({\n",
    "                    'english': variants['en'],\n",
    "                    'swedish': variants['sv']\n",
    "                })\n",
    "                processed_count += 1\n",
    "                \n",
    "                # When chunk is full, convert to DataFrame and store\n",
    "                if len(current_chunk) >= chunk_size:\n",
    "                    chunks.append(pd.DataFrame(current_chunk))\n",
    "                    current_chunk = []\n",
    "        finally:\n",
    "            # Clear memory after processing each element\n",
    "            elem.clear()\n",
    "            while elem.getprevious() is not None:\n",
    "                del elem.getparent()[0]\n",
    "    \n",
    "    # Add any remaining items in the last chunk\n",
    "    if current_chunk:\n",
    "        chunks.append(pd.DataFrame(current_chunk))\n",
    "    \n",
    "    # Combine all chunks into a single DataFrame\n",
    "    final_df = pd.concat(chunks, ignore_index=True)\n",
    "    \n",
    "    print(f\"Processed {processed_count} translation units\")\n",
    "    return final_df\n",
    "\n",
    "# Usage:\n",
    "df = process_tmx_chunked('en-sv.tmx.gz')\n",
    "print(df.head())  # Now this will work"
   ]
  },
  {
   "cell_type": "code",
   "execution_count": 7,
   "id": "3663b1b8",
   "metadata": {},
   "outputs": [
    {
     "name": "stdout",
     "output_type": "stream",
     "text": [
      "<class 'pandas.core.frame.DataFrame'>\n",
      "RangeIndex: 43533711 entries, 0 to 43533710\n",
      "Data columns (total 2 columns):\n",
      " #   Column   Dtype \n",
      "---  ------   ----- \n",
      " 0   english  object\n",
      " 1   swedish  object\n",
      "dtypes: object(2)\n",
      "memory usage: 664.3+ MB\n"
     ]
    }
   ],
   "source": [
    "df.info()"
   ]
  },
  {
   "cell_type": "code",
   "execution_count": 9,
   "id": "28b1a827",
   "metadata": {},
   "outputs": [
    {
     "data": {
      "text/html": [
       "<div>\n",
       "<style scoped>\n",
       "    .dataframe tbody tr th:only-of-type {\n",
       "        vertical-align: middle;\n",
       "    }\n",
       "\n",
       "    .dataframe tbody tr th {\n",
       "        vertical-align: top;\n",
       "    }\n",
       "\n",
       "    .dataframe thead th {\n",
       "        text-align: right;\n",
       "    }\n",
       "</style>\n",
       "<table border=\"1\" class=\"dataframe\">\n",
       "  <thead>\n",
       "    <tr style=\"text-align: right;\">\n",
       "      <th></th>\n",
       "      <th>english</th>\n",
       "      <th>swedish</th>\n",
       "    </tr>\n",
       "  </thead>\n",
       "  <tbody>\n",
       "    <tr>\n",
       "      <th>0</th>\n",
       "      <td>Previously on The Hot Zone: Anthrax.</td>\n",
       "      <td>I tidigare avsnitt...</td>\n",
       "    </tr>\n",
       "    <tr>\n",
       "      <th>1</th>\n",
       "      <td>Director Mueller just assigned us a major case...</td>\n",
       "      <td>Byråchef Mueller gav oss just ett stort fall.</td>\n",
       "    </tr>\n",
       "    <tr>\n",
       "      <th>2</th>\n",
       "      <td>Investigation''s  officially been dubbed Ameri...</td>\n",
       "      <td>Utredningen har fått namnet Amerithrax.</td>\n",
       "    </tr>\n",
       "    <tr>\n",
       "      <th>3</th>\n",
       "      <td>Whoever sent these  letters got their Anthrax ...</td>\n",
       "      <td>Brevskickaren fick sin mjältbrand från ett ame...</td>\n",
       "    </tr>\n",
       "    <tr>\n",
       "      <th>4</th>\n",
       "      <td>We wouldn''t be here if we didn''t have eviden...</td>\n",
       "      <td>Vi hade inte varit här om inte bevisen pekat p...</td>\n",
       "    </tr>\n",
       "  </tbody>\n",
       "</table>\n",
       "</div>"
      ],
      "text/plain": [
       "                                             english  \\\n",
       "0               Previously on The Hot Zone: Anthrax.   \n",
       "1  Director Mueller just assigned us a major case...   \n",
       "2  Investigation''s  officially been dubbed Ameri...   \n",
       "3  Whoever sent these  letters got their Anthrax ...   \n",
       "4  We wouldn''t be here if we didn''t have eviden...   \n",
       "\n",
       "                                             swedish  \n",
       "0                              I tidigare avsnitt...  \n",
       "1      Byråchef Mueller gav oss just ett stort fall.  \n",
       "2            Utredningen har fått namnet Amerithrax.  \n",
       "3  Brevskickaren fick sin mjältbrand från ett ame...  \n",
       "4  Vi hade inte varit här om inte bevisen pekat p...  "
      ]
     },
     "execution_count": 9,
     "metadata": {},
     "output_type": "execute_result"
    }
   ],
   "source": [
    "df.head()"
   ]
  },
  {
   "cell_type": "code",
   "execution_count": 8,
   "id": "759d77b5",
   "metadata": {},
   "outputs": [
    {
     "data": {
      "text/html": [
       "<div>\n",
       "<style scoped>\n",
       "    .dataframe tbody tr th:only-of-type {\n",
       "        vertical-align: middle;\n",
       "    }\n",
       "\n",
       "    .dataframe tbody tr th {\n",
       "        vertical-align: top;\n",
       "    }\n",
       "\n",
       "    .dataframe thead th {\n",
       "        text-align: right;\n",
       "    }\n",
       "</style>\n",
       "<table border=\"1\" class=\"dataframe\">\n",
       "  <thead>\n",
       "    <tr style=\"text-align: right;\">\n",
       "      <th></th>\n",
       "      <th>english</th>\n",
       "      <th>swedish</th>\n",
       "    </tr>\n",
       "  </thead>\n",
       "  <tbody>\n",
       "    <tr>\n",
       "      <th>43533706</th>\n",
       "      <td>You are already almost 15 minutes late. Oh, my...</td>\n",
       "      <td>-Gå nu, du är nästan en kvart sen.</td>\n",
       "    </tr>\n",
       "    <tr>\n",
       "      <th>43533707</th>\n",
       "      <td>By the powers vested in me by the state of Sou...</td>\n",
       "      <td>I kraft av mitt ämbete i staten South Carolina...</td>\n",
       "    </tr>\n",
       "    <tr>\n",
       "      <th>43533708</th>\n",
       "      <td>Who invited you? - I'm-- - Beat it.</td>\n",
       "      <td>Vem bjöd in dig?</td>\n",
       "    </tr>\n",
       "    <tr>\n",
       "      <th>43533709</th>\n",
       "      <td>Okay.</td>\n",
       "      <td>! Stick!</td>\n",
       "    </tr>\n",
       "    <tr>\n",
       "      <th>43533710</th>\n",
       "      <td>You may now kiss your bride.</td>\n",
       "      <td>Ni kan kyssa er brud.</td>\n",
       "    </tr>\n",
       "  </tbody>\n",
       "</table>\n",
       "</div>"
      ],
      "text/plain": [
       "                                                    english  \\\n",
       "43533706  You are already almost 15 minutes late. Oh, my...   \n",
       "43533707  By the powers vested in me by the state of Sou...   \n",
       "43533708                Who invited you? - I'm-- - Beat it.   \n",
       "43533709                                              Okay.   \n",
       "43533710                       You may now kiss your bride.   \n",
       "\n",
       "                                                    swedish  \n",
       "43533706                 -Gå nu, du är nästan en kvart sen.  \n",
       "43533707  I kraft av mitt ämbete i staten South Carolina...  \n",
       "43533708                                   Vem bjöd in dig?  \n",
       "43533709                                           ! Stick!  \n",
       "43533710                              Ni kan kyssa er brud.  "
      ]
     },
     "execution_count": 8,
     "metadata": {},
     "output_type": "execute_result"
    }
   ],
   "source": [
    "df.tail()"
   ]
  },
  {
   "cell_type": "code",
   "execution_count": null,
   "id": "764dbadb",
   "metadata": {},
   "outputs": [],
   "source": []
  }
 ],
 "metadata": {
  "kernelspec": {
   "display_name": "Python 3 (ipykernel)",
   "language": "python",
   "name": "python3"
  },
  "language_info": {
   "codemirror_mode": {
    "name": "ipython",
    "version": 3
   },
   "file_extension": ".py",
   "mimetype": "text/x-python",
   "name": "python",
   "nbconvert_exporter": "python",
   "pygments_lexer": "ipython3",
   "version": "3.9.13"
  }
 },
 "nbformat": 4,
 "nbformat_minor": 5
}
