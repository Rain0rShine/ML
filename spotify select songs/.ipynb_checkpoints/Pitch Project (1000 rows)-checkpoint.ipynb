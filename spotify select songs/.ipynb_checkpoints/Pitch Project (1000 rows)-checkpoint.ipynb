{
 "cells": [
  {
   "cell_type": "code",
   "execution_count": 1,
   "id": "93002b23",
   "metadata": {},
   "outputs": [],
   "source": [
    "import pandas as pd\n",
    "import numpy as np\n",
    "import seaborn as sns\n",
    "import json\n",
    "from bs4 import BeautifulSoup\n",
    "import numpy as np\n",
    "import requests\n",
    "from sklearn.cluster import DBSCAN\n",
    "from sklearn.preprocessing import StandardScaler\n",
    "from sklearn.decomposition import PCA"
   ]
  },
  {
   "cell_type": "code",
   "execution_count": 2,
   "id": "241f9eff",
   "metadata": {},
   "outputs": [],
   "source": [
    "with open('vetting_playlist.json', 'r') as file:\n",
    "    data1 = json.load(file)"
   ]
  },
  {
   "cell_type": "code",
   "execution_count": 3,
   "id": "b8e96864",
   "metadata": {},
   "outputs": [],
   "source": [
    "#data1.keys()\n",
    "#This is for someone else"
   ]
  },
  {
   "cell_type": "code",
   "execution_count": 4,
   "id": "850e5856",
   "metadata": {},
   "outputs": [
    {
     "ename": "FileNotFoundError",
     "evalue": "[Errno 2] No such file or directory: 'mpd.slice.15000-15999.json'",
     "output_type": "error",
     "traceback": [
      "\u001b[1;31m---------------------------------------------------------------------------\u001b[0m",
      "\u001b[1;31mFileNotFoundError\u001b[0m                         Traceback (most recent call last)",
      "\u001b[1;32m~\\AppData\\Local\\Temp\\ipykernel_20652\\3464410948.py\u001b[0m in \u001b[0;36m<module>\u001b[1;34m\u001b[0m\n\u001b[0;32m     21\u001b[0m \u001b[1;33m\u001b[0m\u001b[0m\n\u001b[0;32m     22\u001b[0m \u001b[1;32mfor\u001b[0m \u001b[0mfile_path\u001b[0m \u001b[1;32min\u001b[0m \u001b[0mfile_paths\u001b[0m\u001b[1;33m:\u001b[0m\u001b[1;33m\u001b[0m\u001b[1;33m\u001b[0m\u001b[0m\n\u001b[1;32m---> 23\u001b[1;33m     \u001b[1;32mwith\u001b[0m \u001b[0mopen\u001b[0m\u001b[1;33m(\u001b[0m\u001b[0mfile_path\u001b[0m\u001b[1;33m,\u001b[0m \u001b[1;34m'r'\u001b[0m\u001b[1;33m)\u001b[0m \u001b[1;32mas\u001b[0m \u001b[0mfile\u001b[0m\u001b[1;33m:\u001b[0m\u001b[1;33m\u001b[0m\u001b[1;33m\u001b[0m\u001b[0m\n\u001b[0m\u001b[0;32m     24\u001b[0m         \u001b[0mdata\u001b[0m \u001b[1;33m=\u001b[0m \u001b[0mjson\u001b[0m\u001b[1;33m.\u001b[0m\u001b[0mload\u001b[0m\u001b[1;33m(\u001b[0m\u001b[0mfile\u001b[0m\u001b[1;33m)\u001b[0m\u001b[1;33m\u001b[0m\u001b[1;33m\u001b[0m\u001b[0m\n\u001b[0;32m     25\u001b[0m         \u001b[1;32mfor\u001b[0m \u001b[0mplaylist\u001b[0m \u001b[1;32min\u001b[0m \u001b[0mdata\u001b[0m\u001b[1;33m[\u001b[0m\u001b[1;34m'playlists'\u001b[0m\u001b[1;33m]\u001b[0m\u001b[1;33m:\u001b[0m\u001b[1;33m\u001b[0m\u001b[1;33m\u001b[0m\u001b[0m\n",
      "\u001b[1;31mFileNotFoundError\u001b[0m: [Errno 2] No such file or directory: 'mpd.slice.15000-15999.json'"
     ]
    }
   ],
   "source": [
    "file_paths = [\n",
    "    'mpd.slice.15000-15999.json',\n",
    "    'mpd.slice.16000-16999.json',\n",
    "    'mpd.slice.17000-17999.json',\n",
    "    'mpd.slice.18000-18999.json',\n",
    "    'mpd.slice.19000-19999.json',\n",
    "    'mpd.slice.20000-20999.json',\n",
    "    'mpd.slice.21000-21999.json',\n",
    "    'mpd.slice.22000-22999.json',\n",
    "    'mpd.slice.23000-23999.json',\n",
    "    'mpd.slice.24000-24999.json',\n",
    "    'mpd.slice.25000-25999.json',\n",
    "    'mpd.slice.26000-26999.json',\n",
    "    'mpd.slice.27000-27999.json',\n",
    "    'mpd.slice.28000-28999.json',\n",
    "    'mpd.slice.29000-29999.json',\n",
    "    'mpd.slice.30000-30999.json',\n",
    "]\n",
    "\n",
    "all_data = []\n",
    "\n",
    "for file_path in file_paths:\n",
    "    with open(file_path, 'r') as file:\n",
    "        data = json.load(file)\n",
    "        for playlist in data['playlists']:\n",
    "            playlist_name = playlist['name']\n",
    "            for track in playlist['tracks']:\n",
    "                all_data.append({\n",
    "                    \"playlist_name\": playlist_name,\n",
    "                    \"position_in_playlist\": track[\"pos\"],\n",
    "                    \"track_id\": track['track_uri'],\n",
    "                    \"track_name\": track['track_name'],\n",
    "                    \"artist_name\": track['artist_name'],\n",
    "                    \"duration_ms\": track['duration_ms'],\n",
    "                    \"album_name\": track['album_name']\n",
    "                })\n",
    "                # Add and remove for DBSCAN\n",
    "                if len(all_data) >= 1000:\n",
    "                    break\n",
    "            if len(all_data) >= 1000:\n",
    "                break\n",
    "        if len(all_data) >= 1000:\n",
    "            break\n",
    "df = pd.DataFrame(all_data)"
   ]
  },
  {
   "cell_type": "code",
   "execution_count": null,
   "id": "df16fded",
   "metadata": {},
   "outputs": [],
   "source": [
    "df.info()"
   ]
  },
  {
   "cell_type": "code",
   "execution_count": null,
   "id": "bb2b4638",
   "metadata": {},
   "outputs": [],
   "source": [
    "# Count how many playlists each track appears in\n",
    "track_counts = df.groupby(['track_id', 'track_name', 'artist_name']).size().reset_index(name='count')"
   ]
  },
  {
   "cell_type": "code",
   "execution_count": null,
   "id": "1fc6f4f6",
   "metadata": {},
   "outputs": [],
   "source": [
    "# Normalize counts to a popularity score (1-10)\n",
    "min_count = track_counts['count'].min()\n",
    "max_count = track_counts['count'].max()\n",
    "track_counts['popularity_score'] = (\n",
    "    ((track_counts['count'] - min_count) / (max_count - min_count) * 9 + 1\n",
    ").astype(int))"
   ]
  },
  {
   "cell_type": "code",
   "execution_count": null,
   "id": "4c9ac0ab",
   "metadata": {},
   "outputs": [],
   "source": [
    "# Merge popularity scores back into the original DataFrame\n",
    "df_with_popularity = df.merge(\n",
    "    track_counts[['track_id', 'popularity_score']],\n",
    "    on='track_id',\n",
    "    how='left'\n",
    ")"
   ]
  },
  {
   "cell_type": "markdown",
   "id": "89143f2d",
   "metadata": {},
   "source": [
    "# Popularity Score\n",
    "\n",
    "## What Does the Score Tell You?\n",
    "#### High Popularity Score (8-10):\n",
    "\n",
    "#### Tracks with high scores are included in many playlists, indicating they are widely popular or well-liked.\n",
    "\n",
    "#### Medium Popularity Score (4-7):\n",
    "\n",
    "#### Tracks with medium scores are moderately popular and appear in a reasonable number of playlists.\n",
    "\n",
    "#### Low Popularity Score (1-3):\n",
    "\n",
    "#### Tracks with low scores are less popular and appear in only a few playlists."
   ]
  },
  {
   "cell_type": "code",
   "execution_count": null,
   "id": "9b21c978",
   "metadata": {},
   "outputs": [],
   "source": [
    "df_with_popularity['popularity_score']"
   ]
  },
  {
   "cell_type": "code",
   "execution_count": null,
   "id": "3acfd450",
   "metadata": {},
   "outputs": [],
   "source": [
    "df_with_popularity[df_with_popularity['popularity_score'] == 1]"
   ]
  },
  {
   "cell_type": "code",
   "execution_count": null,
   "id": "b5875f87",
   "metadata": {},
   "outputs": [],
   "source": [
    "df.info()"
   ]
  },
  {
   "cell_type": "code",
   "execution_count": null,
   "id": "e4161ab1",
   "metadata": {},
   "outputs": [],
   "source": [
    "df.head()"
   ]
  },
  {
   "cell_type": "code",
   "execution_count": null,
   "id": "1c379cbf",
   "metadata": {},
   "outputs": [],
   "source": [
    "track_name = df.drop_duplicates(subset=['track_name'])"
   ]
  },
  {
   "cell_type": "code",
   "execution_count": null,
   "id": "44fd1a53",
   "metadata": {},
   "outputs": [],
   "source": [
    "track_name.info()"
   ]
  },
  {
   "cell_type": "code",
   "execution_count": null,
   "id": "6e07ad66",
   "metadata": {
    "scrolled": false
   },
   "outputs": [],
   "source": [
    "track_name.head(1000)"
   ]
  },
  {
   "cell_type": "code",
   "execution_count": null,
   "id": "2e4e8b88",
   "metadata": {},
   "outputs": [],
   "source": [
    "artists = df.drop_duplicates(subset=['artist_name'])"
   ]
  },
  {
   "cell_type": "code",
   "execution_count": null,
   "id": "f621c358",
   "metadata": {},
   "outputs": [],
   "source": [
    "artists.info()"
   ]
  },
  {
   "cell_type": "code",
   "execution_count": null,
   "id": "6c440c5e",
   "metadata": {},
   "outputs": [],
   "source": [
    "playlists = df.drop_duplicates(subset=['playlist_name'])"
   ]
  },
  {
   "cell_type": "code",
   "execution_count": null,
   "id": "fcf511ef",
   "metadata": {},
   "outputs": [],
   "source": [
    "playlists.info()"
   ]
  },
  {
   "cell_type": "code",
   "execution_count": null,
   "id": "c3dad951",
   "metadata": {},
   "outputs": [],
   "source": [
    "file_path = 'mpd.slice.15000-15999.json'  # Replace with your file path\n",
    "with open(file_path, 'r') as file:\n",
    "    data1 = json.load(file)\n",
    "\n",
    "# Extract track information\n",
    "tracks_data = []\n",
    "for playlist in data1['playlists']:\n",
    "    for track in playlist['tracks']:\n",
    "        tracks_data.append({\n",
    "            \"playlist_name\": playlist['name'],\n",
    "            \"track_name\": track['track_name'],\n",
    "            \"artist_name\": track['artist_name'],\n",
    "            \"track_id\": track['track_uri'],  # Use 'track_uri' or 'track_id'\n",
    "            \"duration_ms\": track['duration_ms']\n",
    "        })\n",
    "\n",
    "# Convert to a DataFrame\n",
    "df1 = pd.DataFrame(tracks_data)"
   ]
  },
  {
   "cell_type": "code",
   "execution_count": null,
   "id": "1435ec96",
   "metadata": {},
   "outputs": [],
   "source": []
  }
 ],
 "metadata": {
  "kernelspec": {
   "display_name": "Python 3 (ipykernel)",
   "language": "python",
   "name": "python3"
  },
  "language_info": {
   "codemirror_mode": {
    "name": "ipython",
    "version": 3
   },
   "file_extension": ".py",
   "mimetype": "text/x-python",
   "name": "python",
   "nbconvert_exporter": "python",
   "pygments_lexer": "ipython3",
   "version": "3.9.13"
  }
 },
 "nbformat": 4,
 "nbformat_minor": 5
}
