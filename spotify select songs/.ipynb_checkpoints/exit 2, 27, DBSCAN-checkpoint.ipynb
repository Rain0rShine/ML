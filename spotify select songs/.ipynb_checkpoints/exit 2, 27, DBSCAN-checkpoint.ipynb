{
 "cells": [
  {
   "cell_type": "code",
   "execution_count": 1,
   "id": "74982f46",
   "metadata": {},
   "outputs": [],
   "source": [
    "import json\n",
    "import requests\n",
    "import pandas as pd"
   ]
  },
  {
   "cell_type": "code",
   "execution_count": 2,
   "id": "63ca52bc",
   "metadata": {},
   "outputs": [],
   "source": [
    "from sklearn.cluster import DBSCAN\n",
    "from sklearn.metrics import silhouette_score"
   ]
  },
  {
   "cell_type": "code",
   "execution_count": 3,
   "id": "318993d8",
   "metadata": {},
   "outputs": [
    {
     "data": {
      "text/html": [
       "<div>\n",
       "<style scoped>\n",
       "    .dataframe tbody tr th:only-of-type {\n",
       "        vertical-align: middle;\n",
       "    }\n",
       "\n",
       "    .dataframe tbody tr th {\n",
       "        vertical-align: top;\n",
       "    }\n",
       "\n",
       "    .dataframe thead th {\n",
       "        text-align: right;\n",
       "    }\n",
       "</style>\n",
       "<table border=\"1\" class=\"dataframe\">\n",
       "  <thead>\n",
       "    <tr style=\"text-align: right;\">\n",
       "      <th></th>\n",
       "      <th>playlist</th>\n",
       "      <th>tracks</th>\n",
       "      <th>average_track_popularity</th>\n",
       "      <th>albums</th>\n",
       "      <th>artists</th>\n",
       "      <th>top_genre</th>\n",
       "      <th>average_artist_popularity</th>\n",
       "      <th>average_danceability</th>\n",
       "      <th>top_key</th>\n",
       "      <th>average_tempo</th>\n",
       "      <th>top_time_signature</th>\n",
       "    </tr>\n",
       "  </thead>\n",
       "  <tbody>\n",
       "    <tr>\n",
       "      <th>0</th>\n",
       "      <td>Playlist 1</td>\n",
       "      <td>['Oops!...I Did It Again', 'All The Small Thin...</td>\n",
       "      <td>65.66</td>\n",
       "      <td>['Oops!... I Did It Again', 'Enema Of The Stat...</td>\n",
       "      <td>['Britney Spears', 'blink-182', 'Faith Hill', ...</td>\n",
       "      <td>'dancepop'</td>\n",
       "      <td>66.17</td>\n",
       "      <td>0.65875</td>\n",
       "      <td>0</td>\n",
       "      <td>122.75544</td>\n",
       "      <td>4</td>\n",
       "    </tr>\n",
       "    <tr>\n",
       "      <th>1</th>\n",
       "      <td>Playlist 2</td>\n",
       "      <td>[\"It Wasn't Me\", 'Murder On The Dancefloor', '...</td>\n",
       "      <td>66.79</td>\n",
       "      <td>['Hot Shot', 'Read My Lips', 'The Marshall Mat...</td>\n",
       "      <td>['Shaggy', 'Sophie Ellis-Bextor', 'Eminem', 'K...</td>\n",
       "      <td>'dancepop'</td>\n",
       "      <td>65.65</td>\n",
       "      <td>0.67281</td>\n",
       "      <td>1</td>\n",
       "      <td>115.99193</td>\n",
       "      <td>4</td>\n",
       "    </tr>\n",
       "    <tr>\n",
       "      <th>2</th>\n",
       "      <td>Playlist 3</td>\n",
       "      <td>['Dilemma', 'Without Me', 'Complicated', 'A Th...</td>\n",
       "      <td>64.64</td>\n",
       "      <td>['Nellyville', 'The Eminem Show', 'Let Go', 'B...</td>\n",
       "      <td>['Nelly', 'Eminem', 'Avril Lavigne', 'Vanessa ...</td>\n",
       "      <td>'dancepop'</td>\n",
       "      <td>69.48</td>\n",
       "      <td>0.65076</td>\n",
       "      <td>2</td>\n",
       "      <td>119.75400</td>\n",
       "      <td>4</td>\n",
       "    </tr>\n",
       "    <tr>\n",
       "      <th>3</th>\n",
       "      <td>Playlist 4</td>\n",
       "      <td>['In Da Club', 'Seven Nation Army', 'Lose Your...</td>\n",
       "      <td>66.25</td>\n",
       "      <td>[\"Get Rich Or Die Tryin'\", 'Elephant', 'Curtai...</td>\n",
       "      <td>['50 Cent', 'The White Stripes', 'Eminem', 'Be...</td>\n",
       "      <td>'dancepop'</td>\n",
       "      <td>68.93</td>\n",
       "      <td>0.66311</td>\n",
       "      <td>6</td>\n",
       "      <td>116.05242</td>\n",
       "      <td>4</td>\n",
       "    </tr>\n",
       "    <tr>\n",
       "      <th>4</th>\n",
       "      <td>Playlist 5</td>\n",
       "      <td>['Yeah! (feat. Lil Jon &amp; Ludacris)', 'This Lov...</td>\n",
       "      <td>67.68</td>\n",
       "      <td>['Confessions (Expanded Edition)', 'Songs Abou...</td>\n",
       "      <td>['USHER', 'Maroon 5', 'Rascal Flatts', 'Britne...</td>\n",
       "      <td>'dancepop'</td>\n",
       "      <td>69.48</td>\n",
       "      <td>0.66997</td>\n",
       "      <td>1</td>\n",
       "      <td>117.81705</td>\n",
       "      <td>4</td>\n",
       "    </tr>\n",
       "  </tbody>\n",
       "</table>\n",
       "</div>"
      ],
      "text/plain": [
       "     playlist                                             tracks  \\\n",
       "0  Playlist 1  ['Oops!...I Did It Again', 'All The Small Thin...   \n",
       "1  Playlist 2  [\"It Wasn't Me\", 'Murder On The Dancefloor', '...   \n",
       "2  Playlist 3  ['Dilemma', 'Without Me', 'Complicated', 'A Th...   \n",
       "3  Playlist 4  ['In Da Club', 'Seven Nation Army', 'Lose Your...   \n",
       "4  Playlist 5  ['Yeah! (feat. Lil Jon & Ludacris)', 'This Lov...   \n",
       "\n",
       "   average_track_popularity  \\\n",
       "0                     65.66   \n",
       "1                     66.79   \n",
       "2                     64.64   \n",
       "3                     66.25   \n",
       "4                     67.68   \n",
       "\n",
       "                                              albums  \\\n",
       "0  ['Oops!... I Did It Again', 'Enema Of The Stat...   \n",
       "1  ['Hot Shot', 'Read My Lips', 'The Marshall Mat...   \n",
       "2  ['Nellyville', 'The Eminem Show', 'Let Go', 'B...   \n",
       "3  [\"Get Rich Or Die Tryin'\", 'Elephant', 'Curtai...   \n",
       "4  ['Confessions (Expanded Edition)', 'Songs Abou...   \n",
       "\n",
       "                                             artists   top_genre  \\\n",
       "0  ['Britney Spears', 'blink-182', 'Faith Hill', ...  'dancepop'   \n",
       "1  ['Shaggy', 'Sophie Ellis-Bextor', 'Eminem', 'K...  'dancepop'   \n",
       "2  ['Nelly', 'Eminem', 'Avril Lavigne', 'Vanessa ...  'dancepop'   \n",
       "3  ['50 Cent', 'The White Stripes', 'Eminem', 'Be...  'dancepop'   \n",
       "4  ['USHER', 'Maroon 5', 'Rascal Flatts', 'Britne...  'dancepop'   \n",
       "\n",
       "   average_artist_popularity  average_danceability  top_key  average_tempo  \\\n",
       "0                      66.17               0.65875        0      122.75544   \n",
       "1                      65.65               0.67281        1      115.99193   \n",
       "2                      69.48               0.65076        2      119.75400   \n",
       "3                      68.93               0.66311        6      116.05242   \n",
       "4                      69.48               0.66997        1      117.81705   \n",
       "\n",
       "   top_time_signature  \n",
       "0                   4  \n",
       "1                   4  \n",
       "2                   4  \n",
       "3                   4  \n",
       "4                   4  "
      ]
     },
     "execution_count": 3,
     "metadata": {},
     "output_type": "execute_result"
    }
   ],
   "source": [
    "df = pd.read_csv('playlist_exit_ticket.csv')\n",
    "df.head()"
   ]
  },
  {
   "cell_type": "code",
   "execution_count": 4,
   "id": "f634385e",
   "metadata": {},
   "outputs": [
    {
     "name": "stdout",
     "output_type": "stream",
     "text": [
      "<class 'pandas.core.frame.DataFrame'>\n",
      "RangeIndex: 24 entries, 0 to 23\n",
      "Data columns (total 11 columns):\n",
      " #   Column                     Non-Null Count  Dtype  \n",
      "---  ------                     --------------  -----  \n",
      " 0   playlist                   24 non-null     object \n",
      " 1   tracks                     24 non-null     object \n",
      " 2   average_track_popularity   24 non-null     float64\n",
      " 3   albums                     24 non-null     object \n",
      " 4   artists                    24 non-null     object \n",
      " 5   top_genre                  24 non-null     object \n",
      " 6   average_artist_popularity  24 non-null     float64\n",
      " 7   average_danceability       24 non-null     float64\n",
      " 8   top_key                    24 non-null     int64  \n",
      " 9   average_tempo              24 non-null     float64\n",
      " 10  top_time_signature         24 non-null     int64  \n",
      "dtypes: float64(4), int64(2), object(5)\n",
      "memory usage: 2.2+ KB\n"
     ]
    }
   ],
   "source": [
    "df.info()"
   ]
  },
  {
   "cell_type": "code",
   "execution_count": 5,
   "id": "5034bb76",
   "metadata": {},
   "outputs": [],
   "source": [
    "X = df[['average_track_popularity', 'average_artist_popularity']]"
   ]
  },
  {
   "cell_type": "code",
   "execution_count": 6,
   "id": "bf9ad99c",
   "metadata": {},
   "outputs": [],
   "source": [
    "model = DBSCAN(eps=3, min_samples=2).fit(X)"
   ]
  },
  {
   "cell_type": "code",
   "execution_count": 7,
   "id": "90650ea8",
   "metadata": {},
   "outputs": [
    {
     "data": {
      "text/plain": [
       "array([ 0,  0,  0,  0,  0,  0,  0,  0,  0,  0,  0,  0,  1,  1,  0,  1,  1,\n",
       "        1,  1,  1,  2,  2, -1, -1], dtype=int64)"
      ]
     },
     "execution_count": 7,
     "metadata": {},
     "output_type": "execute_result"
    }
   ],
   "source": [
    "model.labels_"
   ]
  },
  {
   "cell_type": "code",
   "execution_count": 8,
   "id": "25776183",
   "metadata": {},
   "outputs": [],
   "source": [
    "df['labels'] = model.labels_"
   ]
  },
  {
   "cell_type": "code",
   "execution_count": 9,
   "id": "611a7473",
   "metadata": {},
   "outputs": [
    {
     "data": {
      "text/html": [
       "<div>\n",
       "<style scoped>\n",
       "    .dataframe tbody tr th:only-of-type {\n",
       "        vertical-align: middle;\n",
       "    }\n",
       "\n",
       "    .dataframe tbody tr th {\n",
       "        vertical-align: top;\n",
       "    }\n",
       "\n",
       "    .dataframe thead th {\n",
       "        text-align: right;\n",
       "    }\n",
       "</style>\n",
       "<table border=\"1\" class=\"dataframe\">\n",
       "  <thead>\n",
       "    <tr style=\"text-align: right;\">\n",
       "      <th></th>\n",
       "      <th>playlist</th>\n",
       "      <th>tracks</th>\n",
       "      <th>average_track_popularity</th>\n",
       "      <th>albums</th>\n",
       "      <th>artists</th>\n",
       "      <th>top_genre</th>\n",
       "      <th>average_artist_popularity</th>\n",
       "      <th>average_danceability</th>\n",
       "      <th>top_key</th>\n",
       "      <th>average_tempo</th>\n",
       "      <th>top_time_signature</th>\n",
       "      <th>labels</th>\n",
       "    </tr>\n",
       "  </thead>\n",
       "  <tbody>\n",
       "    <tr>\n",
       "      <th>19</th>\n",
       "      <td>Playlist 20</td>\n",
       "      <td>['thank u, next', 'bad guy', 'Señorita', '7 ri...</td>\n",
       "      <td>76.10</td>\n",
       "      <td>['thank u, next', 'WHEN WE ALL FALL ASLEEP, WH...</td>\n",
       "      <td>['Ariana Grande', 'Billie Eilish', 'Shawn Mend...</td>\n",
       "      <td>'pop'</td>\n",
       "      <td>81.16</td>\n",
       "      <td>0.71004</td>\n",
       "      <td>1</td>\n",
       "      <td>120.02957</td>\n",
       "      <td>4</td>\n",
       "      <td>1</td>\n",
       "    </tr>\n",
       "    <tr>\n",
       "      <th>20</th>\n",
       "      <td>Playlist 21</td>\n",
       "      <td>['The Box', 'Blinding Lights', 'positions', 'R...</td>\n",
       "      <td>61.48</td>\n",
       "      <td>['Please Excuse Me for Being Antisocial', 'Bli...</td>\n",
       "      <td>['Roddy Ricch', 'The Weeknd', 'Ariana Grande',...</td>\n",
       "      <td>'pop'</td>\n",
       "      <td>81.85</td>\n",
       "      <td>0.70309</td>\n",
       "      <td>6</td>\n",
       "      <td>120.45447</td>\n",
       "      <td>4</td>\n",
       "      <td>2</td>\n",
       "    </tr>\n",
       "    <tr>\n",
       "      <th>21</th>\n",
       "      <td>Playlist 22</td>\n",
       "      <td>['deja vu', 'MONTERO (Call Me By Your Name)', ...</td>\n",
       "      <td>63.13</td>\n",
       "      <td>['deja vu', 'MONTERO (Call Me By Your Name)', ...</td>\n",
       "      <td>['Olivia Rodrigo', 'Lil Nas X', 'Måneskin', 'S...</td>\n",
       "      <td>'pop'</td>\n",
       "      <td>83.65</td>\n",
       "      <td>0.68754</td>\n",
       "      <td>1</td>\n",
       "      <td>119.97148</td>\n",
       "      <td>4</td>\n",
       "      <td>2</td>\n",
       "    </tr>\n",
       "    <tr>\n",
       "      <th>22</th>\n",
       "      <td>Playlist 23</td>\n",
       "      <td>['Me Porto Bonito', 'Anti-Hero', 'As It Was', ...</td>\n",
       "      <td>68.63</td>\n",
       "      <td>['Un Verano Sin Ti', 'Midnights', 'As It Was',...</td>\n",
       "      <td>['Bad Bunny', 'Taylor Swift', 'Harry Styles', ...</td>\n",
       "      <td>'pop'</td>\n",
       "      <td>83.91</td>\n",
       "      <td>0.67006</td>\n",
       "      <td>1</td>\n",
       "      <td>125.11037</td>\n",
       "      <td>4</td>\n",
       "      <td>-1</td>\n",
       "    </tr>\n",
       "    <tr>\n",
       "      <th>23</th>\n",
       "      <td>Playlist 24</td>\n",
       "      <td>['Kill Bill', 'Seven (feat. Latto)', 'Flowers'...</td>\n",
       "      <td>76.77</td>\n",
       "      <td>['SOS', 'Seven (feat. Latto)', 'Flowers', 'Wha...</td>\n",
       "      <td>['SZA', 'Jung Kook', 'Miley Cyrus', 'Billie Ei...</td>\n",
       "      <td>'pop'</td>\n",
       "      <td>84.83</td>\n",
       "      <td>0.67525</td>\n",
       "      <td>5</td>\n",
       "      <td>121.50287</td>\n",
       "      <td>4</td>\n",
       "      <td>-1</td>\n",
       "    </tr>\n",
       "  </tbody>\n",
       "</table>\n",
       "</div>"
      ],
      "text/plain": [
       "       playlist                                             tracks  \\\n",
       "19  Playlist 20  ['thank u, next', 'bad guy', 'Señorita', '7 ri...   \n",
       "20  Playlist 21  ['The Box', 'Blinding Lights', 'positions', 'R...   \n",
       "21  Playlist 22  ['deja vu', 'MONTERO (Call Me By Your Name)', ...   \n",
       "22  Playlist 23  ['Me Porto Bonito', 'Anti-Hero', 'As It Was', ...   \n",
       "23  Playlist 24  ['Kill Bill', 'Seven (feat. Latto)', 'Flowers'...   \n",
       "\n",
       "    average_track_popularity  \\\n",
       "19                     76.10   \n",
       "20                     61.48   \n",
       "21                     63.13   \n",
       "22                     68.63   \n",
       "23                     76.77   \n",
       "\n",
       "                                               albums  \\\n",
       "19  ['thank u, next', 'WHEN WE ALL FALL ASLEEP, WH...   \n",
       "20  ['Please Excuse Me for Being Antisocial', 'Bli...   \n",
       "21  ['deja vu', 'MONTERO (Call Me By Your Name)', ...   \n",
       "22  ['Un Verano Sin Ti', 'Midnights', 'As It Was',...   \n",
       "23  ['SOS', 'Seven (feat. Latto)', 'Flowers', 'Wha...   \n",
       "\n",
       "                                              artists top_genre  \\\n",
       "19  ['Ariana Grande', 'Billie Eilish', 'Shawn Mend...     'pop'   \n",
       "20  ['Roddy Ricch', 'The Weeknd', 'Ariana Grande',...     'pop'   \n",
       "21  ['Olivia Rodrigo', 'Lil Nas X', 'Måneskin', 'S...     'pop'   \n",
       "22  ['Bad Bunny', 'Taylor Swift', 'Harry Styles', ...     'pop'   \n",
       "23  ['SZA', 'Jung Kook', 'Miley Cyrus', 'Billie Ei...     'pop'   \n",
       "\n",
       "    average_artist_popularity  average_danceability  top_key  average_tempo  \\\n",
       "19                      81.16               0.71004        1      120.02957   \n",
       "20                      81.85               0.70309        6      120.45447   \n",
       "21                      83.65               0.68754        1      119.97148   \n",
       "22                      83.91               0.67006        1      125.11037   \n",
       "23                      84.83               0.67525        5      121.50287   \n",
       "\n",
       "    top_time_signature  labels  \n",
       "19                   4       1  \n",
       "20                   4       2  \n",
       "21                   4       2  \n",
       "22                   4      -1  \n",
       "23                   4      -1  "
      ]
     },
     "execution_count": 9,
     "metadata": {},
     "output_type": "execute_result"
    }
   ],
   "source": [
    "df.tail()"
   ]
  },
  {
   "cell_type": "code",
   "execution_count": 10,
   "id": "e4c623ac",
   "metadata": {},
   "outputs": [
    {
     "data": {
      "text/plain": [
       "0.4374976761593561"
      ]
     },
     "execution_count": 10,
     "metadata": {},
     "output_type": "execute_result"
    }
   ],
   "source": [
    "silhouette_score(X, model.fit_predict(X))"
   ]
  },
  {
   "cell_type": "markdown",
   "id": "77398e53",
   "metadata": {},
   "source": [
    "# K-Means"
   ]
  },
  {
   "cell_type": "code",
   "execution_count": 12,
   "id": "0359fea3",
   "metadata": {},
   "outputs": [],
   "source": [
    "import matplotlib.pyplot as plt\n",
    "from sklearn.datasets import make_blobs\n",
    "from sklearn.metrics import silhouette_samples, silhouette_score\n",
    "from sklearn.cluster import KMeans\n",
    "from sklearn.model_selection import train_test_split"
   ]
  },
  {
   "cell_type": "code",
   "execution_count": 13,
   "id": "5c25b472",
   "metadata": {},
   "outputs": [
    {
     "data": {
      "text/html": [
       "<div>\n",
       "<style scoped>\n",
       "    .dataframe tbody tr th:only-of-type {\n",
       "        vertical-align: middle;\n",
       "    }\n",
       "\n",
       "    .dataframe tbody tr th {\n",
       "        vertical-align: top;\n",
       "    }\n",
       "\n",
       "    .dataframe thead th {\n",
       "        text-align: right;\n",
       "    }\n",
       "</style>\n",
       "<table border=\"1\" class=\"dataframe\">\n",
       "  <thead>\n",
       "    <tr style=\"text-align: right;\">\n",
       "      <th></th>\n",
       "      <th>average_track_popularity</th>\n",
       "      <th>average_artist_popularity</th>\n",
       "    </tr>\n",
       "  </thead>\n",
       "  <tbody>\n",
       "    <tr>\n",
       "      <th>21</th>\n",
       "      <td>63.13</td>\n",
       "      <td>83.65</td>\n",
       "    </tr>\n",
       "    <tr>\n",
       "      <th>5</th>\n",
       "      <td>68.30</td>\n",
       "      <td>72.62</td>\n",
       "    </tr>\n",
       "    <tr>\n",
       "      <th>2</th>\n",
       "      <td>64.64</td>\n",
       "      <td>69.48</td>\n",
       "    </tr>\n",
       "    <tr>\n",
       "      <th>12</th>\n",
       "      <td>72.99</td>\n",
       "      <td>78.68</td>\n",
       "    </tr>\n",
       "    <tr>\n",
       "      <th>15</th>\n",
       "      <td>76.10</td>\n",
       "      <td>78.89</td>\n",
       "    </tr>\n",
       "  </tbody>\n",
       "</table>\n",
       "</div>"
      ],
      "text/plain": [
       "    average_track_popularity  average_artist_popularity\n",
       "21                     63.13                      83.65\n",
       "5                      68.30                      72.62\n",
       "2                      64.64                      69.48\n",
       "12                     72.99                      78.68\n",
       "15                     76.10                      78.89"
      ]
     },
     "execution_count": 13,
     "metadata": {},
     "output_type": "execute_result"
    }
   ],
   "source": [
    "from sklearn.model_selection import train_test_split\n",
    "train_df, _ = train_test_split(df, test_size=0.3, random_state=42) \n",
    "train_df = train_df[[\"average_track_popularity\", \"average_artist_popularity\"]]\n",
    "train_df.head()"
   ]
  },
  {
   "cell_type": "code",
   "execution_count": 14,
   "id": "bb81e0a8",
   "metadata": {},
   "outputs": [
    {
     "data": {
      "text/plain": [
       "KMeans(n_clusters=2)"
      ]
     },
     "execution_count": 14,
     "metadata": {},
     "output_type": "execute_result"
    }
   ],
   "source": [
    "model = KMeans(n_clusters=2)\n",
    "model.fit(train_df)"
   ]
  },
  {
   "cell_type": "code",
   "execution_count": 15,
   "id": "ea892e9f",
   "metadata": {},
   "outputs": [
    {
     "data": {
      "text/plain": [
       "array([[71.86222222, 81.08777778],\n",
       "       [67.61714286, 71.01142857]])"
      ]
     },
     "execution_count": 15,
     "metadata": {},
     "output_type": "execute_result"
    }
   ],
   "source": [
    "model.cluster_centers_"
   ]
  },
  {
   "cell_type": "code",
   "execution_count": 16,
   "id": "dee2b607",
   "metadata": {},
   "outputs": [
    {
     "name": "stderr",
     "output_type": "stream",
     "text": [
      "C:\\ProgramData\\Anaconda3\\lib\\site-packages\\sklearn\\cluster\\_kmeans.py:1036: UserWarning: KMeans is known to have a memory leak on Windows with MKL, when there are less chunks than available threads. You can avoid it by setting the environment variable OMP_NUM_THREADS=1.\n",
      "  warnings.warn(\n"
     ]
    },
    {
     "data": {
      "image/png": "[encoded data removed]",
      "text/plain": [
       "<Figure size 640x480 with 1 Axes>"
      ]
     },
     "metadata": {},
     "output_type": "display_data"
    }
   ],
   "source": [
    "import matplotlib.pyplot as plt\n",
    "from sklearn.cluster import KMeans\n",
    "\n",
    "elbow = []\n",
    "\n",
    "# Assuming 'train_df' is your dataset (replace with your actual dataset)\n",
    "for x in range(1, 16):\n",
    "    model = KMeans(n_clusters=x)\n",
    "    model.fit(train_df)  # Fit the model to your dataset\n",
    "    elbow.append(model.inertia_)  # Append inertia to the list\n",
    "\n",
    "# Plotting the Elbow graph\n",
    "plt.plot(range(1, 16), elbow)\n",
    "plt.xlabel('Number of clusters')\n",
    "plt.ylabel('Inertia')\n",
    "plt.title('Elbow Method')\n",
    "plt.show()"
   ]
  },
  {
   "cell_type": "code",
   "execution_count": 17,
   "id": "d229594a",
   "metadata": {},
   "outputs": [],
   "source": [
    "greatestSil = 0\n",
    "for x in range(2, 10):\n",
    "    model = KMeans(n_clusters=x)\n",
    "    model.fit(train_df)\n",
    "    \n",
    "    if silhouette_score(train_df, model.labels_) > greatestSil:\n",
    "        greatestSil = silhouette_score(train_df, model.labels_)\n",
    "        bestCluster = x\n",
    "        "
   ]
  },
  {
   "cell_type": "code",
   "execution_count": 18,
   "id": "102de33d",
   "metadata": {},
   "outputs": [
    {
     "data": {
      "text/plain": [
       "0.6057596767923137"
      ]
     },
     "execution_count": 18,
     "metadata": {},
     "output_type": "execute_result"
    }
   ],
   "source": [
    "greatestSil"
   ]
  },
  {
   "cell_type": "code",
   "execution_count": 19,
   "id": "35d79e47",
   "metadata": {},
   "outputs": [
    {
     "data": {
      "text/plain": [
       "3"
      ]
     },
     "execution_count": 19,
     "metadata": {},
     "output_type": "execute_result"
    }
   ],
   "source": [
    "bestCluster"
   ]
  },
  {
   "cell_type": "code",
   "execution_count": 21,
   "id": "9f858186",
   "metadata": {},
   "outputs": [
    {
     "data": {
      "text/plain": [
       "KMeans(n_clusters=3)"
      ]
     },
     "execution_count": 21,
     "metadata": {},
     "output_type": "execute_result"
    }
   ],
   "source": [
    "model = KMeans(n_clusters=3)\n",
    "model.fit(train_df)"
   ]
  },
  {
   "cell_type": "code",
   "execution_count": 22,
   "id": "b7e7a06b",
   "metadata": {},
   "outputs": [
    {
     "data": {
      "text/plain": [
       "array([[64.41333333, 83.13666667],\n",
       "       [75.58666667, 80.06333333],\n",
       "       [67.61714286, 71.01142857]])"
      ]
     },
     "execution_count": 22,
     "metadata": {},
     "output_type": "execute_result"
    }
   ],
   "source": [
    "model.cluster_centers_"
   ]
  },
  {
   "cell_type": "code",
   "execution_count": null,
   "id": "f1e5ff26",
   "metadata": {},
   "outputs": [],
   "source": []
  }
 ],
 "metadata": {
  "kernelspec": {
   "display_name": "Python 3 (ipykernel)",
   "language": "python",
   "name": "python3"
  },
  "language_info": {
   "codemirror_mode": {
    "name": "ipython",
    "version": 3
   },
   "file_extension": ".py",
   "mimetype": "text/x-python",
   "name": "python",
   "nbconvert_exporter": "python",
   "pygments_lexer": "ipython3",
   "version": "3.9.13"
  }
 },
 "nbformat": 4,
 "nbformat_minor": 5
}
