{
 "cells": [
  {
   "cell_type": "markdown",
   "id": "1b940825",
   "metadata": {},
   "source": [
    "# RFP: Targeted Taco Bell Ads\n",
    "\n",
    "## Project Overview\n",
    "You are invited to submit a proposal that answers the following question:\n",
    "\n",
    "### What ad will you create and why?\n",
    "\n",
    "*Please submit your proposal by **1/30/25 at 11:59 PM**.*"
   ]
  },
  {
   "cell_type": "markdown",
   "id": "968a85f0",
   "metadata": {},
   "source": [
    "## Required Proposal Components\n",
    "\n",
    "### 1. Data Description\n",
    "In the code cell below, read in the data you will need to train and test your model. Call `info()` once you have read the data into a dataframe. Consider using some or all of the following sources:\n",
    "- [Customer Demographics](https://drive.google.com/file/d/1HK42Oa3bhhRDWR1y1wVBDAQ2tbNwg1gS/view?usp=sharing)\n",
    "- [Ad Response Data](https://drive.google.com/file/d/1cuLqXPNKhP66m5BP9BAlci2G--Vopt-Z/view?usp=sharing)\n",
    "\n",
    "*Note, a level 5 dataset combines these two data sets.*"
   ]
  },
  {
   "cell_type": "code",
   "execution_count": 1,
   "id": "08c1688a",
   "metadata": {},
   "outputs": [],
   "source": [
    "# Read data into a dataframe(s).\n",
    "# Don't forget to call info()!"
   ]
  },
  {
   "cell_type": "code",
   "execution_count": 2,
   "id": "d6734de3",
   "metadata": {},
   "outputs": [],
   "source": [
    "import pandas as pd\n",
    "ad = pd.read_csv('ad_data.csv')\n",
    "customer = pd.read_csv('customer_data.csv')"
   ]
  },
  {
   "cell_type": "code",
   "execution_count": 3,
   "id": "89349aac",
   "metadata": {},
   "outputs": [],
   "source": [
    "import seaborn as sns\n",
    "import numpy as np\n",
    "import matplotlib.pyplot as plt\n",
    "from sklearn.datasets import make_blobs\n",
    "from sklearn.metrics import silhouette_samples, silhouette_score\n",
    "from sklearn.cluster import KMeans\n",
    "from sklearn.model_selection import train_test_split"
   ]
  },
  {
   "cell_type": "code",
   "execution_count": 4,
   "id": "85329554",
   "metadata": {},
   "outputs": [
    {
     "data": {
      "text/html": [
       "<div>\n",
       "<style scoped>\n",
       "    .dataframe tbody tr th:only-of-type {\n",
       "        vertical-align: middle;\n",
       "    }\n",
       "\n",
       "    .dataframe tbody tr th {\n",
       "        vertical-align: top;\n",
       "    }\n",
       "\n",
       "    .dataframe thead th {\n",
       "        text-align: right;\n",
       "    }\n",
       "</style>\n",
       "<table border=\"1\" class=\"dataframe\">\n",
       "  <thead>\n",
       "    <tr style=\"text-align: right;\">\n",
       "      <th></th>\n",
       "      <th>customer_id</th>\n",
       "      <th>ad_type</th>\n",
       "      <th>ad_medium</th>\n",
       "      <th>ad_response</th>\n",
       "      <th>items_purchased</th>\n",
       "      <th>drinks_purchased</th>\n",
       "    </tr>\n",
       "  </thead>\n",
       "  <tbody>\n",
       "    <tr>\n",
       "      <th>0</th>\n",
       "      <td>3226</td>\n",
       "      <td>BOGO - Garlic Steak Nacho Fries</td>\n",
       "      <td>15 sec YouTube ad</td>\n",
       "      <td>True</td>\n",
       "      <td>['steak garlic nacho fries', 'steak garlic nac...</td>\n",
       "      <td>['gatorade', 'mug root beer', 'baja blast', 'd...</td>\n",
       "    </tr>\n",
       "    <tr>\n",
       "      <th>1</th>\n",
       "      <td>5217</td>\n",
       "      <td>DISCOUNT-50%</td>\n",
       "      <td>15 sec YouTube ad</td>\n",
       "      <td>False</td>\n",
       "      <td>['crunchy taco', 'cheesy bean and rice burrito']</td>\n",
       "      <td>['gatorade', 'diet pepsi']</td>\n",
       "    </tr>\n",
       "    <tr>\n",
       "      <th>2</th>\n",
       "      <td>5247</td>\n",
       "      <td>REWARD - Free Garlic Steak Nacho Fries with pu...</td>\n",
       "      <td>15 sec YouTube ad</td>\n",
       "      <td>True</td>\n",
       "      <td>['steak garlic nacho fries', 'cheesy gordita c...</td>\n",
       "      <td>['mountain dew', 'starry']</td>\n",
       "    </tr>\n",
       "    <tr>\n",
       "      <th>3</th>\n",
       "      <td>7793</td>\n",
       "      <td>DISCOUNT-5%</td>\n",
       "      <td>30 sec Hulu commercial</td>\n",
       "      <td>False</td>\n",
       "      <td>['crunchwrap supreme', 'cravings box', 'crunch...</td>\n",
       "      <td>['baja blast', 'brisk', 'mountain dew']</td>\n",
       "    </tr>\n",
       "    <tr>\n",
       "      <th>4</th>\n",
       "      <td>5759</td>\n",
       "      <td>DISCOUNT-50%</td>\n",
       "      <td>15 sec YouTube ad</td>\n",
       "      <td>False</td>\n",
       "      <td>['nachos bellgrande', 'crunchy taco']</td>\n",
       "      <td>['pepsi', 'diet pepsi']</td>\n",
       "    </tr>\n",
       "  </tbody>\n",
       "</table>\n",
       "</div>"
      ],
      "text/plain": [
       "   customer_id                                            ad_type  \\\n",
       "0         3226                    BOGO - Garlic Steak Nacho Fries   \n",
       "1         5217                                       DISCOUNT-50%   \n",
       "2         5247  REWARD - Free Garlic Steak Nacho Fries with pu...   \n",
       "3         7793                                        DISCOUNT-5%   \n",
       "4         5759                                       DISCOUNT-50%   \n",
       "\n",
       "                ad_medium  ad_response  \\\n",
       "0       15 sec YouTube ad         True   \n",
       "1       15 sec YouTube ad        False   \n",
       "2       15 sec YouTube ad         True   \n",
       "3  30 sec Hulu commercial        False   \n",
       "4       15 sec YouTube ad        False   \n",
       "\n",
       "                                     items_purchased  \\\n",
       "0  ['steak garlic nacho fries', 'steak garlic nac...   \n",
       "1   ['crunchy taco', 'cheesy bean and rice burrito']   \n",
       "2  ['steak garlic nacho fries', 'cheesy gordita c...   \n",
       "3  ['crunchwrap supreme', 'cravings box', 'crunch...   \n",
       "4              ['nachos bellgrande', 'crunchy taco']   \n",
       "\n",
       "                                    drinks_purchased  \n",
       "0  ['gatorade', 'mug root beer', 'baja blast', 'd...  \n",
       "1                         ['gatorade', 'diet pepsi']  \n",
       "2                         ['mountain dew', 'starry']  \n",
       "3            ['baja blast', 'brisk', 'mountain dew']  \n",
       "4                            ['pepsi', 'diet pepsi']  "
      ]
     },
     "execution_count": 4,
     "metadata": {},
     "output_type": "execute_result"
    }
   ],
   "source": [
    "ad.head()"
   ]
  },
  {
   "cell_type": "code",
   "execution_count": 5,
   "id": "6e755ea2",
   "metadata": {},
   "outputs": [
    {
     "data": {
      "text/html": [
       "<div>\n",
       "<style scoped>\n",
       "    .dataframe tbody tr th:only-of-type {\n",
       "        vertical-align: middle;\n",
       "    }\n",
       "\n",
       "    .dataframe tbody tr th {\n",
       "        vertical-align: top;\n",
       "    }\n",
       "\n",
       "    .dataframe thead th {\n",
       "        text-align: right;\n",
       "    }\n",
       "</style>\n",
       "<table border=\"1\" class=\"dataframe\">\n",
       "  <thead>\n",
       "    <tr style=\"text-align: right;\">\n",
       "      <th></th>\n",
       "      <th>customer_id</th>\n",
       "      <th>state</th>\n",
       "      <th>sex</th>\n",
       "      <th>age</th>\n",
       "      <th>occupation</th>\n",
       "      <th>family_size</th>\n",
       "      <th>income</th>\n",
       "    </tr>\n",
       "  </thead>\n",
       "  <tbody>\n",
       "    <tr>\n",
       "      <th>0</th>\n",
       "      <td>9167</td>\n",
       "      <td>MO</td>\n",
       "      <td>F</td>\n",
       "      <td>42.0</td>\n",
       "      <td>Food Service</td>\n",
       "      <td>1</td>\n",
       "      <td>40343</td>\n",
       "    </tr>\n",
       "    <tr>\n",
       "      <th>1</th>\n",
       "      <td>531</td>\n",
       "      <td>MI</td>\n",
       "      <td>F</td>\n",
       "      <td>36.0</td>\n",
       "      <td>Retail</td>\n",
       "      <td>4</td>\n",
       "      <td>41730</td>\n",
       "    </tr>\n",
       "    <tr>\n",
       "      <th>2</th>\n",
       "      <td>2265</td>\n",
       "      <td>CA</td>\n",
       "      <td>F</td>\n",
       "      <td>25.0</td>\n",
       "      <td>IT</td>\n",
       "      <td>0</td>\n",
       "      <td>84024</td>\n",
       "    </tr>\n",
       "    <tr>\n",
       "      <th>3</th>\n",
       "      <td>7550</td>\n",
       "      <td>VA</td>\n",
       "      <td>M</td>\n",
       "      <td>38.0</td>\n",
       "      <td>Food Service</td>\n",
       "      <td>2</td>\n",
       "      <td>38990</td>\n",
       "    </tr>\n",
       "    <tr>\n",
       "      <th>4</th>\n",
       "      <td>5334</td>\n",
       "      <td>MT</td>\n",
       "      <td>M</td>\n",
       "      <td>35.0</td>\n",
       "      <td>Food Service</td>\n",
       "      <td>1</td>\n",
       "      <td>33400</td>\n",
       "    </tr>\n",
       "  </tbody>\n",
       "</table>\n",
       "</div>"
      ],
      "text/plain": [
       "   customer_id state sex   age    occupation  family_size  income\n",
       "0         9167    MO   F  42.0  Food Service            1   40343\n",
       "1          531    MI   F  36.0        Retail            4   41730\n",
       "2         2265    CA   F  25.0            IT            0   84024\n",
       "3         7550    VA   M  38.0  Food Service            2   38990\n",
       "4         5334    MT   M  35.0  Food Service            1   33400"
      ]
     },
     "execution_count": 5,
     "metadata": {},
     "output_type": "execute_result"
    }
   ],
   "source": [
    "customer.head()"
   ]
  },
  {
   "cell_type": "code",
   "execution_count": 6,
   "id": "a4d126ae",
   "metadata": {},
   "outputs": [],
   "source": [
    "df = ad.merge(customer, on= 'customer_id', how='outer')"
   ]
  },
  {
   "cell_type": "code",
   "execution_count": 7,
   "id": "77f43ef6",
   "metadata": {
    "scrolled": false
   },
   "outputs": [
    {
     "data": {
      "text/html": [
       "<div>\n",
       "<style scoped>\n",
       "    .dataframe tbody tr th:only-of-type {\n",
       "        vertical-align: middle;\n",
       "    }\n",
       "\n",
       "    .dataframe tbody tr th {\n",
       "        vertical-align: top;\n",
       "    }\n",
       "\n",
       "    .dataframe thead th {\n",
       "        text-align: right;\n",
       "    }\n",
       "</style>\n",
       "<table border=\"1\" class=\"dataframe\">\n",
       "  <thead>\n",
       "    <tr style=\"text-align: right;\">\n",
       "      <th></th>\n",
       "      <th>customer_id</th>\n",
       "      <th>ad_type</th>\n",
       "      <th>ad_medium</th>\n",
       "      <th>ad_response</th>\n",
       "      <th>items_purchased</th>\n",
       "      <th>drinks_purchased</th>\n",
       "      <th>state</th>\n",
       "      <th>sex</th>\n",
       "      <th>age</th>\n",
       "      <th>occupation</th>\n",
       "      <th>family_size</th>\n",
       "      <th>income</th>\n",
       "    </tr>\n",
       "  </thead>\n",
       "  <tbody>\n",
       "    <tr>\n",
       "      <th>0</th>\n",
       "      <td>3226</td>\n",
       "      <td>BOGO - Garlic Steak Nacho Fries</td>\n",
       "      <td>15 sec YouTube ad</td>\n",
       "      <td>True</td>\n",
       "      <td>['steak garlic nacho fries', 'steak garlic nac...</td>\n",
       "      <td>['gatorade', 'mug root beer', 'baja blast', 'd...</td>\n",
       "      <td>CA</td>\n",
       "      <td>M</td>\n",
       "      <td>30.0</td>\n",
       "      <td>Government</td>\n",
       "      <td>5</td>\n",
       "      <td>62303</td>\n",
       "    </tr>\n",
       "    <tr>\n",
       "      <th>1</th>\n",
       "      <td>5217</td>\n",
       "      <td>DISCOUNT-50%</td>\n",
       "      <td>15 sec YouTube ad</td>\n",
       "      <td>False</td>\n",
       "      <td>['crunchy taco', 'cheesy bean and rice burrito']</td>\n",
       "      <td>['gatorade', 'diet pepsi']</td>\n",
       "      <td>OH</td>\n",
       "      <td>M</td>\n",
       "      <td>36.0</td>\n",
       "      <td>Retail</td>\n",
       "      <td>1</td>\n",
       "      <td>39638</td>\n",
       "    </tr>\n",
       "    <tr>\n",
       "      <th>2</th>\n",
       "      <td>5247</td>\n",
       "      <td>REWARD - Free Garlic Steak Nacho Fries with pu...</td>\n",
       "      <td>15 sec YouTube ad</td>\n",
       "      <td>True</td>\n",
       "      <td>['steak garlic nacho fries', 'cheesy gordita c...</td>\n",
       "      <td>['mountain dew', 'starry']</td>\n",
       "      <td>WV</td>\n",
       "      <td>M</td>\n",
       "      <td>31.0</td>\n",
       "      <td>IT</td>\n",
       "      <td>1</td>\n",
       "      <td>112766</td>\n",
       "    </tr>\n",
       "    <tr>\n",
       "      <th>3</th>\n",
       "      <td>7793</td>\n",
       "      <td>DISCOUNT-5%</td>\n",
       "      <td>30 sec Hulu commercial</td>\n",
       "      <td>False</td>\n",
       "      <td>['crunchwrap supreme', 'cravings box', 'crunch...</td>\n",
       "      <td>['baja blast', 'brisk', 'mountain dew']</td>\n",
       "      <td>MI</td>\n",
       "      <td>F</td>\n",
       "      <td>57.0</td>\n",
       "      <td>Government</td>\n",
       "      <td>2</td>\n",
       "      <td>137374</td>\n",
       "    </tr>\n",
       "    <tr>\n",
       "      <th>4</th>\n",
       "      <td>5759</td>\n",
       "      <td>DISCOUNT-50%</td>\n",
       "      <td>15 sec YouTube ad</td>\n",
       "      <td>False</td>\n",
       "      <td>['nachos bellgrande', 'crunchy taco']</td>\n",
       "      <td>['pepsi', 'diet pepsi']</td>\n",
       "      <td>RI</td>\n",
       "      <td>M</td>\n",
       "      <td>22.0</td>\n",
       "      <td>Education</td>\n",
       "      <td>1</td>\n",
       "      <td>41748</td>\n",
       "    </tr>\n",
       "  </tbody>\n",
       "</table>\n",
       "</div>"
      ],
      "text/plain": [
       "   customer_id                                            ad_type  \\\n",
       "0         3226                    BOGO - Garlic Steak Nacho Fries   \n",
       "1         5217                                       DISCOUNT-50%   \n",
       "2         5247  REWARD - Free Garlic Steak Nacho Fries with pu...   \n",
       "3         7793                                        DISCOUNT-5%   \n",
       "4         5759                                       DISCOUNT-50%   \n",
       "\n",
       "                ad_medium  ad_response  \\\n",
       "0       15 sec YouTube ad         True   \n",
       "1       15 sec YouTube ad        False   \n",
       "2       15 sec YouTube ad         True   \n",
       "3  30 sec Hulu commercial        False   \n",
       "4       15 sec YouTube ad        False   \n",
       "\n",
       "                                     items_purchased  \\\n",
       "0  ['steak garlic nacho fries', 'steak garlic nac...   \n",
       "1   ['crunchy taco', 'cheesy bean and rice burrito']   \n",
       "2  ['steak garlic nacho fries', 'cheesy gordita c...   \n",
       "3  ['crunchwrap supreme', 'cravings box', 'crunch...   \n",
       "4              ['nachos bellgrande', 'crunchy taco']   \n",
       "\n",
       "                                    drinks_purchased state sex   age  \\\n",
       "0  ['gatorade', 'mug root beer', 'baja blast', 'd...    CA   M  30.0   \n",
       "1                         ['gatorade', 'diet pepsi']    OH   M  36.0   \n",
       "2                         ['mountain dew', 'starry']    WV   M  31.0   \n",
       "3            ['baja blast', 'brisk', 'mountain dew']    MI   F  57.0   \n",
       "4                            ['pepsi', 'diet pepsi']    RI   M  22.0   \n",
       "\n",
       "   occupation  family_size  income  \n",
       "0  Government            5   62303  \n",
       "1      Retail            1   39638  \n",
       "2          IT            1  112766  \n",
       "3  Government            2  137374  \n",
       "4   Education            1   41748  "
      ]
     },
     "execution_count": 7,
     "metadata": {},
     "output_type": "execute_result"
    }
   ],
   "source": [
    "df.head()"
   ]
  },
  {
   "cell_type": "code",
   "execution_count": 8,
   "id": "fda61d63",
   "metadata": {},
   "outputs": [
    {
     "name": "stdout",
     "output_type": "stream",
     "text": [
      "<class 'pandas.core.frame.DataFrame'>\n",
      "Int64Index: 10000 entries, 0 to 9999\n",
      "Data columns (total 12 columns):\n",
      " #   Column            Non-Null Count  Dtype  \n",
      "---  ------            --------------  -----  \n",
      " 0   customer_id       10000 non-null  int64  \n",
      " 1   ad_type           10000 non-null  object \n",
      " 2   ad_medium         10000 non-null  object \n",
      " 3   ad_response       10000 non-null  bool   \n",
      " 4   items_purchased   10000 non-null  object \n",
      " 5   drinks_purchased  10000 non-null  object \n",
      " 6   state             10000 non-null  object \n",
      " 7   sex               10000 non-null  object \n",
      " 8   age               10000 non-null  float64\n",
      " 9   occupation        10000 non-null  object \n",
      " 10  family_size       10000 non-null  int64  \n",
      " 11  income            10000 non-null  int64  \n",
      "dtypes: bool(1), float64(1), int64(3), object(7)\n",
      "memory usage: 947.3+ KB\n"
     ]
    }
   ],
   "source": [
    "df.info()"
   ]
  },
  {
   "cell_type": "markdown",
   "id": "c6b417f1",
   "metadata": {},
   "source": [
    "### 2. Training Your Model\n",
    "In the cell seen below, write the code you need to train a K-means clustering model. Make sure you describe the center of each cluster found.\n",
    "\n",
    "*Note, level 5 work uses at least 3 features to train a K-means model using only the standard Python library and Pandas. A level 4 uses external libraries like scikit or numpy.*"
   ]
  },
  {
   "cell_type": "code",
   "execution_count": 9,
   "id": "58b4ce69",
   "metadata": {},
   "outputs": [
    {
     "data": {
      "text/html": [
       "<div>\n",
       "<style scoped>\n",
       "    .dataframe tbody tr th:only-of-type {\n",
       "        vertical-align: middle;\n",
       "    }\n",
       "\n",
       "    .dataframe tbody tr th {\n",
       "        vertical-align: top;\n",
       "    }\n",
       "\n",
       "    .dataframe thead th {\n",
       "        text-align: right;\n",
       "    }\n",
       "</style>\n",
       "<table border=\"1\" class=\"dataframe\">\n",
       "  <thead>\n",
       "    <tr style=\"text-align: right;\">\n",
       "      <th></th>\n",
       "      <th>customer_id</th>\n",
       "      <th>ad_type</th>\n",
       "      <th>ad_medium</th>\n",
       "      <th>ad_response</th>\n",
       "      <th>items_purchased</th>\n",
       "      <th>drinks_purchased</th>\n",
       "      <th>state</th>\n",
       "      <th>sex</th>\n",
       "      <th>age</th>\n",
       "      <th>occupation</th>\n",
       "      <th>family_size</th>\n",
       "      <th>income</th>\n",
       "      <th>nachoFries</th>\n",
       "    </tr>\n",
       "  </thead>\n",
       "  <tbody>\n",
       "    <tr>\n",
       "      <th>0</th>\n",
       "      <td>3226</td>\n",
       "      <td>BOGO - Garlic Steak Nacho Fries</td>\n",
       "      <td>15 sec YouTube ad</td>\n",
       "      <td>True</td>\n",
       "      <td>['steak garlic nacho fries', 'steak garlic nac...</td>\n",
       "      <td>['gatorade', 'mug root beer', 'baja blast', 'd...</td>\n",
       "      <td>CA</td>\n",
       "      <td>M</td>\n",
       "      <td>30.0</td>\n",
       "      <td>Government</td>\n",
       "      <td>5</td>\n",
       "      <td>62303</td>\n",
       "      <td>3</td>\n",
       "    </tr>\n",
       "    <tr>\n",
       "      <th>1</th>\n",
       "      <td>5217</td>\n",
       "      <td>DISCOUNT-50%</td>\n",
       "      <td>15 sec YouTube ad</td>\n",
       "      <td>False</td>\n",
       "      <td>['crunchy taco', 'cheesy bean and rice burrito']</td>\n",
       "      <td>['gatorade', 'diet pepsi']</td>\n",
       "      <td>OH</td>\n",
       "      <td>M</td>\n",
       "      <td>36.0</td>\n",
       "      <td>Retail</td>\n",
       "      <td>1</td>\n",
       "      <td>39638</td>\n",
       "      <td>0</td>\n",
       "    </tr>\n",
       "    <tr>\n",
       "      <th>2</th>\n",
       "      <td>5247</td>\n",
       "      <td>REWARD - Free Garlic Steak Nacho Fries with pu...</td>\n",
       "      <td>15 sec YouTube ad</td>\n",
       "      <td>True</td>\n",
       "      <td>['steak garlic nacho fries', 'cheesy gordita c...</td>\n",
       "      <td>['mountain dew', 'starry']</td>\n",
       "      <td>WV</td>\n",
       "      <td>M</td>\n",
       "      <td>31.0</td>\n",
       "      <td>IT</td>\n",
       "      <td>1</td>\n",
       "      <td>112766</td>\n",
       "      <td>1</td>\n",
       "    </tr>\n",
       "    <tr>\n",
       "      <th>3</th>\n",
       "      <td>7793</td>\n",
       "      <td>DISCOUNT-5%</td>\n",
       "      <td>30 sec Hulu commercial</td>\n",
       "      <td>False</td>\n",
       "      <td>['crunchwrap supreme', 'cravings box', 'crunch...</td>\n",
       "      <td>['baja blast', 'brisk', 'mountain dew']</td>\n",
       "      <td>MI</td>\n",
       "      <td>F</td>\n",
       "      <td>57.0</td>\n",
       "      <td>Government</td>\n",
       "      <td>2</td>\n",
       "      <td>137374</td>\n",
       "      <td>0</td>\n",
       "    </tr>\n",
       "    <tr>\n",
       "      <th>4</th>\n",
       "      <td>5759</td>\n",
       "      <td>DISCOUNT-50%</td>\n",
       "      <td>15 sec YouTube ad</td>\n",
       "      <td>False</td>\n",
       "      <td>['nachos bellgrande', 'crunchy taco']</td>\n",
       "      <td>['pepsi', 'diet pepsi']</td>\n",
       "      <td>RI</td>\n",
       "      <td>M</td>\n",
       "      <td>22.0</td>\n",
       "      <td>Education</td>\n",
       "      <td>1</td>\n",
       "      <td>41748</td>\n",
       "      <td>0</td>\n",
       "    </tr>\n",
       "  </tbody>\n",
       "</table>\n",
       "</div>"
      ],
      "text/plain": [
       "   customer_id                                            ad_type  \\\n",
       "0         3226                    BOGO - Garlic Steak Nacho Fries   \n",
       "1         5217                                       DISCOUNT-50%   \n",
       "2         5247  REWARD - Free Garlic Steak Nacho Fries with pu...   \n",
       "3         7793                                        DISCOUNT-5%   \n",
       "4         5759                                       DISCOUNT-50%   \n",
       "\n",
       "                ad_medium  ad_response  \\\n",
       "0       15 sec YouTube ad         True   \n",
       "1       15 sec YouTube ad        False   \n",
       "2       15 sec YouTube ad         True   \n",
       "3  30 sec Hulu commercial        False   \n",
       "4       15 sec YouTube ad        False   \n",
       "\n",
       "                                     items_purchased  \\\n",
       "0  ['steak garlic nacho fries', 'steak garlic nac...   \n",
       "1   ['crunchy taco', 'cheesy bean and rice burrito']   \n",
       "2  ['steak garlic nacho fries', 'cheesy gordita c...   \n",
       "3  ['crunchwrap supreme', 'cravings box', 'crunch...   \n",
       "4              ['nachos bellgrande', 'crunchy taco']   \n",
       "\n",
       "                                    drinks_purchased state sex   age  \\\n",
       "0  ['gatorade', 'mug root beer', 'baja blast', 'd...    CA   M  30.0   \n",
       "1                         ['gatorade', 'diet pepsi']    OH   M  36.0   \n",
       "2                         ['mountain dew', 'starry']    WV   M  31.0   \n",
       "3            ['baja blast', 'brisk', 'mountain dew']    MI   F  57.0   \n",
       "4                            ['pepsi', 'diet pepsi']    RI   M  22.0   \n",
       "\n",
       "   occupation  family_size  income  nachoFries  \n",
       "0  Government            5   62303           3  \n",
       "1      Retail            1   39638           0  \n",
       "2          IT            1  112766           1  \n",
       "3  Government            2  137374           0  \n",
       "4   Education            1   41748           0  "
      ]
     },
     "execution_count": 9,
     "metadata": {},
     "output_type": "execute_result"
    }
   ],
   "source": [
    "# Function to count occurrences of 'steak garlic nacho fries' in a list\n",
    "def count_steak_garlic_nacho_fries(items):\n",
    "    return items.count('steak garlic nacho fries')\n",
    "\n",
    "# Apply the function to the 'items_purchased' column\n",
    "df['nachoFries'] = df['items_purchased'].apply(count_steak_garlic_nacho_fries)\n",
    "\n",
    "# Display the result\n",
    "df.head()"
   ]
  },
  {
   "cell_type": "code",
   "execution_count": 10,
   "id": "554fd438",
   "metadata": {},
   "outputs": [
    {
     "name": "stdout",
     "output_type": "stream",
     "text": [
      "<class 'pandas.core.frame.DataFrame'>\n",
      "Int64Index: 10000 entries, 0 to 9999\n",
      "Data columns (total 13 columns):\n",
      " #   Column            Non-Null Count  Dtype  \n",
      "---  ------            --------------  -----  \n",
      " 0   customer_id       10000 non-null  int64  \n",
      " 1   ad_type           10000 non-null  object \n",
      " 2   ad_medium         10000 non-null  object \n",
      " 3   ad_response       10000 non-null  bool   \n",
      " 4   items_purchased   10000 non-null  object \n",
      " 5   drinks_purchased  10000 non-null  object \n",
      " 6   state             10000 non-null  object \n",
      " 7   sex               10000 non-null  object \n",
      " 8   age               10000 non-null  float64\n",
      " 9   occupation        10000 non-null  object \n",
      " 10  family_size       10000 non-null  int64  \n",
      " 11  income            10000 non-null  int64  \n",
      " 12  nachoFries        10000 non-null  int64  \n",
      "dtypes: bool(1), float64(1), int64(4), object(7)\n",
      "memory usage: 1.0+ MB\n"
     ]
    }
   ],
   "source": [
    "df.info()"
   ]
  },
  {
   "cell_type": "code",
   "execution_count": 11,
   "id": "89c53dbd",
   "metadata": {
    "scrolled": true
   },
   "outputs": [
    {
     "data": {
      "text/html": [
       "<div>\n",
       "<style scoped>\n",
       "    .dataframe tbody tr th:only-of-type {\n",
       "        vertical-align: middle;\n",
       "    }\n",
       "\n",
       "    .dataframe tbody tr th {\n",
       "        vertical-align: top;\n",
       "    }\n",
       "\n",
       "    .dataframe thead th {\n",
       "        text-align: right;\n",
       "    }\n",
       "</style>\n",
       "<table border=\"1\" class=\"dataframe\">\n",
       "  <thead>\n",
       "    <tr style=\"text-align: right;\">\n",
       "      <th></th>\n",
       "      <th>customer_id</th>\n",
       "      <th>ad_type</th>\n",
       "      <th>ad_medium</th>\n",
       "      <th>ad_response</th>\n",
       "      <th>items_purchased</th>\n",
       "      <th>drinks_purchased</th>\n",
       "      <th>state</th>\n",
       "      <th>sex</th>\n",
       "      <th>age</th>\n",
       "      <th>occupation</th>\n",
       "      <th>family_size</th>\n",
       "      <th>income</th>\n",
       "      <th>nachoFries</th>\n",
       "    </tr>\n",
       "  </thead>\n",
       "  <tbody>\n",
       "    <tr>\n",
       "      <th>0</th>\n",
       "      <td>3226</td>\n",
       "      <td>BOGO - Garlic Steak Nacho Fries</td>\n",
       "      <td>15 sec YouTube ad</td>\n",
       "      <td>1</td>\n",
       "      <td>['steak garlic nacho fries', 'steak garlic nac...</td>\n",
       "      <td>['gatorade', 'mug root beer', 'baja blast', 'd...</td>\n",
       "      <td>CA</td>\n",
       "      <td>M</td>\n",
       "      <td>30.0</td>\n",
       "      <td>Government</td>\n",
       "      <td>5</td>\n",
       "      <td>62303</td>\n",
       "      <td>3</td>\n",
       "    </tr>\n",
       "    <tr>\n",
       "      <th>1</th>\n",
       "      <td>5217</td>\n",
       "      <td>DISCOUNT-50%</td>\n",
       "      <td>15 sec YouTube ad</td>\n",
       "      <td>0</td>\n",
       "      <td>['crunchy taco', 'cheesy bean and rice burrito']</td>\n",
       "      <td>['gatorade', 'diet pepsi']</td>\n",
       "      <td>OH</td>\n",
       "      <td>M</td>\n",
       "      <td>36.0</td>\n",
       "      <td>Retail</td>\n",
       "      <td>1</td>\n",
       "      <td>39638</td>\n",
       "      <td>0</td>\n",
       "    </tr>\n",
       "    <tr>\n",
       "      <th>2</th>\n",
       "      <td>5247</td>\n",
       "      <td>REWARD - Free Garlic Steak Nacho Fries with pu...</td>\n",
       "      <td>15 sec YouTube ad</td>\n",
       "      <td>1</td>\n",
       "      <td>['steak garlic nacho fries', 'cheesy gordita c...</td>\n",
       "      <td>['mountain dew', 'starry']</td>\n",
       "      <td>WV</td>\n",
       "      <td>M</td>\n",
       "      <td>31.0</td>\n",
       "      <td>IT</td>\n",
       "      <td>1</td>\n",
       "      <td>112766</td>\n",
       "      <td>1</td>\n",
       "    </tr>\n",
       "    <tr>\n",
       "      <th>3</th>\n",
       "      <td>7793</td>\n",
       "      <td>DISCOUNT-5%</td>\n",
       "      <td>30 sec Hulu commercial</td>\n",
       "      <td>0</td>\n",
       "      <td>['crunchwrap supreme', 'cravings box', 'crunch...</td>\n",
       "      <td>['baja blast', 'brisk', 'mountain dew']</td>\n",
       "      <td>MI</td>\n",
       "      <td>F</td>\n",
       "      <td>57.0</td>\n",
       "      <td>Government</td>\n",
       "      <td>2</td>\n",
       "      <td>137374</td>\n",
       "      <td>0</td>\n",
       "    </tr>\n",
       "    <tr>\n",
       "      <th>4</th>\n",
       "      <td>5759</td>\n",
       "      <td>DISCOUNT-50%</td>\n",
       "      <td>15 sec YouTube ad</td>\n",
       "      <td>0</td>\n",
       "      <td>['nachos bellgrande', 'crunchy taco']</td>\n",
       "      <td>['pepsi', 'diet pepsi']</td>\n",
       "      <td>RI</td>\n",
       "      <td>M</td>\n",
       "      <td>22.0</td>\n",
       "      <td>Education</td>\n",
       "      <td>1</td>\n",
       "      <td>41748</td>\n",
       "      <td>0</td>\n",
       "    </tr>\n",
       "  </tbody>\n",
       "</table>\n",
       "</div>"
      ],
      "text/plain": [
       "   customer_id                                            ad_type  \\\n",
       "0         3226                    BOGO - Garlic Steak Nacho Fries   \n",
       "1         5217                                       DISCOUNT-50%   \n",
       "2         5247  REWARD - Free Garlic Steak Nacho Fries with pu...   \n",
       "3         7793                                        DISCOUNT-5%   \n",
       "4         5759                                       DISCOUNT-50%   \n",
       "\n",
       "                ad_medium  ad_response  \\\n",
       "0       15 sec YouTube ad            1   \n",
       "1       15 sec YouTube ad            0   \n",
       "2       15 sec YouTube ad            1   \n",
       "3  30 sec Hulu commercial            0   \n",
       "4       15 sec YouTube ad            0   \n",
       "\n",
       "                                     items_purchased  \\\n",
       "0  ['steak garlic nacho fries', 'steak garlic nac...   \n",
       "1   ['crunchy taco', 'cheesy bean and rice burrito']   \n",
       "2  ['steak garlic nacho fries', 'cheesy gordita c...   \n",
       "3  ['crunchwrap supreme', 'cravings box', 'crunch...   \n",
       "4              ['nachos bellgrande', 'crunchy taco']   \n",
       "\n",
       "                                    drinks_purchased state sex   age  \\\n",
       "0  ['gatorade', 'mug root beer', 'baja blast', 'd...    CA   M  30.0   \n",
       "1                         ['gatorade', 'diet pepsi']    OH   M  36.0   \n",
       "2                         ['mountain dew', 'starry']    WV   M  31.0   \n",
       "3            ['baja blast', 'brisk', 'mountain dew']    MI   F  57.0   \n",
       "4                            ['pepsi', 'diet pepsi']    RI   M  22.0   \n",
       "\n",
       "   occupation  family_size  income  nachoFries  \n",
       "0  Government            5   62303           3  \n",
       "1      Retail            1   39638           0  \n",
       "2          IT            1  112766           1  \n",
       "3  Government            2  137374           0  \n",
       "4   Education            1   41748           0  "
      ]
     },
     "execution_count": 11,
     "metadata": {},
     "output_type": "execute_result"
    }
   ],
   "source": [
    "''' 1 is true, 0 is false '''\n",
    "df['ad_response'] = df['ad_response'].astype(int)\n",
    "df.head()"
   ]
  },
  {
   "cell_type": "code",
   "execution_count": 12,
   "id": "8b589155",
   "metadata": {
    "scrolled": true
   },
   "outputs": [
    {
     "data": {
      "text/plain": [
       "<AxesSubplot:xlabel='age', ylabel='income'>"
      ]
     },
     "execution_count": 12,
     "metadata": {},
     "output_type": "execute_result"
    },
    {
     "data": {
      "image/png": "[encoded data removed]",
      "text/plain": [
       "<Figure size 640x480 with 1 Axes>"
      ]
     },
     "metadata": {},
     "output_type": "display_data"
    }
   ],
   "source": [
    "df['income'] = df['income'].astype(int)\n",
    "sns.scatterplot(data=df, x='age', y='income')\n"
   ]
  },
  {
   "cell_type": "code",
   "execution_count": 23,
   "id": "f73259f0",
   "metadata": {},
   "outputs": [
    {
     "data": {
      "text/html": [
       "<div>\n",
       "<style scoped>\n",
       "    .dataframe tbody tr th:only-of-type {\n",
       "        vertical-align: middle;\n",
       "    }\n",
       "\n",
       "    .dataframe tbody tr th {\n",
       "        vertical-align: top;\n",
       "    }\n",
       "\n",
       "    .dataframe thead th {\n",
       "        text-align: right;\n",
       "    }\n",
       "</style>\n",
       "<table border=\"1\" class=\"dataframe\">\n",
       "  <thead>\n",
       "    <tr style=\"text-align: right;\">\n",
       "      <th></th>\n",
       "      <th>age</th>\n",
       "      <th>income</th>\n",
       "      <th>ad_response</th>\n",
       "      <th>nachoFries</th>\n",
       "    </tr>\n",
       "  </thead>\n",
       "  <tbody>\n",
       "    <tr>\n",
       "      <th>9069</th>\n",
       "      <td>39.0</td>\n",
       "      <td>34046</td>\n",
       "      <td>0</td>\n",
       "      <td>0</td>\n",
       "    </tr>\n",
       "    <tr>\n",
       "      <th>2603</th>\n",
       "      <td>23.0</td>\n",
       "      <td>14379</td>\n",
       "      <td>1</td>\n",
       "      <td>0</td>\n",
       "    </tr>\n",
       "    <tr>\n",
       "      <th>7738</th>\n",
       "      <td>20.0</td>\n",
       "      <td>41447</td>\n",
       "      <td>0</td>\n",
       "      <td>0</td>\n",
       "    </tr>\n",
       "    <tr>\n",
       "      <th>1579</th>\n",
       "      <td>22.0</td>\n",
       "      <td>13702</td>\n",
       "      <td>1</td>\n",
       "      <td>1</td>\n",
       "    </tr>\n",
       "    <tr>\n",
       "      <th>5058</th>\n",
       "      <td>50.0</td>\n",
       "      <td>99332</td>\n",
       "      <td>0</td>\n",
       "      <td>0</td>\n",
       "    </tr>\n",
       "  </tbody>\n",
       "</table>\n",
       "</div>"
      ],
      "text/plain": [
       "       age  income  ad_response  nachoFries\n",
       "9069  39.0   34046            0           0\n",
       "2603  23.0   14379            1           0\n",
       "7738  20.0   41447            0           0\n",
       "1579  22.0   13702            1           1\n",
       "5058  50.0   99332            0           0"
      ]
     },
     "execution_count": 23,
     "metadata": {},
     "output_type": "execute_result"
    }
   ],
   "source": [
    "from sklearn.model_selection import train_test_split\n",
    "train_df, _ = train_test_split(df, test_size=0.3, random_state=42) \n",
    "train_df = train_df[[\"age\", \"income\", \"ad_response\", 'nachoFries']]\n",
    "train_df.head()"
   ]
  },
  {
   "cell_type": "code",
   "execution_count": 35,
   "id": "66833a5c",
   "metadata": {},
   "outputs": [
    {
     "data": {
      "text/plain": [
       "KMeans(n_clusters=2)"
      ]
     },
     "execution_count": 35,
     "metadata": {},
     "output_type": "execute_result"
    }
   ],
   "source": [
    "model = KMeans(n_clusters=2)\n",
    "model.fit(train_df)"
   ]
  },
  {
   "cell_type": "code",
   "execution_count": 36,
   "id": "bc45ea95",
   "metadata": {},
   "outputs": [
    {
     "data": {
      "text/plain": [
       "array([[3.64744430e+01, 4.67095900e+04, 5.08144542e-01, 4.76502528e-01],\n",
       "       [4.53869801e+01, 1.31369527e+05, 4.74382158e-01, 4.67148885e-01]])"
      ]
     },
     "execution_count": 36,
     "metadata": {},
     "output_type": "execute_result"
    }
   ],
   "source": [
    "model.cluster_centers_"
   ]
  },
  {
   "cell_type": "markdown",
   "id": "daf81fae",
   "metadata": {},
   "source": [
    "Cluster 1:\n",
    "Average age: 36.5, Average income: 46709.5, Average chance of response to an ad 50.8%, \n",
    "Avergae amount of garlic steak nacho fries purchased: 0.477\n",
    "\n",
    "Cluster one has an average age of 36.5 and an average income of 46709.5 dollars. They have around a 50.8% chance of responding to an ad. People from cluster one purchase an average of 0.477 garlic steak nacho fries.\n",
    "\n",
    "\n",
    "Cluster 2:\n",
    "Average age: 45.4, Average income: 131370.0, Average chance of response to an ad 47.4%, \n",
    "Avergae amount of garlic steak nacho fries purchased: 0.467\n",
    "\n",
    "Cluster two has an average age of 45.4 and an average income of 131370.0 dollars. They have around a 47.4% chance of responding to an ad. People from cluster two purchase an average of 0.467 garlic steak nacho fries."
   ]
  },
  {
   "cell_type": "markdown",
   "id": "642867ca",
   "metadata": {},
   "source": [
    "### 3. Testing Your Model\n",
    "In the cell seen below, write the code you need to test your K-means model. Then, interpret your findings.\n",
    "\n",
    "*Note, level 5 testing uses both an elbow plot and a silhouette score to evaluate your model. Level 4 uses one or the other.*"
   ]
  },
  {
   "cell_type": "code",
   "execution_count": 37,
   "id": "0008585b",
   "metadata": {},
   "outputs": [
    {
     "data": {
      "image/png": "[encoded data removed]",
      "text/plain": [
       "<Figure size 640x480 with 1 Axes>"
      ]
     },
     "metadata": {},
     "output_type": "display_data"
    }
   ],
   "source": [
    "import matplotlib.pyplot as plt\n",
    "from sklearn.cluster import KMeans\n",
    "\n",
    "elbow = []\n",
    "\n",
    "# Assuming 'train_df' is your dataset (replace with your actual dataset)\n",
    "for x in range(1, 16):\n",
    "    model = KMeans(n_clusters=x)\n",
    "    model.fit(train_df)  # Fit the model to your dataset\n",
    "    elbow.append(model.inertia_)  # Append inertia to the list\n",
    "\n",
    "# Plotting the Elbow graph\n",
    "plt.plot(range(1, 16), elbow)\n",
    "plt.xlabel('Number of clusters')\n",
    "plt.ylabel('Inertia')\n",
    "plt.title('Elbow Method')\n",
    "plt.show()\n"
   ]
  },
  {
   "cell_type": "code",
   "execution_count": 38,
   "id": "824ab646",
   "metadata": {},
   "outputs": [
    {
     "data": {
      "text/plain": [
       "0.5939093242943141"
      ]
     },
     "execution_count": 38,
     "metadata": {},
     "output_type": "execute_result"
    }
   ],
   "source": [
    "from sklearn.metrics import silhouette_score\n",
    "model = KMeans(n_clusters=5)\n",
    "model.fit(train_df)\n",
    "silhouette_score(train_df, model.labels_) # 2 is 0.613, 3 is 0.56717, 4 is 0.536, 5 is 0.594"
   ]
  },
  {
   "cell_type": "code",
   "execution_count": 39,
   "id": "31c6c121",
   "metadata": {},
   "outputs": [],
   "source": [
    "greatestSil = 0\n",
    "for x in range(2, 10):\n",
    "    model = KMeans(n_clusters=x)\n",
    "    model.fit(train_df)\n",
    "    \n",
    "    if silhouette_score(train_df, model.labels_) > greatestSil:\n",
    "        greatestSil = silhouette_score(train_df, model.labels_)\n",
    "        bestCluster = x\n",
    "        "
   ]
  },
  {
   "cell_type": "code",
   "execution_count": 29,
   "id": "e8bafc02",
   "metadata": {},
   "outputs": [
    {
     "data": {
      "text/plain": [
       "0.6132832997976966"
      ]
     },
     "execution_count": 29,
     "metadata": {},
     "output_type": "execute_result"
    }
   ],
   "source": [
    "greatestSil"
   ]
  },
  {
   "cell_type": "code",
   "execution_count": 40,
   "id": "bfd69899",
   "metadata": {},
   "outputs": [
    {
     "data": {
      "text/plain": [
       "2"
      ]
     },
     "execution_count": 40,
     "metadata": {},
     "output_type": "execute_result"
    }
   ],
   "source": [
    "bestCluster"
   ]
  },
  {
   "cell_type": "code",
   "execution_count": 41,
   "id": "a4d0e4fb",
   "metadata": {},
   "outputs": [
    {
     "data": {
      "text/plain": [
       "KMeans(n_clusters=2)"
      ]
     },
     "execution_count": 41,
     "metadata": {},
     "output_type": "execute_result"
    }
   ],
   "source": [
    "model = KMeans(n_clusters=2)\n",
    "model.fit(train_df)"
   ]
  },
  {
   "cell_type": "code",
   "execution_count": 42,
   "id": "ce185fc7",
   "metadata": {},
   "outputs": [
    {
     "data": {
      "text/plain": [
       "array([[3.64737828e+01, 4.67016502e+04, 5.08052434e-01, 4.76217228e-01],\n",
       "       [4.53837349e+01, 1.31344069e+05, 4.74698795e-01, 4.68072289e-01]])"
      ]
     },
     "execution_count": 42,
     "metadata": {},
     "output_type": "execute_result"
    }
   ],
   "source": [
    "model.cluster_centers_"
   ]
  },
  {
   "cell_type": "markdown",
   "id": "32a8c369",
   "metadata": {},
   "source": [
    "#### Interpret your elbow plot and/or silhouette score here.\n",
    "I feel like the elbow plot flattens out around 3, or 4 clusters so if I were going by the elbow plot I would choose 4 clusters. However, according to sillouette scores the best amount of clusters is 2 because a cluster of 2 has a silhouette score of 0.613 which is higher than all other silhouette scores for clusters between 2 and 10. I chose 2 clusters because I feel the sillouette score is more clear than the elbow plot. "
   ]
  },
  {
   "cell_type": "markdown",
   "id": "343eb3f7",
   "metadata": {},
   "source": [
    "### 4. Final Answer\n",
    "\n",
    "In the first cell seen below, describe the cluster you have chosen to target with your ad, making sure to describe the type of ad they were the most likely to respond to. Then, use software of your choosing to create the ad you will need to target this cluster. You do not need to create an ad for both the nacho fries and the Baja Blast. You can focus on one if that's what your cluster cares about most.\n",
    "\n",
    "In the second cell seen below, include a link to your ad.\n",
    "\n",
    "*Note, a level 5 ad uses the medium (static image or video) the cluster most likely responded to.* "
   ]
  },
  {
   "cell_type": "markdown",
   "id": "25533722",
   "metadata": {},
   "source": [
    "#### Describe the cluster you are targeting here.\n",
    "I chose to target cluster one because it has a higher chance of responding to an ad (50.8% in compasison to 47.5%) and a higher average purchase amount of garlic steak nacho fries (0.477 in comparison to 0.467). \n",
    "\n",
    "This cluster is younger in comparison to cluster 2 and has an average age of 36.5 this would put them in the millenial generation. They also have an average income of 46707.5 dollars which is signifigantly below the median household income for Americans in 2023 (80,610 dollars). Therefore the add should target lower income millenials.\n"
   ]
  },
  {
   "attachments": {},
   "cell_type": "markdown",
   "id": "e29adde2",
   "metadata": {},
   "source": [
    "#### Link your ad here.\n",
    "https://docs.google.com/presentation/d/1gDWT_8Vgq2Y4Q1y5D_GxR-4x9FkdrD3tDO9wVw3L5kA/edit?usp=sharing"
   ]
  },
  {
   "cell_type": "code",
   "execution_count": null,
   "id": "d8e63bbf",
   "metadata": {},
   "outputs": [],
   "source": []
  }
 ],
 "metadata": {
  "kernelspec": {
   "display_name": "Python 3 (ipykernel)",
   "language": "python",
   "name": "python3"
  },
  "language_info": {
   "codemirror_mode": {
    "name": "ipython",
    "version": 3
   },
   "file_extension": ".py",
   "mimetype": "text/x-python",
   "name": "python",
   "nbconvert_exporter": "python",
   "pygments_lexer": "ipython3",
   "version": "3.9.13"
  }
 },
 "nbformat": 4,
 "nbformat_minor": 5
}
