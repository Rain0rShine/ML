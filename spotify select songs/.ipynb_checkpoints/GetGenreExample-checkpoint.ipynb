{
 "cells": [
  {
   "cell_type": "code",
   "execution_count": 1,
   "id": "17adb772",
   "metadata": {},
   "outputs": [],
   "source": [
    "import json\n",
    "import requests\n",
    "import pandas as pd"
   ]
  },
  {
   "cell_type": "code",
   "execution_count": null,
   "id": "55a4f746",
   "metadata": {},
   "outputs": [],
   "source": [
    "def get_token(client_id, client_secret):\n",
    "    token_url = 'https://accounts.spotify.com/api/token'\n",
    "    \n",
    "    headers = {\n",
    "        'Content-Type': 'application/x-www-form-urlencoded'\n",
    "    }\n",
    "    \n",
    "    data = {\n",
    "        'grant_type': 'client_credentials',\n",
    "        'client_id': client_id,\n",
    "        'client_secret': client_secret\n",
    "    }\n",
    "    \n",
    "    response = requests.post(token_url, headers=headers, data=data)\n",
    "    return response.json()\n",
    "\n",
    "client_id = 'ENTER YOUR CLIENT ID'\n",
    "client_secret = 'ENTER YOUR CLIENT SECRET'\n",
    "token_response = get_token(client_id, client_secret)\n",
    "access_token = token_response['access_token']"
   ]
  },
  {
   "cell_type": "code",
   "execution_count": null,
   "id": "250fc11b",
   "metadata": {},
   "outputs": [],
   "source": [
    "headers = {\n",
    "    'Authorization': 'Bearer ' + access_token\n",
    "}"
   ]
  },
  {
   "cell_type": "code",
   "execution_count": null,
   "id": "e12da4ad",
   "metadata": {},
   "outputs": [],
   "source": [
    "def get_genres(artists):\n",
    "    genres = []\n",
    "    # Make request from Spotify API using artist id\n",
    "    for art_id in artists['spot_id']:\n",
    "        response = requests.get('https://api.spotify.com/v1/artists/' + art_id, headers=headers)\n",
    "        artist_genres = response.json()['genres']\n",
    "        genres.append(artist_genres)\n",
    "        \n",
    "    # Add column of genres to artists dictionary\n",
    "    artists['genres'] = genres\n",
    "    return genres"
   ]
  },
  {
   "cell_type": "code",
   "execution_count": null,
   "id": "42227436",
   "metadata": {},
   "outputs": [],
   "source": [
    "playlist_artists = {\n",
    "        'name':[],\n",
    "        'spot_id': []\n",
    "    }\n",
    "playlist_genres = get_genres(playlist_artists)"
   ]
  }
 ],
 "metadata": {
  "kernelspec": {
   "display_name": "Python 3 (ipykernel)",
   "language": "python",
   "name": "python3"
  },
  "language_info": {
   "codemirror_mode": {
    "name": "ipython",
    "version": 3
   },
   "file_extension": ".py",
   "mimetype": "text/x-python",
   "name": "python",
   "nbconvert_exporter": "python",
   "pygments_lexer": "ipython3",
   "version": "3.9.13"
  }
 },
 "nbformat": 4,
 "nbformat_minor": 5
}
