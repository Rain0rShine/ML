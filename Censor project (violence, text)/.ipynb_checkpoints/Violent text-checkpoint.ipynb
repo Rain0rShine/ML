{
 "cells": [
  {
   "cell_type": "code",
   "execution_count": 1,
   "id": "e23a158e",
   "metadata": {},
   "outputs": [],
   "source": [
    "import pandas as pd"
   ]
  },
  {
   "cell_type": "code",
   "execution_count": 2,
   "id": "6b763685",
   "metadata": {},
   "outputs": [],
   "source": [
    "df = pd.read_csv(\"diffusion_db_unaltered.csv\") "
   ]
  },
  {
   "cell_type": "code",
   "execution_count": 3,
   "id": "38226890",
   "metadata": {},
   "outputs": [
    {
     "data": {
      "text/html": [
       "<div>\n",
       "<style scoped>\n",
       "    .dataframe tbody tr th:only-of-type {\n",
       "        vertical-align: middle;\n",
       "    }\n",
       "\n",
       "    .dataframe tbody tr th {\n",
       "        vertical-align: top;\n",
       "    }\n",
       "\n",
       "    .dataframe thead th {\n",
       "        text-align: right;\n",
       "    }\n",
       "</style>\n",
       "<table border=\"1\" class=\"dataframe\">\n",
       "  <thead>\n",
       "    <tr style=\"text-align: right;\">\n",
       "      <th></th>\n",
       "      <th>prompt</th>\n",
       "      <th>image_nsfw</th>\n",
       "      <th>prompt_nsfw</th>\n",
       "    </tr>\n",
       "  </thead>\n",
       "  <tbody>\n",
       "    <tr>\n",
       "      <th>0</th>\n",
       "      <td>a portrait of a female robot made from code, v...</td>\n",
       "      <td>0.554853</td>\n",
       "      <td>0.001621</td>\n",
       "    </tr>\n",
       "    <tr>\n",
       "      <th>1</th>\n",
       "      <td>a portrait of a female robot made from a cloud...</td>\n",
       "      <td>0.153645</td>\n",
       "      <td>0.000707</td>\n",
       "    </tr>\n",
       "    <tr>\n",
       "      <th>2</th>\n",
       "      <td>only memories remain, trending on artstation</td>\n",
       "      <td>0.062496</td>\n",
       "      <td>0.000425</td>\n",
       "    </tr>\n",
       "    <tr>\n",
       "      <th>3</th>\n",
       "      <td>dream swimming pool with nobody</td>\n",
       "      <td>0.030799</td>\n",
       "      <td>0.003586</td>\n",
       "    </tr>\n",
       "    <tr>\n",
       "      <th>4</th>\n",
       "      <td>a dog doing weights. epic oil painting.</td>\n",
       "      <td>0.181035</td>\n",
       "      <td>0.030822</td>\n",
       "    </tr>\n",
       "  </tbody>\n",
       "</table>\n",
       "</div>"
      ],
      "text/plain": [
       "                                              prompt  image_nsfw  prompt_nsfw\n",
       "0  a portrait of a female robot made from code, v...    0.554853     0.001621\n",
       "1  a portrait of a female robot made from a cloud...    0.153645     0.000707\n",
       "2      only memories remain, trending on artstation     0.062496     0.000425\n",
       "3                   dream swimming pool with nobody     0.030799     0.003586\n",
       "4           a dog doing weights. epic oil painting.     0.181035     0.030822"
      ]
     },
     "execution_count": 3,
     "metadata": {},
     "output_type": "execute_result"
    }
   ],
   "source": [
    "df.head()"
   ]
  },
  {
   "cell_type": "code",
   "execution_count": 10,
   "id": "4fe760d5",
   "metadata": {},
   "outputs": [],
   "source": [
    "import pandas as pd\n",
    "from PIL import Image\n",
    "import numpy as np\n",
    "import time\n",
    "import os"
   ]
  },
  {
   "cell_type": "code",
   "execution_count": null,
   "id": "b485ae05",
   "metadata": {},
   "outputs": [],
   "source": []
  },
  {
   "cell_type": "code",
   "execution_count": null,
   "id": "c486942e",
   "metadata": {},
   "outputs": [],
   "source": []
  },
  {
   "cell_type": "code",
   "execution_count": 1,
   "id": "23f059a3",
   "metadata": {},
   "outputs": [],
   "source": [
    "violenceWords = [\n",
    "    \"Violent\", \"Murder\", \"Bloodshed\" , \"Torture\", \"Gore\" , \"Abuse\" , \"Aggression\", \"Aggressive\", \"Assault\", \"Homicide\", \"Brutality\",\n",
    "    \"Slaughter\", \"Mutilation\", \"Carnage\", \"Bloodbath\", \"Execution\", \"Rape\", \"Terror\", \"Wounding\", \"Savagery\", \"Beating\", \"Killing\",\n",
    "    \"Massacre\", \"Violence\", \"Disfigurement\", \"War crimes\", \"Inhumane\", \"Strangulation\", \"Flogging\", \"Vicious\", \"Cut\", \"Burn\",\n",
    "    \"Self-harm\", \"Self harm\", \"Terrorism\", \"Gang\", \"Kidnapping\",\"Bombing\",\"Extermination\",\"Bloodcurdling\",\"Mauling\", \"Maul\",\n",
    "    \"trafficking\", \"violence\", \"Genocide\", \"Warfare\", \"Shooting\", \"maim\", \"Disembowelment\", \"Lynching\", \"Battering\",\n",
    "    \"Molest\", \"Molesting\", \"hostage\", \"suicide\", \"mob\", \"riot\", \"brutal\", \"threaten\", \"serial killer\", \"hitting\", \"kill\", \"wound\", \n",
    "    \"gun\"\n",
    "\n",
    "]\n",
    "\n"
   ]
  },
  {
   "cell_type": "code",
   "execution_count": null,
   "id": "f87f4660",
   "metadata": {},
   "outputs": [],
   "source": []
  },
  {
   "cell_type": "code",
   "execution_count": 7,
   "id": "9bc04f69",
   "metadata": {},
   "outputs": [
    {
     "ename": "NameError",
     "evalue": "name 'prompts' is not defined",
     "output_type": "error",
     "traceback": [
      "\u001b[1;31m---------------------------------------------------------------------------\u001b[0m",
      "\u001b[1;31mNameError\u001b[0m                                 Traceback (most recent call last)",
      "\u001b[1;32m~\\AppData\\Local\\Temp\\ipykernel_5100\\2762796738.py\u001b[0m in \u001b[0;36m<module>\u001b[1;34m\u001b[0m\n\u001b[1;32m----> 1\u001b[1;33m \u001b[1;32mfor\u001b[0m \u001b[0midx\u001b[0m\u001b[1;33m,\u001b[0m \u001b[0mrow\u001b[0m \u001b[1;32min\u001b[0m \u001b[0mprompts\u001b[0m\u001b[1;33m.\u001b[0m\u001b[0mhead\u001b[0m\u001b[1;33m(\u001b[0m\u001b[1;36m5\u001b[0m\u001b[1;33m)\u001b[0m\u001b[1;33m.\u001b[0m\u001b[0miterrows\u001b[0m\u001b[1;33m(\u001b[0m\u001b[1;33m)\u001b[0m\u001b[1;33m:\u001b[0m\u001b[1;33m\u001b[0m\u001b[1;33m\u001b[0m\u001b[0m\n\u001b[0m\u001b[0;32m      2\u001b[0m     \u001b[0mClassprompt\u001b[0m \u001b[1;33m=\u001b[0m \u001b[0mrow\u001b[0m\u001b[1;33m[\u001b[0m\u001b[1;34m'prompt'\u001b[0m\u001b[1;33m]\u001b[0m\u001b[1;33m\u001b[0m\u001b[1;33m\u001b[0m\u001b[0m\n\u001b[0;32m      3\u001b[0m     \u001b[0mNumprompt\u001b[0m \u001b[1;33m=\u001b[0m \u001b[0mrow\u001b[0m\u001b[1;33m[\u001b[0m\u001b[1;34m'prompt'\u001b[0m\u001b[1;33m]\u001b[0m\u001b[1;33m\u001b[0m\u001b[1;33m\u001b[0m\u001b[0m\n\u001b[0;32m      4\u001b[0m \u001b[1;33m\u001b[0m\u001b[0m\n\u001b[0;32m      5\u001b[0m     \u001b[1;32mfor\u001b[0m \u001b[0mword\u001b[0m \u001b[1;32min\u001b[0m \u001b[0mre\u001b[0m\u001b[1;33m.\u001b[0m\u001b[0mfindall\u001b[0m\u001b[1;33m(\u001b[0m\u001b[1;34mr'\\b\\w+\\b'\u001b[0m\u001b[1;33m,\u001b[0m \u001b[0mrow\u001b[0m\u001b[1;33m[\u001b[0m\u001b[1;34m'prompt'\u001b[0m\u001b[1;33m]\u001b[0m\u001b[1;33m)\u001b[0m\u001b[1;33m:\u001b[0m\u001b[1;33m\u001b[0m\u001b[1;33m\u001b[0m\u001b[0m\n",
      "\u001b[1;31mNameError\u001b[0m: name 'prompts' is not defined"
     ]
    }
   ],
   "source": [
    "for idx, row in prompts.head(5).iterrows():\n",
    "    Classprompt = row['prompt']\n",
    "    Numprompt = row['prompt']\n",
    "    \n",
    "    for word in re.findall(r'\\b\\w+\\b', row['prompt']):\n",
    "        if word not in df['Word'].values:\n",
    "            classification_value = classify_word(word)\n",
    "            numeric_value, interpreted_word = numberify(word)\n",
    "        else:\n",
    "            classification_value = df.loc[df['Word'] == word, 'Classification'].values[0]\n",
    "            numeric_value = df.loc[df['Word'] == word, 'Number'].values[0]\n",
    "        \n",
    "        Classprompt = Classprompt.replace(word, str(classification_value))\n",
    "        Numprompt = Numprompt.replace(word, str(numeric_value))\n",
    "    \n",
    "    prompts.at[idx, 'Classprompt'] = int(Classprompt) if Classprompt.isdigit() else Classprompt\n",
    "    prompts.at[idx, 'Numprompt'] = int(Numprompt) if Numprompt.isdigit() else Numprompt\n"
   ]
  },
  {
   "cell_type": "code",
   "execution_count": null,
   "id": "5808c9ef",
   "metadata": {},
   "outputs": [],
   "source": []
  }
 ],
 "metadata": {
  "kernelspec": {
   "display_name": "Python 3 (ipykernel)",
   "language": "python",
   "name": "python3"
  },
  "language_info": {
   "codemirror_mode": {
    "name": "ipython",
    "version": 3
   },
   "file_extension": ".py",
   "mimetype": "text/x-python",
   "name": "python",
   "nbconvert_exporter": "python",
   "pygments_lexer": "ipython3",
   "version": "3.9.13"
  }
 },
 "nbformat": 4,
 "nbformat_minor": 5
}
