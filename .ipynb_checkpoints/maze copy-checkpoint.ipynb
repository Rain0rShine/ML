{
 "cells": [
  {
   "cell_type": "code",
   "execution_count": 1,
   "id": "10d982ad",
   "metadata": {},
   "outputs": [],
   "source": [
    "import gymnasium as gym\n",
    "import pandas as pd\n",
    "import random"
   ]
  },
  {
   "cell_type": "code",
   "execution_count": 10,
   "id": "7674aead",
   "metadata": {},
   "outputs": [],
   "source": [
    "# Make small test maze\n",
    "# maze=[\"SF\", \"FH\", \"FG\"]\n",
    "maze=[\"SFFFHFFHFH\", \"FHFHFFFFFH\", \"FFFHHHFFFF\", \"HFFFGFFHFF\", \"HHFFFFHHFF\",\n",
    "      \"FFFHFFHFFF\", \"FFHFHFHFFF\", \"HHHHFFFFFF\", \"FHFHFHFHFF\", \"HFFFFFFFFG\"]\n",
    "env = gym.make('FrozenLake-v1', desc=maze, render_mode='human', is_slippery=False)\n",
    "initial_state = env.reset()\n",
    "env.render()"
   ]
  },
  {
   "cell_type": "code",
   "execution_count": 3,
   "id": "d198ddfb",
   "metadata": {},
   "outputs": [
    {
     "data": {
      "text/plain": [
       "' q = {\\n    0: [0,0,0,0], \\n    1: [0,0,0,0], \\n    2: [0,0,0,0], \\n    3: [0,0,0,0],\\n    4: [0,0,0,0],\\n    5: [0,0,0,0]\\n}\\n'"
      ]
     },
     "execution_count": 3,
     "metadata": {},
     "output_type": "execute_result"
    }
   ],
   "source": [
    "# Set up q-table\n",
    "    # key is the state of cell\n",
    "    # index of list is the action\n",
    "        # Left: 0, Down: 1, 2: Right, 3: Up\n",
    "\n",
    "''' q = {\n",
    "    0: [0,0,0,0], \n",
    "    1: [0,0,0,0], \n",
    "    2: [0,0,0,0], \n",
    "    3: [0,0,0,0],\n",
    "    4: [0,0,0,0],\n",
    "    5: [0,0,0,0]\n",
    "}\n",
    "'''"
   ]
  },
  {
   "cell_type": "code",
   "execution_count": 11,
   "id": "c33a7f52",
   "metadata": {},
   "outputs": [],
   "source": [
    "import numpy as np\n",
    "\n",
    "# Define the environment\n",
    "n_states = 100  # Number of states in the grid world\n",
    "n_actions = 4  # Number of possible actions (up, down, left, right)\n",
    "goal_state = 100  # Goal state\n",
    "\n",
    "# Initialize Q-table with zeros\n",
    "q = np.zeros((n_states, n_actions))"
   ]
  },
  {
   "cell_type": "code",
   "execution_count": 12,
   "id": "bbdf38cf",
   "metadata": {},
   "outputs": [],
   "source": [
    "# Create my own reward system\n",
    "cell_types =\"SFFFHFFHFHFHFHFFFFFHFFFHHHFFFFHFFFGFFHFFHHFFFFHHFFFFFHFFHFFFFFHFHFHFFFHHHHFFFFFFFHFHFHFHFFHFFFFFFFFG\"\n",
    "\n",
    "def getReward(state):\n",
    "    if cell_types[state] == \"G\":\n",
    "        return 100\n",
    "    elif cell_types[state] == \"H\":\n",
    "        return -100\n",
    "    else:\n",
    "        return -1"
   ]
  },
  {
   "cell_type": "code",
   "execution_count": 13,
   "id": "7f71f3ad",
   "metadata": {},
   "outputs": [],
   "source": [
    "# This function uses the Bellman Equation to update the q-table: \n",
    "    # new_q = (1-alpha) * q(s, a) + alpha * (R + gamma(max(q(s`, a`))))\n",
    "def updateQTable(q, alpha, gamma, current_state, next_state, action):\n",
    "    current_q = q[current_state][action]\n",
    "    reward = getReward(next_state)\n",
    "    next_state_row = [q[next_state][0], q[next_state][1], q[next_state][2], q[next_state][3]] \n",
    "    next_max_q = max(next_state_row)\n",
    "    new_q = ((1-alpha) * current_q) + (alpha * (reward + (gamma * next_max_q)))\n",
    "    q[current_state][action] = new_q"
   ]
  },
  {
   "cell_type": "code",
   "execution_count": 14,
   "id": "8ad14c72",
   "metadata": {},
   "outputs": [],
   "source": [
    "terminated = False"
   ]
  },
  {
   "cell_type": "code",
   "execution_count": 15,
   "id": "d3cf89d4",
   "metadata": {},
   "outputs": [],
   "source": [
    "# Train Q-Model for 1000 episodes\n",
    "# All actions are random\n",
    "current_state = 0\n",
    "alpha = 0.2\n",
    "gamma = 0.8\n",
    "for episode in range(10):\n",
    "    while not terminated:\n",
    "        action = random.randint(0, 3)\n",
    "        new_state, reward, terminated, truncated, info = env.step(action)\n",
    "        updateQTable(q, alpha, gamma, current_state, new_state, action)\n",
    "        current_state = new_state\n",
    "    inital = env.reset()\n",
    "    terminated = False"
   ]
  },
  {
   "cell_type": "code",
   "execution_count": 17,
   "id": "0833ef6e",
   "metadata": {},
   "outputs": [
    {
     "data": {
      "text/html": [
       "<div>\n",
       "<style scoped>\n",
       "    .dataframe tbody tr th:only-of-type {\n",
       "        vertical-align: middle;\n",
       "    }\n",
       "\n",
       "    .dataframe tbody tr th {\n",
       "        vertical-align: top;\n",
       "    }\n",
       "\n",
       "    .dataframe thead th {\n",
       "        text-align: right;\n",
       "    }\n",
       "</style>\n",
       "<table border=\"1\" class=\"dataframe\">\n",
       "  <thead>\n",
       "    <tr style=\"text-align: right;\">\n",
       "      <th></th>\n",
       "      <th>0</th>\n",
       "      <th>1</th>\n",
       "      <th>2</th>\n",
       "      <th>3</th>\n",
       "    </tr>\n",
       "  </thead>\n",
       "  <tbody>\n",
       "    <tr>\n",
       "      <th>0</th>\n",
       "      <td>-2.762687</td>\n",
       "      <td>-2.532771</td>\n",
       "      <td>-2.265827</td>\n",
       "      <td>-2.766977</td>\n",
       "    </tr>\n",
       "    <tr>\n",
       "      <th>1</th>\n",
       "      <td>-2.702138</td>\n",
       "      <td>-101.309566</td>\n",
       "      <td>-1.665632</td>\n",
       "      <td>-2.226086</td>\n",
       "    </tr>\n",
       "    <tr>\n",
       "      <th>2</th>\n",
       "      <td>-2.114421</td>\n",
       "      <td>-0.970706</td>\n",
       "      <td>-1.279586</td>\n",
       "      <td>-1.216710</td>\n",
       "    </tr>\n",
       "    <tr>\n",
       "      <th>3</th>\n",
       "      <td>-1.149142</td>\n",
       "      <td>-48.800000</td>\n",
       "      <td>-67.232000</td>\n",
       "      <td>-0.753267</td>\n",
       "    </tr>\n",
       "    <tr>\n",
       "      <th>4</th>\n",
       "      <td>-0.548217</td>\n",
       "      <td>-0.513735</td>\n",
       "      <td>-0.732264</td>\n",
       "      <td>-0.200000</td>\n",
       "    </tr>\n",
       "    <tr>\n",
       "      <th>...</th>\n",
       "      <td>...</td>\n",
       "      <td>...</td>\n",
       "      <td>...</td>\n",
       "      <td>...</td>\n",
       "    </tr>\n",
       "    <tr>\n",
       "      <th>95</th>\n",
       "      <td>0.000000</td>\n",
       "      <td>0.000000</td>\n",
       "      <td>0.000000</td>\n",
       "      <td>0.000000</td>\n",
       "    </tr>\n",
       "    <tr>\n",
       "      <th>96</th>\n",
       "      <td>0.000000</td>\n",
       "      <td>0.000000</td>\n",
       "      <td>0.000000</td>\n",
       "      <td>0.000000</td>\n",
       "    </tr>\n",
       "    <tr>\n",
       "      <th>97</th>\n",
       "      <td>0.000000</td>\n",
       "      <td>0.000000</td>\n",
       "      <td>0.000000</td>\n",
       "      <td>0.000000</td>\n",
       "    </tr>\n",
       "    <tr>\n",
       "      <th>98</th>\n",
       "      <td>0.000000</td>\n",
       "      <td>0.000000</td>\n",
       "      <td>0.000000</td>\n",
       "      <td>0.000000</td>\n",
       "    </tr>\n",
       "    <tr>\n",
       "      <th>99</th>\n",
       "      <td>0.000000</td>\n",
       "      <td>0.000000</td>\n",
       "      <td>0.000000</td>\n",
       "      <td>0.000000</td>\n",
       "    </tr>\n",
       "  </tbody>\n",
       "</table>\n",
       "<p>100 rows × 4 columns</p>\n",
       "</div>"
      ],
      "text/plain": [
       "           0           1          2         3\n",
       "0  -2.762687   -2.532771  -2.265827 -2.766977\n",
       "1  -2.702138 -101.309566  -1.665632 -2.226086\n",
       "2  -2.114421   -0.970706  -1.279586 -1.216710\n",
       "3  -1.149142  -48.800000 -67.232000 -0.753267\n",
       "4  -0.548217   -0.513735  -0.732264 -0.200000\n",
       "..       ...         ...        ...       ...\n",
       "95  0.000000    0.000000   0.000000  0.000000\n",
       "96  0.000000    0.000000   0.000000  0.000000\n",
       "97  0.000000    0.000000   0.000000  0.000000\n",
       "98  0.000000    0.000000   0.000000  0.000000\n",
       "99  0.000000    0.000000   0.000000  0.000000\n",
       "\n",
       "[100 rows x 4 columns]"
      ]
     },
     "execution_count": 17,
     "metadata": {},
     "output_type": "execute_result"
    }
   ],
   "source": [
    "df = pd.DataFrame(q)\n",
    "#df = df.T\n",
    "#df.columns = [\"Left\", \"Down\", \"Right\", \"Up\"]\n",
    "df.head(100)"
   ]
  },
  {
   "cell_type": "code",
   "execution_count": null,
   "id": "a99007eb",
   "metadata": {},
   "outputs": [],
   "source": [
    "env.close()\n",
    "# Save final q table as a csv file\n",
    "df.to_csv('final_q_values_2.csv', index=False)"
   ]
  },
  {
   "cell_type": "code",
   "execution_count": null,
   "id": "9007c275",
   "metadata": {},
   "outputs": [],
   "source": []
  },
  {
   "cell_type": "code",
   "execution_count": null,
   "id": "ea1701af",
   "metadata": {},
   "outputs": [],
   "source": []
  }
 ],
 "metadata": {
  "kernelspec": {
   "display_name": "Python 3 (ipykernel)",
   "language": "python",
   "name": "python3"
  },
  "language_info": {
   "codemirror_mode": {
    "name": "ipython",
    "version": 3
   },
   "file_extension": ".py",
   "mimetype": "text/x-python",
   "name": "python",
   "nbconvert_exporter": "python",
   "pygments_lexer": "ipython3",
   "version": "3.9.13"
  }
 },
 "nbformat": 4,
 "nbformat_minor": 5
}
