{
 "cells": [
  {
   "cell_type": "code",
   "execution_count": 5,
   "id": "992ced8e",
   "metadata": {},
   "outputs": [],
   "source": [
    "import pandas as pd\n",
    "import seaborn as sns\n",
    "import numpy as np\n",
    "from sklearn.model_selection import train_test_split\n",
    "from sklearn.linear_model import LinearRegression"
   ]
  },
  {
   "cell_type": "code",
   "execution_count": 9,
   "id": "1c4dd8f7",
   "metadata": {},
   "outputs": [
    {
     "data": {
      "text/html": [
       "<div>\n",
       "<style scoped>\n",
       "    .dataframe tbody tr th:only-of-type {\n",
       "        vertical-align: middle;\n",
       "    }\n",
       "\n",
       "    .dataframe tbody tr th {\n",
       "        vertical-align: top;\n",
       "    }\n",
       "\n",
       "    .dataframe thead th {\n",
       "        text-align: right;\n",
       "    }\n",
       "</style>\n",
       "<table border=\"1\" class=\"dataframe\">\n",
       "  <thead>\n",
       "    <tr style=\"text-align: right;\">\n",
       "      <th></th>\n",
       "      <th>case</th>\n",
       "      <th>site</th>\n",
       "      <th>Pop</th>\n",
       "      <th>sex</th>\n",
       "      <th>age</th>\n",
       "      <th>hdlngth</th>\n",
       "      <th>skullw</th>\n",
       "      <th>totlngth</th>\n",
       "      <th>taill</th>\n",
       "      <th>footlgth</th>\n",
       "      <th>earconch</th>\n",
       "      <th>eye</th>\n",
       "      <th>chest</th>\n",
       "      <th>belly</th>\n",
       "    </tr>\n",
       "  </thead>\n",
       "  <tbody>\n",
       "    <tr>\n",
       "      <th>0</th>\n",
       "      <td>1</td>\n",
       "      <td>1</td>\n",
       "      <td>Vic</td>\n",
       "      <td>m</td>\n",
       "      <td>8.0</td>\n",
       "      <td>94.1</td>\n",
       "      <td>60.4</td>\n",
       "      <td>89.0</td>\n",
       "      <td>36.0</td>\n",
       "      <td>74.5</td>\n",
       "      <td>54.5</td>\n",
       "      <td>15.2</td>\n",
       "      <td>28.0</td>\n",
       "      <td>36.0</td>\n",
       "    </tr>\n",
       "    <tr>\n",
       "      <th>1</th>\n",
       "      <td>2</td>\n",
       "      <td>1</td>\n",
       "      <td>Vic</td>\n",
       "      <td>f</td>\n",
       "      <td>6.0</td>\n",
       "      <td>92.5</td>\n",
       "      <td>57.6</td>\n",
       "      <td>91.5</td>\n",
       "      <td>36.5</td>\n",
       "      <td>72.5</td>\n",
       "      <td>51.2</td>\n",
       "      <td>16.0</td>\n",
       "      <td>28.5</td>\n",
       "      <td>33.0</td>\n",
       "    </tr>\n",
       "    <tr>\n",
       "      <th>2</th>\n",
       "      <td>3</td>\n",
       "      <td>1</td>\n",
       "      <td>Vic</td>\n",
       "      <td>f</td>\n",
       "      <td>6.0</td>\n",
       "      <td>94.0</td>\n",
       "      <td>60.0</td>\n",
       "      <td>95.5</td>\n",
       "      <td>39.0</td>\n",
       "      <td>75.4</td>\n",
       "      <td>51.9</td>\n",
       "      <td>15.5</td>\n",
       "      <td>30.0</td>\n",
       "      <td>34.0</td>\n",
       "    </tr>\n",
       "    <tr>\n",
       "      <th>3</th>\n",
       "      <td>4</td>\n",
       "      <td>1</td>\n",
       "      <td>Vic</td>\n",
       "      <td>f</td>\n",
       "      <td>6.0</td>\n",
       "      <td>93.2</td>\n",
       "      <td>57.1</td>\n",
       "      <td>92.0</td>\n",
       "      <td>38.0</td>\n",
       "      <td>76.1</td>\n",
       "      <td>52.2</td>\n",
       "      <td>15.2</td>\n",
       "      <td>28.0</td>\n",
       "      <td>34.0</td>\n",
       "    </tr>\n",
       "    <tr>\n",
       "      <th>4</th>\n",
       "      <td>5</td>\n",
       "      <td>1</td>\n",
       "      <td>Vic</td>\n",
       "      <td>f</td>\n",
       "      <td>2.0</td>\n",
       "      <td>91.5</td>\n",
       "      <td>56.3</td>\n",
       "      <td>85.5</td>\n",
       "      <td>36.0</td>\n",
       "      <td>71.0</td>\n",
       "      <td>53.2</td>\n",
       "      <td>15.1</td>\n",
       "      <td>28.5</td>\n",
       "      <td>33.0</td>\n",
       "    </tr>\n",
       "  </tbody>\n",
       "</table>\n",
       "</div>"
      ],
      "text/plain": [
       "   case  site  Pop sex  age  hdlngth  skullw  totlngth  taill  footlgth  \\\n",
       "0     1     1  Vic   m  8.0     94.1    60.4      89.0   36.0      74.5   \n",
       "1     2     1  Vic   f  6.0     92.5    57.6      91.5   36.5      72.5   \n",
       "2     3     1  Vic   f  6.0     94.0    60.0      95.5   39.0      75.4   \n",
       "3     4     1  Vic   f  6.0     93.2    57.1      92.0   38.0      76.1   \n",
       "4     5     1  Vic   f  2.0     91.5    56.3      85.5   36.0      71.0   \n",
       "\n",
       "   earconch   eye  chest  belly  \n",
       "0      54.5  15.2   28.0   36.0  \n",
       "1      51.2  16.0   28.5   33.0  \n",
       "2      51.9  15.5   30.0   34.0  \n",
       "3      52.2  15.2   28.0   34.0  \n",
       "4      53.2  15.1   28.5   33.0  "
      ]
     },
     "execution_count": 9,
     "metadata": {},
     "output_type": "execute_result"
    }
   ],
   "source": [
    "df = pd.read_csv(\"possum.csv\")\n",
    "df.head()"
   ]
  },
  {
   "cell_type": "code",
   "execution_count": 10,
   "id": "c8771d84",
   "metadata": {},
   "outputs": [
    {
     "name": "stdout",
     "output_type": "stream",
     "text": [
      "<class 'pandas.core.frame.DataFrame'>\n",
      "RangeIndex: 104 entries, 0 to 103\n",
      "Data columns (total 14 columns):\n",
      " #   Column    Non-Null Count  Dtype  \n",
      "---  ------    --------------  -----  \n",
      " 0   case      104 non-null    int64  \n",
      " 1   site      104 non-null    int64  \n",
      " 2   Pop       104 non-null    object \n",
      " 3   sex       104 non-null    object \n",
      " 4   age       102 non-null    float64\n",
      " 5   hdlngth   104 non-null    float64\n",
      " 6   skullw    104 non-null    float64\n",
      " 7   totlngth  104 non-null    float64\n",
      " 8   taill     104 non-null    float64\n",
      " 9   footlgth  103 non-null    float64\n",
      " 10  earconch  104 non-null    float64\n",
      " 11  eye       104 non-null    float64\n",
      " 12  chest     104 non-null    float64\n",
      " 13  belly     104 non-null    float64\n",
      "dtypes: float64(10), int64(2), object(2)\n",
      "memory usage: 11.5+ KB\n"
     ]
    }
   ],
   "source": [
    "df.info()"
   ]
  },
  {
   "cell_type": "code",
   "execution_count": 12,
   "id": "432c9799",
   "metadata": {},
   "outputs": [],
   "source": [
    "import sklearn"
   ]
  },
  {
   "cell_type": "code",
   "execution_count": 20,
   "id": "e34d4186",
   "metadata": {},
   "outputs": [],
   "source": [
    "X1 = df[[\"skullw\"]]\n",
    "X2 = df[[\"belly\"]]\n",
    "y = df[\"taill\"]"
   ]
  },
  {
   "cell_type": "code",
   "execution_count": 22,
   "id": "f6265799",
   "metadata": {},
   "outputs": [],
   "source": [
    "X1_train, X1_test, X2_train, X2_test, y_train, y_test = train_test_split(X1, X2, y, test_size=0.3, random_state=42)"
   ]
  },
  {
   "cell_type": "code",
   "execution_count": 23,
   "id": "09a4700f",
   "metadata": {},
   "outputs": [
    {
     "data": {
      "text/plain": [
       "LinearRegression()"
      ]
     },
     "execution_count": 23,
     "metadata": {},
     "output_type": "execute_result"
    }
   ],
   "source": [
    "model = LinearRegression()\n",
    "model.fit(X1_train, X2_train, y_train)"
   ]
  },
  {
   "cell_type": "code",
   "execution_count": 24,
   "id": "abf0762a",
   "metadata": {},
   "outputs": [
    {
     "name": "stdout",
     "output_type": "stream",
     "text": [
      "[0.38009969] [10.91288297]\n"
     ]
    }
   ],
   "source": [
    "slope = model.coef_[0]\n",
    "intercept = model.intercept_\n",
    "print(slope, intercept)"
   ]
  },
  {
   "cell_type": "code",
   "execution_count": 14,
   "id": "baf2da59",
   "metadata": {},
   "outputs": [
    {
     "data": {
      "text/plain": [
       "[     case  site    Pop sex  age  hdlngth  skullw  totlngth  taill  footlgth  \\\n",
       " 64     65     5  other   f  5.0     93.5    57.4      88.5   38.0      68.2   \n",
       " 62     63     5  other   f  6.0     92.0    56.4      88.5   38.0      64.1   \n",
       " 4       5     1    Vic   f  2.0     91.5    56.3      85.5   36.0      71.0   \n",
       " 95     96     7  other   m  4.0     94.8    55.7      83.0   38.0      66.5   \n",
       " 102   103     7  other   m  4.0     91.5    55.2      82.5   36.5      62.9   \n",
       " ..    ...   ...    ...  ..  ...      ...     ...       ...    ...       ...   \n",
       " 16     17     1    Vic   f  1.0     94.7    67.7      89.5   36.5      73.2   \n",
       " 19     20     1    Vic   f  4.0     94.8    56.3      89.0   38.0      73.8   \n",
       " 54     55     4  other   m  2.0    103.1    63.2      92.5   38.0      72.5   \n",
       " 70     71     5  other   m  6.0     92.8    57.6      90.0   40.0      65.7   \n",
       " 11     12     1    Vic   f  5.0     94.9    55.6      92.0   35.5      71.7   \n",
       " \n",
       "      earconch   eye  chest  belly  \n",
       " 64       41.7  14.0   29.0   38.5  \n",
       " 62       46.3  15.2   25.5   28.5  \n",
       " 4        53.2  15.1   28.5   33.0  \n",
       " 95       47.7  14.0   25.0   33.0  \n",
       " 102      45.9  15.4   25.0   29.0  \n",
       " ..        ...   ...    ...    ...  \n",
       " 16       53.2  14.7   29.0   31.0  \n",
       " 19       52.4  15.5   27.0   36.0  \n",
       " 54       44.9  16.4   30.5   36.0  \n",
       " 70       42.8  15.0   27.5   34.0  \n",
       " 11       51.0  15.3   28.0   33.0  \n",
       " \n",
       " [74 rows x 14 columns],\n",
       "     case  site    Pop sex  age  hdlngth  skullw  totlngth  taill  footlgth  \\\n",
       " 83    84     6  other   m  3.0     88.4    54.6      80.5   36.0      62.6   \n",
       " 35    36     2    Vic   m  7.0     93.3    59.3      88.0   35.0      74.3   \n",
       " 92    93     7  other   m  3.0     89.2    54.0      82.0   38.0      63.8   \n",
       " 82    83     6  other   f  3.0     90.0    53.8      81.5   36.0      62.0   \n",
       " 50    51     3  other   f  5.0     95.6    59.6      85.0   36.0      64.0   \n",
       " 80    81     6  other   m  3.0     90.6    56.0      85.5   38.0      65.6   \n",
       " 48    49     3  other   m  4.0     95.4    59.2      85.0   37.0      69.0   \n",
       " 79    80     6  other   m  1.0     86.7    52.6      84.0   38.0      62.3   \n",
       " 33    34     2    Vic   m  2.0     90.6    55.7      85.5   36.5      73.1   \n",
       " 42    43     2    Vic   f  2.0     90.0    55.5      81.0   32.0      72.0   \n",
       " 37    38     2    Vic   m  7.0     92.4    56.0      80.5   35.5      68.4   \n",
       " 24    25     1    Vic   m  3.0     95.8    58.5      91.5   35.5      72.3   \n",
       " 76    77     6  other   m  6.0     93.6    56.2      84.0   36.0      62.8   \n",
       " 99   100     7  other   m  1.0     89.5    56.0      81.5   36.5      66.0   \n",
       " 81    82     6  other   f  4.0     86.0    54.0      82.0   36.5      60.7   \n",
       " 43    44     2    Vic   m  NaN     85.1    51.5      76.0   35.5      70.3   \n",
       " 22    23     1    Vic   f  4.0     92.5    56.1      89.0   36.0      72.8   \n",
       " 85    86     6  other   f  3.0     88.2    53.2      86.5   38.5      60.3   \n",
       " 44    45     2    Vic   m  3.0     90.7    55.9      81.0   34.0      71.5   \n",
       " 97    98     7  other   m  5.0     93.2    68.6      84.0   35.0      65.6   \n",
       " 20    21     1    Vic   f  3.0     95.9    58.1      96.5   39.5      77.9   \n",
       " 26    27     1    Vic   f  2.0     90.5    54.5      85.0   35.0      70.3   \n",
       " 17    18     1    Vic   m  2.0     93.5    55.7      90.0   36.0      73.7   \n",
       " 93    94     7  other   m  7.0     91.8    57.6      84.0   35.5      64.2   \n",
       " 49    50     3  other   f  5.0     91.6    56.4      88.0   38.0      65.0   \n",
       " 89    90     7  other   m  3.0     92.6    54.6      85.0   38.5      69.8   \n",
       " 77    78     6  other   m  1.0     86.5    51.0      81.0   36.5      63.0   \n",
       " 5      6     1    Vic   f  1.0     93.1    54.8      90.5   35.5      73.2   \n",
       " 14    15     1    Vic   m  5.0     92.9    57.6      85.5   34.0      69.7   \n",
       " 10    11     1    Vic   f  9.0     93.3    57.2      89.5   39.0      77.2   \n",
       " \n",
       "     earconch   eye  chest  belly  \n",
       " 83      43.6  16.3   25.0   28.5  \n",
       " 35      52.0  14.9   25.5   36.0  \n",
       " 92      44.9  12.8   24.0   31.0  \n",
       " 82      43.3  14.0   25.0   29.0  \n",
       " 50      43.9  17.4   28.0   38.5  \n",
       " 80      41.7  17.0   27.5   35.0  \n",
       " 48      45.0  15.9   29.5   35.5  \n",
       " 79      44.8  15.0   23.5   30.5  \n",
       " 33      53.1  14.4   26.0   28.5  \n",
       " 42      49.4  13.4   29.0   31.0  \n",
       " 37      49.5  15.9   27.0   30.0  \n",
       " 24      51.6  14.9   31.0   35.0  \n",
       " 76      42.9  16.2   25.0   35.0  \n",
       " 99      46.8  14.8   23.0   27.0  \n",
       " 81      42.9  15.4   26.0   32.0  \n",
       " 43      52.6  14.4   23.0   27.0  \n",
       " 22      53.3  15.4   28.0   35.0  \n",
       " 85      43.7  13.6   26.0   31.0  \n",
       " 44      54.0  14.6   27.0   31.5  \n",
       " 97      44.3  14.5   28.5   32.0  \n",
       " 20      52.9  14.2   30.0   40.0  \n",
       " 26      50.8  14.2   23.0   28.0  \n",
       " 17      55.4  15.3   28.0   32.0  \n",
       " 93      45.1  14.4   29.0   35.0  \n",
       " 49      47.2  14.9   28.0   36.0  \n",
       " 89      44.8  14.5   25.5   32.5  \n",
       " 77      44.3  13.2   23.0   28.0  \n",
       " 5       53.6  14.2   30.0   32.0  \n",
       " 14      51.8  15.7   28.0   35.0  \n",
       " 10      51.3  14.9   31.0   34.0  ]"
      ]
     },
     "execution_count": 14,
     "metadata": {},
     "output_type": "execute_result"
    }
   ],
   "source": [
    "sklearn.model_selection.train_test_split(df, test_size= 30, train_size= 74, random_state=None, shuffle=True, stratify=None)"
   ]
  },
  {
   "cell_type": "code",
   "execution_count": null,
   "id": "711bb029",
   "metadata": {},
   "outputs": [],
   "source": []
  },
  {
   "cell_type": "code",
   "execution_count": null,
   "id": "252a0b7a",
   "metadata": {},
   "outputs": [],
   "source": [
    "def lsrl(data, expl, resp):\n",
    "    m = data[expl].corr(data[resp]) * (data[resp].std() / data[expl].std())\n",
    "    b = (data[resp].mean() - m * data[expl].mean())\n",
    "    print(m , b)\n",
    "    linearData = [data[expl].min(), m * data[expl].min() + b], [data[expl].max(), m * data[expl].max() + b]\n",
    "    linearDf = pd.DataFrame(linearData, columns=['explanatory', 'response'])\n",
    "    linearDf.head()\n",
    "    sns.scatterplot(data= data, x= expl, y= resp)\n",
    "    sns.lineplot(data = linearDf, x = 'explanatory', y = 'response')\n",
    "    #return (\"y =\" + m + \"x +\" + b)\n",
    "    return f\"y = {m:f}x + {b:f}\""
   ]
  },
  {
   "cell_type": "code",
   "execution_count": null,
   "id": "004677d6",
   "metadata": {},
   "outputs": [],
   "source": [
    "lsrl()"
   ]
  }
 ],
 "metadata": {
  "kernelspec": {
   "display_name": "Python 3 (ipykernel)",
   "language": "python",
   "name": "python3"
  },
  "language_info": {
   "codemirror_mode": {
    "name": "ipython",
    "version": 3
   },
   "file_extension": ".py",
   "mimetype": "text/x-python",
   "name": "python",
   "nbconvert_exporter": "python",
   "pygments_lexer": "ipython3",
   "version": "3.9.13"
  }
 },
 "nbformat": 4,
 "nbformat_minor": 5
}
