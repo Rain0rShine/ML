{
 "cells": [
  {
   "cell_type": "code",
   "execution_count": 1,
   "id": "e23a158e",
   "metadata": {},
   "outputs": [],
   "source": [
    "import pandas as pd"
   ]
  },
  {
   "cell_type": "code",
   "execution_count": 2,
   "id": "6b763685",
   "metadata": {},
   "outputs": [],
   "source": [
    "df = pd.read_csv(\"diffusion_db_unaltered.csv\") "
   ]
  },
  {
   "cell_type": "code",
   "execution_count": 3,
   "id": "38226890",
   "metadata": {},
   "outputs": [
    {
     "data": {
      "text/html": [
       "<div>\n",
       "<style scoped>\n",
       "    .dataframe tbody tr th:only-of-type {\n",
       "        vertical-align: middle;\n",
       "    }\n",
       "\n",
       "    .dataframe tbody tr th {\n",
       "        vertical-align: top;\n",
       "    }\n",
       "\n",
       "    .dataframe thead th {\n",
       "        text-align: right;\n",
       "    }\n",
       "</style>\n",
       "<table border=\"1\" class=\"dataframe\">\n",
       "  <thead>\n",
       "    <tr style=\"text-align: right;\">\n",
       "      <th></th>\n",
       "      <th>prompt</th>\n",
       "      <th>image_nsfw</th>\n",
       "      <th>prompt_nsfw</th>\n",
       "    </tr>\n",
       "  </thead>\n",
       "  <tbody>\n",
       "    <tr>\n",
       "      <th>0</th>\n",
       "      <td>a portrait of a female robot made from code, v...</td>\n",
       "      <td>0.554853</td>\n",
       "      <td>0.001621</td>\n",
       "    </tr>\n",
       "    <tr>\n",
       "      <th>1</th>\n",
       "      <td>a portrait of a female robot made from a cloud...</td>\n",
       "      <td>0.153645</td>\n",
       "      <td>0.000707</td>\n",
       "    </tr>\n",
       "    <tr>\n",
       "      <th>2</th>\n",
       "      <td>only memories remain, trending on artstation</td>\n",
       "      <td>0.062496</td>\n",
       "      <td>0.000425</td>\n",
       "    </tr>\n",
       "    <tr>\n",
       "      <th>3</th>\n",
       "      <td>dream swimming pool with nobody</td>\n",
       "      <td>0.030799</td>\n",
       "      <td>0.003586</td>\n",
       "    </tr>\n",
       "    <tr>\n",
       "      <th>4</th>\n",
       "      <td>a dog doing weights. epic oil painting.</td>\n",
       "      <td>0.181035</td>\n",
       "      <td>0.030822</td>\n",
       "    </tr>\n",
       "  </tbody>\n",
       "</table>\n",
       "</div>"
      ],
      "text/plain": [
       "                                              prompt  image_nsfw  prompt_nsfw\n",
       "0  a portrait of a female robot made from code, v...    0.554853     0.001621\n",
       "1  a portrait of a female robot made from a cloud...    0.153645     0.000707\n",
       "2      only memories remain, trending on artstation     0.062496     0.000425\n",
       "3                   dream swimming pool with nobody     0.030799     0.003586\n",
       "4           a dog doing weights. epic oil painting.     0.181035     0.030822"
      ]
     },
     "execution_count": 3,
     "metadata": {},
     "output_type": "execute_result"
    }
   ],
   "source": [
    "df.head()"
   ]
  },
  {
   "cell_type": "code",
   "execution_count": null,
   "id": "4fe760d5",
   "metadata": {},
   "outputs": [],
   "source": []
  },
  {
   "cell_type": "code",
   "execution_count": null,
   "id": "23f059a3",
   "metadata": {},
   "outputs": [],
   "source": [
    "violenceWords = [\n",
    "    \"Violent\", \"Murder\", \"Bloodshed\",\"Torture\",\"Gore\",\"Abuse\",\"Aggression\",\"Aggressive\", \"Assault\",\"Homicide\",\"Brutality\",\n",
    "    \"Slaughter\", \"Mutilation\",\"Carnage\",\"Bloodbath\",\"Execution\",\"Rape\",\"Terror\",\"Wounding\",\"Savagery\",\"Beating\",\"Killing\",\n",
    "    \"Massacre\", \"Violence\",\"Disfigurement\",\"War crimes\",\"Inhumane\",\"Strangulation\",\"Flogging\",\"Vicious\", \"Cut\", \"Burn\",\n",
    "    \"Self-harm\", \"Self harm\", \"Terrorism\", \"Gang\", \"Kidnapping\",\"Bombing\",\"Extermination\",\"Bloodcurdling\",\"Mauling\", \"Maul\",\n",
    "    \"trafficking\", \"violence\", \"Genocide\", \"Warfare\", \"Shooting\", \"maim\", \"Disembowelment\", \"Lynching\", \"Battering\",\n",
    "    \"Molest\", \"Molesting\", \"hostage\", \"suicide\", \"mob\", \"riot\", \"brutal\", \"threaten\", \"serial killer\"\n",
    "]\n"
   ]
  },
  {
   "cell_type": "code",
   "execution_count": null,
   "id": "f87f4660",
   "metadata": {},
   "outputs": [],
   "source": [
    "If "
   ]
  },
  {
   "cell_type": "code",
   "execution_count": null,
   "id": "9bc04f69",
   "metadata": {},
   "outputs": [],
   "source": []
  }
 ],
 "metadata": {
  "kernelspec": {
   "display_name": "Python 3 (ipykernel)",
   "language": "python",
   "name": "python3"
  },
  "language_info": {
   "codemirror_mode": {
    "name": "ipython",
    "version": 3
   },
   "file_extension": ".py",
   "mimetype": "text/x-python",
   "name": "python",
   "nbconvert_exporter": "python",
   "pygments_lexer": "ipython3",
   "version": "3.9.13"
  }
 },
 "nbformat": 4,
 "nbformat_minor": 5
}
