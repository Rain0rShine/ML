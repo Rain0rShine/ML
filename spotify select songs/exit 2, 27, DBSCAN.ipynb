{
 "cells": [
  {
   "cell_type": "code",
   "execution_count": 1,
   "id": "75bf346a",
   "metadata": {},
   "outputs": [],
   "source": [
    "import json\n",
    "import requests\n",
    "import pandas as pd"
   ]
  },
  {
   "cell_type": "code",
   "execution_count": 2,
   "id": "b0b7bb7c",
   "metadata": {},
   "outputs": [
    {
     "data": {
      "text/html": [
       "<div>\n",
       "<style scoped>\n",
       "    .dataframe tbody tr th:only-of-type {\n",
       "        vertical-align: middle;\n",
       "    }\n",
       "\n",
       "    .dataframe tbody tr th {\n",
       "        vertical-align: top;\n",
       "    }\n",
       "\n",
       "    .dataframe thead th {\n",
       "        text-align: right;\n",
       "    }\n",
       "</style>\n",
       "<table border=\"1\" class=\"dataframe\">\n",
       "  <thead>\n",
       "    <tr style=\"text-align: right;\">\n",
       "      <th></th>\n",
       "      <th>playlist</th>\n",
       "      <th>tracks</th>\n",
       "      <th>average_track_popularity</th>\n",
       "      <th>albums</th>\n",
       "      <th>artists</th>\n",
       "      <th>top_genre</th>\n",
       "      <th>average_artist_popularity</th>\n",
       "      <th>average_danceability</th>\n",
       "      <th>top_key</th>\n",
       "      <th>average_tempo</th>\n",
       "      <th>top_time_signature</th>\n",
       "    </tr>\n",
       "  </thead>\n",
       "  <tbody>\n",
       "    <tr>\n",
       "      <th>0</th>\n",
       "      <td>Playlist 1</td>\n",
       "      <td>['Oops!...I Did It Again', 'All The Small Thin...</td>\n",
       "      <td>65.66</td>\n",
       "      <td>['Oops!... I Did It Again', 'Enema Of The Stat...</td>\n",
       "      <td>['Britney Spears', 'blink-182', 'Faith Hill', ...</td>\n",
       "      <td>'dancepop'</td>\n",
       "      <td>66.17</td>\n",
       "      <td>0.65875</td>\n",
       "      <td>0</td>\n",
       "      <td>122.75544</td>\n",
       "      <td>4</td>\n",
       "    </tr>\n",
       "    <tr>\n",
       "      <th>1</th>\n",
       "      <td>Playlist 2</td>\n",
       "      <td>[\"It Wasn't Me\", 'Murder On The Dancefloor', '...</td>\n",
       "      <td>66.79</td>\n",
       "      <td>['Hot Shot', 'Read My Lips', 'The Marshall Mat...</td>\n",
       "      <td>['Shaggy', 'Sophie Ellis-Bextor', 'Eminem', 'K...</td>\n",
       "      <td>'dancepop'</td>\n",
       "      <td>65.65</td>\n",
       "      <td>0.67281</td>\n",
       "      <td>1</td>\n",
       "      <td>115.99193</td>\n",
       "      <td>4</td>\n",
       "    </tr>\n",
       "    <tr>\n",
       "      <th>2</th>\n",
       "      <td>Playlist 3</td>\n",
       "      <td>['Dilemma', 'Without Me', 'Complicated', 'A Th...</td>\n",
       "      <td>64.64</td>\n",
       "      <td>['Nellyville', 'The Eminem Show', 'Let Go', 'B...</td>\n",
       "      <td>['Nelly', 'Eminem', 'Avril Lavigne', 'Vanessa ...</td>\n",
       "      <td>'dancepop'</td>\n",
       "      <td>69.48</td>\n",
       "      <td>0.65076</td>\n",
       "      <td>2</td>\n",
       "      <td>119.75400</td>\n",
       "      <td>4</td>\n",
       "    </tr>\n",
       "    <tr>\n",
       "      <th>3</th>\n",
       "      <td>Playlist 4</td>\n",
       "      <td>['In Da Club', 'Seven Nation Army', 'Lose Your...</td>\n",
       "      <td>66.25</td>\n",
       "      <td>[\"Get Rich Or Die Tryin'\", 'Elephant', 'Curtai...</td>\n",
       "      <td>['50 Cent', 'The White Stripes', 'Eminem', 'Be...</td>\n",
       "      <td>'dancepop'</td>\n",
       "      <td>68.93</td>\n",
       "      <td>0.66311</td>\n",
       "      <td>6</td>\n",
       "      <td>116.05242</td>\n",
       "      <td>4</td>\n",
       "    </tr>\n",
       "    <tr>\n",
       "      <th>4</th>\n",
       "      <td>Playlist 5</td>\n",
       "      <td>['Yeah! (feat. Lil Jon &amp; Ludacris)', 'This Lov...</td>\n",
       "      <td>67.68</td>\n",
       "      <td>['Confessions (Expanded Edition)', 'Songs Abou...</td>\n",
       "      <td>['USHER', 'Maroon 5', 'Rascal Flatts', 'Britne...</td>\n",
       "      <td>'dancepop'</td>\n",
       "      <td>69.48</td>\n",
       "      <td>0.66997</td>\n",
       "      <td>1</td>\n",
       "      <td>117.81705</td>\n",
       "      <td>4</td>\n",
       "    </tr>\n",
       "  </tbody>\n",
       "</table>\n",
       "</div>"
      ],
      "text/plain": [
       "     playlist                                             tracks  \\\n",
       "0  Playlist 1  ['Oops!...I Did It Again', 'All The Small Thin...   \n",
       "1  Playlist 2  [\"It Wasn't Me\", 'Murder On The Dancefloor', '...   \n",
       "2  Playlist 3  ['Dilemma', 'Without Me', 'Complicated', 'A Th...   \n",
       "3  Playlist 4  ['In Da Club', 'Seven Nation Army', 'Lose Your...   \n",
       "4  Playlist 5  ['Yeah! (feat. Lil Jon & Ludacris)', 'This Lov...   \n",
       "\n",
       "   average_track_popularity  \\\n",
       "0                     65.66   \n",
       "1                     66.79   \n",
       "2                     64.64   \n",
       "3                     66.25   \n",
       "4                     67.68   \n",
       "\n",
       "                                              albums  \\\n",
       "0  ['Oops!... I Did It Again', 'Enema Of The Stat...   \n",
       "1  ['Hot Shot', 'Read My Lips', 'The Marshall Mat...   \n",
       "2  ['Nellyville', 'The Eminem Show', 'Let Go', 'B...   \n",
       "3  [\"Get Rich Or Die Tryin'\", 'Elephant', 'Curtai...   \n",
       "4  ['Confessions (Expanded Edition)', 'Songs Abou...   \n",
       "\n",
       "                                             artists   top_genre  \\\n",
       "0  ['Britney Spears', 'blink-182', 'Faith Hill', ...  'dancepop'   \n",
       "1  ['Shaggy', 'Sophie Ellis-Bextor', 'Eminem', 'K...  'dancepop'   \n",
       "2  ['Nelly', 'Eminem', 'Avril Lavigne', 'Vanessa ...  'dancepop'   \n",
       "3  ['50 Cent', 'The White Stripes', 'Eminem', 'Be...  'dancepop'   \n",
       "4  ['USHER', 'Maroon 5', 'Rascal Flatts', 'Britne...  'dancepop'   \n",
       "\n",
       "   average_artist_popularity  average_danceability  top_key  average_tempo  \\\n",
       "0                      66.17               0.65875        0      122.75544   \n",
       "1                      65.65               0.67281        1      115.99193   \n",
       "2                      69.48               0.65076        2      119.75400   \n",
       "3                      68.93               0.66311        6      116.05242   \n",
       "4                      69.48               0.66997        1      117.81705   \n",
       "\n",
       "   top_time_signature  \n",
       "0                   4  \n",
       "1                   4  \n",
       "2                   4  \n",
       "3                   4  \n",
       "4                   4  "
      ]
     },
     "execution_count": 2,
     "metadata": {},
     "output_type": "execute_result"
    }
   ],
   "source": [
    "df = pd.read_csv('playlist_exit_ticket.csv')\n",
    "df.head()"
   ]
  },
  {
   "cell_type": "code",
   "execution_count": 3,
   "id": "7fddf20f",
   "metadata": {},
   "outputs": [
    {
     "name": "stdout",
     "output_type": "stream",
     "text": [
      "<class 'pandas.core.frame.DataFrame'>\n",
      "RangeIndex: 24 entries, 0 to 23\n",
      "Data columns (total 11 columns):\n",
      " #   Column                     Non-Null Count  Dtype  \n",
      "---  ------                     --------------  -----  \n",
      " 0   playlist                   24 non-null     object \n",
      " 1   tracks                     24 non-null     object \n",
      " 2   average_track_popularity   24 non-null     float64\n",
      " 3   albums                     24 non-null     object \n",
      " 4   artists                    24 non-null     object \n",
      " 5   top_genre                  24 non-null     object \n",
      " 6   average_artist_popularity  24 non-null     float64\n",
      " 7   average_danceability       24 non-null     float64\n",
      " 8   top_key                    24 non-null     int64  \n",
      " 9   average_tempo              24 non-null     float64\n",
      " 10  top_time_signature         24 non-null     int64  \n",
      "dtypes: float64(4), int64(2), object(5)\n",
      "memory usage: 2.2+ KB\n"
     ]
    }
   ],
   "source": [
    "df.info()"
   ]
  },
  {
   "cell_type": "code",
   "execution_count": 4,
   "id": "78499cb9",
   "metadata": {},
   "outputs": [],
   "source": [
    "X = df[['average_track_popularity', 'average_artist_popularity']]"
   ]
  },
  {
   "cell_type": "code",
   "execution_count": 5,
   "id": "3c4aee6c",
   "metadata": {},
   "outputs": [
    {
     "ename": "NameError",
     "evalue": "name 'DBSCAN' is not defined",
     "output_type": "error",
     "traceback": [
      "\u001b[1;31m---------------------------------------------------------------------------\u001b[0m",
      "\u001b[1;31mNameError\u001b[0m                                 Traceback (most recent call last)",
      "\u001b[1;32m~\\AppData\\Local\\Temp\\ipykernel_26932\\1658083044.py\u001b[0m in \u001b[0;36m<module>\u001b[1;34m\u001b[0m\n\u001b[1;32m----> 1\u001b[1;33m \u001b[0mmodel\u001b[0m \u001b[1;33m=\u001b[0m \u001b[0mDBSCAN\u001b[0m\u001b[1;33m(\u001b[0m\u001b[0meps\u001b[0m\u001b[1;33m=\u001b[0m\u001b[1;36m3\u001b[0m\u001b[1;33m,\u001b[0m \u001b[0mmin_samples\u001b[0m\u001b[1;33m=\u001b[0m\u001b[1;36m2\u001b[0m\u001b[1;33m)\u001b[0m\u001b[1;33m.\u001b[0m\u001b[0mfit\u001b[0m\u001b[1;33m(\u001b[0m\u001b[0mX\u001b[0m\u001b[1;33m)\u001b[0m\u001b[1;33m\u001b[0m\u001b[1;33m\u001b[0m\u001b[0m\n\u001b[0m",
      "\u001b[1;31mNameError\u001b[0m: name 'DBSCAN' is not defined"
     ]
    }
   ],
   "source": [
    "model = DBSCAN(eps=3, min_samples=2).fit(X)"
   ]
  },
  {
   "cell_type": "code",
   "execution_count": null,
   "id": "e9db2d73",
   "metadata": {},
   "outputs": [],
   "source": [
    "model.labels_"
   ]
  },
  {
   "cell_type": "code",
   "execution_count": null,
   "id": "70d559c8",
   "metadata": {},
   "outputs": [],
   "source": [
    "df['labels'] = model.labels_"
   ]
  },
  {
   "cell_type": "code",
   "execution_count": null,
   "id": "ba54f93a",
   "metadata": {},
   "outputs": [],
   "source": [
    "df.tail()"
   ]
  },
  {
   "cell_type": "code",
   "execution_count": null,
   "id": "fce771ab",
   "metadata": {},
   "outputs": [],
   "source": [
    "silhouette_score(X, model.fit_predict(X))"
   ]
  }
 ],
 "metadata": {
  "kernelspec": {
   "display_name": "Python 3 (ipykernel)",
   "language": "python",
   "name": "python3"
  },
  "language_info": {
   "codemirror_mode": {
    "name": "ipython",
    "version": 3
   },
   "file_extension": ".py",
   "mimetype": "text/x-python",
   "name": "python",
   "nbconvert_exporter": "python",
   "pygments_lexer": "ipython3",
   "version": "3.9.13"
  }
 },
 "nbformat": 4,
 "nbformat_minor": 5
}
