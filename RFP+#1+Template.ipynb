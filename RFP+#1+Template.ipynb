{
 "cells": [
  {
   "cell_type": "markdown",
   "id": "1b940825",
   "metadata": {},
   "source": [
    "# RFP: Betting on the Bachelor\n",
    "\n",
    "## Project Overview\n",
    "You are invited to submit a proposal that answers the following question:\n",
    "\n",
    "### Who will win season 29 of the Bachelor?\n",
    "\n",
    "*All proposals must be submitted by **1/15/25 at 11:59 PM**.*"
   ]
  },
  {
   "cell_type": "markdown",
   "id": "968a85f0",
   "metadata": {},
   "source": [
    "## Required Proposal Components\n",
    "\n",
    "### 1. Data Description\n",
    "In the code cell below, read in the data you plan on using to train and test your model. Call `info()` once you have read the data into a dataframe. Consider using some or all of the following sources:\n",
    "- [Scrape Fandom Wikis](https://bachelor-nation.fandom.com/wiki/The_Bachelor) or [the official Bachelor website]('https://bachelornation.com/shows/the-bachelor/')\n",
    "- [Ask ChatGPT to genereate it](https://chatgpt.com/)\n",
    "- [Read in csv files like this](https://www.kaggle.com/datasets/brianbgonz/the-bachelor-contestants?select=contestants.csv)\n",
    "\n",
    "*Note, a level 5 dataset contains at least 1000 rows of non-null data. A level 4 contains at least 500 rows of non-null data.*"
   ]
  },
  {
   "cell_type": "code",
   "execution_count": 1,
   "id": "08c1688a",
   "metadata": {},
   "outputs": [],
   "source": [
    "# Read data into a dataframe.\n",
    "# Don't forget to call info()!"
   ]
  },
  {
   "cell_type": "code",
   "execution_count": 2,
   "id": "4bb7472a",
   "metadata": {},
   "outputs": [],
   "source": [
    "import pandas as pd\n",
    "import math\n",
    "import seaborn as sns\n",
    "import numpy as np\n",
    "from sklearn.model_selection import train_test_split\n",
    "from sklearn.linear_model import LinearRegression\n",
    "from sklearn.metrics import mean_squared_error"
   ]
  },
  {
   "cell_type": "code",
   "execution_count": 3,
   "id": "a4c9f707",
   "metadata": {},
   "outputs": [
    {
     "name": "stdout",
     "output_type": "stream",
     "text": [
      "<class 'pandas.core.frame.DataFrame'>\n",
      "RangeIndex: 423 entries, 0 to 422\n",
      "Data columns (total 7 columns):\n",
      " #   Column      Non-Null Count  Dtype  \n",
      "---  ------      --------------  -----  \n",
      " 0   Name        423 non-null    object \n",
      " 1   Age         422 non-null    float64\n",
      " 2   Occupation  423 non-null    object \n",
      " 3   Hometown    423 non-null    object \n",
      " 4   Height      30 non-null     float64\n",
      " 5   ElimWeek    406 non-null    float64\n",
      " 6   Season      423 non-null    int64  \n",
      "dtypes: float64(3), int64(1), object(3)\n",
      "memory usage: 23.3+ KB\n"
     ]
    }
   ],
   "source": [
    "import pandas as pd\n",
    "contest = pd.read_csv('contestants.csv')\n",
    "contest.info()"
   ]
  },
  {
   "cell_type": "code",
   "execution_count": 4,
   "id": "9ae032a2",
   "metadata": {},
   "outputs": [
    {
     "data": {
      "text/html": [
       "<div>\n",
       "<style scoped>\n",
       "    .dataframe tbody tr th:only-of-type {\n",
       "        vertical-align: middle;\n",
       "    }\n",
       "\n",
       "    .dataframe tbody tr th {\n",
       "        vertical-align: top;\n",
       "    }\n",
       "\n",
       "    .dataframe thead th {\n",
       "        text-align: right;\n",
       "    }\n",
       "</style>\n",
       "<table border=\"1\" class=\"dataframe\">\n",
       "  <thead>\n",
       "    <tr style=\"text-align: right;\">\n",
       "      <th></th>\n",
       "      <th>Name</th>\n",
       "      <th>Age</th>\n",
       "      <th>Occupation</th>\n",
       "      <th>Hometown</th>\n",
       "      <th>Height</th>\n",
       "      <th>ElimWeek</th>\n",
       "      <th>Season</th>\n",
       "    </tr>\n",
       "  </thead>\n",
       "  <tbody>\n",
       "    <tr>\n",
       "      <th>0</th>\n",
       "      <td>Amanda Marsh</td>\n",
       "      <td>23.0</td>\n",
       "      <td>Event Planner</td>\n",
       "      <td>Chanute, Kansas</td>\n",
       "      <td>NaN</td>\n",
       "      <td>NaN</td>\n",
       "      <td>1</td>\n",
       "    </tr>\n",
       "    <tr>\n",
       "      <th>1</th>\n",
       "      <td>Trista Rehn</td>\n",
       "      <td>29.0</td>\n",
       "      <td>Miami Heat Dancer</td>\n",
       "      <td>Miami, Florida</td>\n",
       "      <td>NaN</td>\n",
       "      <td>6.0</td>\n",
       "      <td>1</td>\n",
       "    </tr>\n",
       "    <tr>\n",
       "      <th>2</th>\n",
       "      <td>Shannon Oliver</td>\n",
       "      <td>24.0</td>\n",
       "      <td>Financial Management Consultant</td>\n",
       "      <td>Dallas, Texas</td>\n",
       "      <td>NaN</td>\n",
       "      <td>5.0</td>\n",
       "      <td>1</td>\n",
       "    </tr>\n",
       "    <tr>\n",
       "      <th>3</th>\n",
       "      <td>Kim</td>\n",
       "      <td>24.0</td>\n",
       "      <td>Nanny</td>\n",
       "      <td>Tempe, Arizona</td>\n",
       "      <td>NaN</td>\n",
       "      <td>4.0</td>\n",
       "      <td>1</td>\n",
       "    </tr>\n",
       "    <tr>\n",
       "      <th>4</th>\n",
       "      <td>Cathy Grimes</td>\n",
       "      <td>22.0</td>\n",
       "      <td>Graduate Student</td>\n",
       "      <td>Terra Haute, Indiana</td>\n",
       "      <td>NaN</td>\n",
       "      <td>3.0</td>\n",
       "      <td>1</td>\n",
       "    </tr>\n",
       "  </tbody>\n",
       "</table>\n",
       "</div>"
      ],
      "text/plain": [
       "             Name   Age                       Occupation  \\\n",
       "0    Amanda Marsh  23.0                    Event Planner   \n",
       "1     Trista Rehn  29.0                Miami Heat Dancer   \n",
       "2  Shannon Oliver  24.0  Financial Management Consultant   \n",
       "3             Kim  24.0                            Nanny   \n",
       "4    Cathy Grimes  22.0                 Graduate Student   \n",
       "\n",
       "               Hometown  Height  ElimWeek  Season  \n",
       "0       Chanute, Kansas     NaN       NaN       1  \n",
       "1        Miami, Florida     NaN       6.0       1  \n",
       "2         Dallas, Texas     NaN       5.0       1  \n",
       "3        Tempe, Arizona     NaN       4.0       1  \n",
       "4  Terra Haute, Indiana     NaN       3.0       1  "
      ]
     },
     "execution_count": 4,
     "metadata": {},
     "output_type": "execute_result"
    }
   ],
   "source": [
    "contest.head()"
   ]
  },
  {
   "cell_type": "code",
   "execution_count": 5,
   "id": "3fcdd37e",
   "metadata": {},
   "outputs": [
    {
     "data": {
      "text/plain": [
       "array(['Event Planner', 'Miami Heat Dancer',\n",
       "       'Financial Management Consultant', 'Nanny', 'Graduate Student',\n",
       "       'Attorney', 'Actress', 'Commercial Real Estate Agent',\n",
       "       'Special Ed. Teacher', 'Production Coordinator',\n",
       "       'Hooters Waitress', 'Power Tool Sales Rep.', 'Photographer',\n",
       "       'Business Development Director', 'Neuropsychologist', 'Doctor',\n",
       "       'Bar Manager', 'Retail Manager', 'Advertising Executive',\n",
       "       'Insurance Representative', '6th Grade Teacher',\n",
       "       'Technology Specialist', 'School Psychologist', 'College Student',\n",
       "       'Executive Recruiter', 'Registered Nurse', 'Flight Attendant',\n",
       "       'Assistant Financial Advisor', 'Marriage Therapy Trainee',\n",
       "       'Airline Supervisor', 'Graphic Artist', 'Radio Sales',\n",
       "       'Publications Quality Control', 'Strategic Planning Analyst',\n",
       "       'Psychologist', '3rd Grade Teacher', 'Radiological Technologist',\n",
       "       'Interior Designer', 'Paralegal', 'Former NBA Cheerleader',\n",
       "       '1st Grade Teacher', 'Communications Specialist', 'Student',\n",
       "       'General contractor', 'Designer for an architect firm', 'Model',\n",
       "       'Prosthetic technician', 'Pharmaceutical sales',\n",
       "       'Professional Cheerleader',\n",
       "       'Swim instructor/nanny/personal trainer',\n",
       "       'LASIK Eye and Skin Center manager', 'Hair stylist',\n",
       "       'Massage therapist/bartender', 'Model/make-up artist',\n",
       "       'Consultant', 'Professional soccer player',\n",
       "       'Model/executive assistant', 'Retail manager', 'Account manager',\n",
       "       'Account manager/sales', 'Bank representative',\n",
       "       'Fashion public relations manager', 'Singer', 'Teacher',\n",
       "       'Publicist', 'Marketing manager', 'Realtor', 'Event planner',\n",
       "       'Ultrasound technician', 'Socialite', 'Journalist',\n",
       "       'Interior designer', 'Make-up artist', 'Policy advisor',\n",
       "       'Broadcast marketer', 'Dolphin trainer', 'Assistant buyer',\n",
       "       'Registered nurse', 'Physician', 'Dancer', 'Restaurateur',\n",
       "       'Beer chemist', 'Hotel concierge', 'Social Worker', 'Assistant',\n",
       "       'Graphic Designer', 'Project Manager', 'Medical student',\n",
       "       'Boutique owner', 'Sales Manager', 'Organ donor coordinator',\n",
       "       'Financial analyst', 'Sorority recruiter', 'Boutique manager',\n",
       "       'Medical equipment sales rep', 'Radio sales', 'Waitress',\n",
       "       'Former Miss Illinois', 'Executive coordinator',\n",
       "       'Health care manager', 'Hedge fund analyst',\n",
       "       'Real estate sales/development', 'Phoenix Suns\\xa0Cheerleader',\n",
       "       'Internet marketing executive', 'Acupuncturist',\n",
       "       'Executive assistant', 'Boutique sales worker', 'Bar manager',\n",
       "       'Esthetician', 'Publishing sales executive', 'News anchor',\n",
       "       'Law student', 'Biology teacher', 'Graduate student',\n",
       "       'Account representative', 'Emergency room nurse',\n",
       "       'Project analyst', 'Pharmaceutical sales rep.',\n",
       "       'Account Executive', 'Fashion designer', 'Advertising coordinator',\n",
       "       'Singer-songwriter', 'Medical sales rep.',\n",
       "       \"Children's book author\", 'Hot-dog vendor', 'Personal trainer',\n",
       "       'Church marketing rep.', 'Administrative assistant',\n",
       "       'Biology student', 'Attorney and former\\xa0White House\\xa0aide',\n",
       "       'Makeup artist', 'Youth minister', 'Cocktail waitress',\n",
       "       'Real estate marketing rep.', 'Sales Representative',\n",
       "       'Department Store Buyer', 'Single Mother & Medical Marketing Rep.',\n",
       "       'Single Mother and Lacrosse Coach', 'Dental Hygienist',\n",
       "       'Administrative Assistant', 'Human Resources Recruiter',\n",
       "       'Medical Student', 'Public Relations Associate',\n",
       "       'Medical Sales Rep.', 'Casino Marketing Rep.',\n",
       "       'Wedding Coordinator', 'Menswear Buyer', 'Jewelry Designer',\n",
       "       'Single Mother & Charity Accountant',\n",
       "       'Single Mother and Nurse Practitioner', 'Marketing Representative',\n",
       "       'College Admissions', 'Swimsuit Model',\n",
       "       'Advertising Account Manager', 'Wardrobe Consultant',\n",
       "       'Account Manager', 'Cosmetic Sales Manager',\n",
       "       'Corporate Flight Attendant', 'Hair Stylist', 'Homemaker',\n",
       "       'Office Manager', 'Restaurant Manager', 'Model/Make-Up Artist',\n",
       "       'Entrepreneur', 'Spokesmodel', 'Mortgage Loan Officer',\n",
       "       'Captain, Air National Guard', 'Fitness Model', 'NBA Dancer',\n",
       "       'Commercial Pilot', 'Dance Teacher', 'Medical Technician',\n",
       "       \"Children's Hospital Event Planner\", 'Executive Assistant',\n",
       "       'Dental Student', 'Funeral Director', 'Food writer', 'Artist',\n",
       "       'Apparel merchant', 'Marketing Coordinator', 'Sports Publicist',\n",
       "       'First grade teacher', 'Fashion Marketer', 'Bartender',\n",
       "       'Real Estate Broker', 'Radio City Rockette', 'Manscaper',\n",
       "       'Operations Manager', 'Sales director', 'Insurance agent',\n",
       "       'High School Teacher', 'Sales Consultant',\n",
       "       'Musical Theatre Performer', 'Business development manager',\n",
       "       'Dental hygienist', 'PhD Student', 'Fashion sales representative',\n",
       "       'Trading clerk', 'VIP cocktail waitress', 'Accountant',\n",
       "       'Dental consultant', 'Advertising account manager',\n",
       "       'Medical sales representative', 'Blogger', 'Financial advisor',\n",
       "       'Labor and delivery nurse', 'Critical care nurse',\n",
       "       'Nonprofit director', 'Pharmaceutical sales representative',\n",
       "       'Internet entrepreneur', 'Substitute Teacher',\n",
       "       'Personal Organizer', 'Bridal Stylist', 'Political Consultant',\n",
       "       'Leasing Consultant', 'Commercial Casting Associate',\n",
       "       'Real Estate Dealer', 'Oil Field Account Manager',\n",
       "       'Cosmetics Consultant', 'Fit Model', 'Poker Dealer',\n",
       "       'Health Club Manager', 'Community Organizer', 'Salon Owner',\n",
       "       'Yoga Instructor', 'Fashion Model', 'Cruise Ship Entertainer',\n",
       "       'Jumbotron Operator', 'Pediatric Nurse', 'Hairstylist',\n",
       "       'Assistant District Attorney', 'Real Estate Agent',\n",
       "       'Science Educator', 'Opera Singer',\n",
       "       'Medical Sales Representative/NBA Dancer', 'Former NBA Dancer',\n",
       "       'Psychiatric Nurse', 'Dog Lover', 'First Grade Teacher',\n",
       "       'Music Composer', 'Marketing Manager', 'Free Spirit',\n",
       "       'Local News Reporter', 'Legal Assistant',\n",
       "       'Communications Director/NHL\\xa0Ice Girl', 'Massage Therapist',\n",
       "       'Grade School Teacher', 'Police Support Specialist',\n",
       "       'Nursing Home Owner', 'Mineral Coordinator', 'Personal Banker',\n",
       "       'Personal Trainer', 'Fertility Nurse', 'Chiropractic Assistant',\n",
       "       'Dance Instructor', 'Cosmetics Developer', 'Cruise Ship Singer',\n",
       "       'Make-Up Artist', 'Guidance Counselor',\n",
       "       'Nanny/Freelance Journalist', 'Dental Assistant',\n",
       "       'Fashion Designer', 'Former NFL Cheerleader', 'News Producer',\n",
       "       'Fourth Grade Teacher', 'Special Education Teacher',\n",
       "       'Sport Fishing Enthusiast', 'Ballet Teacher', 'Plus-Size Model',\n",
       "       'WWE Diva-in-Training', 'High School Soccer Coach',\n",
       "       'Wedding Cake Baker', 'Cadaver Tissue Saleswoman',\n",
       "       'Real Estate Developer', 'Software Sales Representative',\n",
       "       'Kindergarten Teacher', 'Former News Anchor',\n",
       "       'Small Business Owner', 'War Veteran', 'Unemployed',\n",
       "       'Mathematician', 'Dentist', 'Gerontologist', 'Fashion Buyer',\n",
       "       'Nutritional Therapist', 'Math Teacher', 'Cowgirl',\n",
       "       'Chicken Enthusiast', 'Aspiring Dolphin Trainer',\n",
       "       'Plastic Surgery Office Manager', 'Surgical Unit Nurse',\n",
       "       'Travel Nurse', 'Wedding Videographer', 'Business Owner',\n",
       "       'Neonatal Nurse', 'Restaurant Server', 'Doula', 'Chef',\n",
       "       'Pro Basketball Dancer', 'Digital Marketing Manager',\n",
       "       'Law School Graduate', 'Food Truck Owner',\n",
       "       'Apparel Sales Representative', 'Fashion Boutique Owner',\n",
       "       'Mental Health Counselor', 'Pilates Instructor'], dtype=object)"
      ]
     },
     "execution_count": 5,
     "metadata": {},
     "output_type": "execute_result"
    }
   ],
   "source": [
    "contest['Occupation'].unique()"
   ]
  },
  {
   "cell_type": "code",
   "execution_count": 6,
   "id": "6d0ad72a",
   "metadata": {},
   "outputs": [
    {
     "data": {
      "text/plain": [
       "array([nan,  6.,  5.,  4.,  3.,  2.,  1.,  7.,  8., 10.,  9.])"
      ]
     },
     "execution_count": 6,
     "metadata": {},
     "output_type": "execute_result"
    }
   ],
   "source": [
    "contest['ElimWeek'].unique()"
   ]
  },
  {
   "cell_type": "code",
   "execution_count": 7,
   "id": "b70951a9",
   "metadata": {},
   "outputs": [],
   "source": [
    "contest['ElimWeek'].fillna(11, inplace=True)"
   ]
  },
  {
   "cell_type": "code",
   "execution_count": 8,
   "id": "a0aaf26a",
   "metadata": {},
   "outputs": [
    {
     "data": {
      "text/plain": [
       "'\\nPossible occupational categories: \\n- Student/Graduate\\n- Teacher/Nanny/Instructor/Counselor\\n- Manager/Consultant/Sales Representative\\n- Nurse/Doctor/Physician/Psychologist\\n- Dancer/Model/Singer/Stylist/Artist/Designer\\n- Other\\n'"
      ]
     },
     "execution_count": 8,
     "metadata": {},
     "output_type": "execute_result"
    }
   ],
   "source": [
    "'''\n",
    "Possible occupational categories: \n",
    "- Student/Graduate\n",
    "- Teacher/Nanny/Instructor/Counselor\n",
    "- Manager/Consultant/Sales Representative\n",
    "- Nurse/Doctor/Physician/Psychologist\n",
    "- Dancer/Model/Singer/Stylist/Artist/Designer\n",
    "- Other\n",
    "'''"
   ]
  },
  {
   "cell_type": "code",
   "execution_count": 9,
   "id": "9ed62dc3",
   "metadata": {},
   "outputs": [
    {
     "ename": "SyntaxError",
     "evalue": "invalid syntax (2659828907.py, line 5)",
     "output_type": "error",
     "traceback": [
      "\u001b[1;36m  File \u001b[1;32m\"C:\\Users\\enichol\\AppData\\Local\\Temp\\ipykernel_2960\\2659828907.py\"\u001b[1;36m, line \u001b[1;32m5\u001b[0m\n\u001b[1;33m    if (contest['Occupation'][i].index('student') >= 0 or contest['Occupation'][i].index('graduate') >= 0 )\u001b[0m\n\u001b[1;37m                                                                                                           ^\u001b[0m\n\u001b[1;31mSyntaxError\u001b[0m\u001b[1;31m:\u001b[0m invalid syntax\n"
     ]
    }
   ],
   "source": [
    "occNum = []\n",
    "contest['occNum'] = occNum\n",
    "\n",
    "for i in range(len(contest)):\n",
    "    if (contest['Occupation'][i].index('student') >= 0 or contest['Occupation'][i].index('graduate') >= 0 )\n",
    "    {\n",
    "        contest['occNum'] = 4\n",
    "    }"
   ]
  },
  {
   "cell_type": "code",
   "execution_count": null,
   "id": "019036b7",
   "metadata": {},
   "outputs": [],
   "source": [
    "# Initialize an empty list to store occupation numbers\n",
    "occNum = []\n",
    "\n",
    "# Loop through each row in the DataFrame\n",
    "for i in range(len(contest)):\n",
    "    # Check if the occupation contains 'student' or 'graduate'\n",
    "    if 'student' in contest['Occupation'][i] or 'graduate' in contest['Occupation'][i]:\n",
    "        occNum.append(2)  # Append 2 if the occupation is student or graduate\n",
    "    elif 'teacher'in contest['Occupation'][i] or 'nanny' in contest['Occupation'][i] in contest['Occupation'][i] \n",
    "    or 'intructor' in contest['Occupation'][i] or 'conselor' in contest['Occupation'][i]:\n",
    "        occNum.append(3)\n",
    "    elif 'manage'in contest['Occupation'][i] or 'consultant' in contest['Occupation'][i] \n",
    "    or 'sale' in contest['Occupation'][i] or 'representative' in contest['Occupation'][i]:\n",
    "        occNum.append(1)\n",
    "    elif 'nurse'in contest['Occupation'][i] or 'doctor' in contest['Occupation'][i] \n",
    "    or 'physician' in contest['Occupation'][i] or 'psychologist' in contest['Occupation'][i]:\n",
    "        occNum.append(5)\n",
    "    elif 'dancer'in contest['Occupation'][i] or 'model' in contest['Occupation'][i] \n",
    "    or 'singer' in contest['Occupation'][i] or 'stylist' in contest['Occupation'][i]\n",
    "    or 'artist' in contest['Occupation'][i] or 'designer' in contest['Occupation'][i]:\n",
    "        occNum.append(4)\n",
    "    else:\n",
    "        occNum.append(0)  # Append 0 for other occupations\n",
    "\n",
    "# Assign the populated occNum list to the 'occNum' column in the DataFrame\n",
    "contest['occNum'] = occNum\n",
    "\n"
   ]
  },
  {
   "cell_type": "code",
   "execution_count": 17,
   "id": "b5f64451",
   "metadata": {},
   "outputs": [],
   "source": [
    "# Initialize an empty list to store occupation numbers\n",
    "occNum = []\n",
    "\n",
    "# Loop through each row in the DataFrame\n",
    "for i in range(len(contest)):\n",
    "    # Check if the occupation contains 'student' or 'graduate'\n",
    "    if 'student' in contest['Occupation'][i] or 'graduate' in contest['Occupation'][i]:\n",
    "        occNum.append(5)  # Append 2 if the occupation is student or graduate\n",
    "    # Check if the occupation contains teacher-related roles\n",
    "    elif 'teacher' in contest['Occupation'][i] or 'nanny' in contest['Occupation'][i] or 'instructor' in contest['Occupation'][i] or 'counselor' in contest['Occupation'][i]:\n",
    "        occNum.append(2)\n",
    "    # Check if the occupation contains management or sales-related roles\n",
    "    elif 'manage' in contest['Occupation'][i] or 'consultant' in contest['Occupation'][i] or 'sales' in contest['Occupation'][i] or 'representative' in contest['Occupation'][i]:\n",
    "        occNum.append(1)\n",
    "    # Check if the occupation contains medical-related roles\n",
    "    elif 'nurse' in contest['Occupation'][i] or 'doctor' in contest['Occupation'][i] or 'physician' in contest['Occupation'][i] or 'psychologist' in contest['Occupation'][i]:\n",
    "        occNum.append(4)\n",
    "    # Check if the occupation contains artistic or performance-related roles\n",
    "    elif 'dancer' in contest['Occupation'][i] or 'model' in contest['Occupation'][i] or 'singer' in contest['Occupation'][i] or 'stylist' in contest['Occupation'][i] or 'artist' in contest['Occupation'][i] or 'designer' in contest['Occupation'][i]:\n",
    "        occNum.append(3)\n",
    "    else:\n",
    "        occNum.append(0)  # Append 0 for other occupations\n",
    "\n",
    "# Assign the populated occNum list to the 'occNum' column in the DataFrame\n",
    "contest['occNum'] = occNum\n"
   ]
  },
  {
   "cell_type": "code",
   "execution_count": 18,
   "id": "9f1b5443",
   "metadata": {},
   "outputs": [
    {
     "data": {
      "text/html": [
       "<div>\n",
       "<style scoped>\n",
       "    .dataframe tbody tr th:only-of-type {\n",
       "        vertical-align: middle;\n",
       "    }\n",
       "\n",
       "    .dataframe tbody tr th {\n",
       "        vertical-align: top;\n",
       "    }\n",
       "\n",
       "    .dataframe thead th {\n",
       "        text-align: right;\n",
       "    }\n",
       "</style>\n",
       "<table border=\"1\" class=\"dataframe\">\n",
       "  <thead>\n",
       "    <tr style=\"text-align: right;\">\n",
       "      <th></th>\n",
       "      <th>Name</th>\n",
       "      <th>Age</th>\n",
       "      <th>Occupation</th>\n",
       "      <th>Hometown</th>\n",
       "      <th>Height</th>\n",
       "      <th>ElimWeek</th>\n",
       "      <th>Season</th>\n",
       "      <th>occNum</th>\n",
       "    </tr>\n",
       "  </thead>\n",
       "  <tbody>\n",
       "    <tr>\n",
       "      <th>0</th>\n",
       "      <td>Amanda Marsh</td>\n",
       "      <td>23.0</td>\n",
       "      <td>Event Planner</td>\n",
       "      <td>Chanute, Kansas</td>\n",
       "      <td>NaN</td>\n",
       "      <td>11.0</td>\n",
       "      <td>1</td>\n",
       "      <td>0</td>\n",
       "    </tr>\n",
       "    <tr>\n",
       "      <th>1</th>\n",
       "      <td>Trista Rehn</td>\n",
       "      <td>29.0</td>\n",
       "      <td>Miami Heat Dancer</td>\n",
       "      <td>Miami, Florida</td>\n",
       "      <td>NaN</td>\n",
       "      <td>6.0</td>\n",
       "      <td>1</td>\n",
       "      <td>0</td>\n",
       "    </tr>\n",
       "    <tr>\n",
       "      <th>2</th>\n",
       "      <td>Shannon Oliver</td>\n",
       "      <td>24.0</td>\n",
       "      <td>Financial Management Consultant</td>\n",
       "      <td>Dallas, Texas</td>\n",
       "      <td>NaN</td>\n",
       "      <td>5.0</td>\n",
       "      <td>1</td>\n",
       "      <td>0</td>\n",
       "    </tr>\n",
       "    <tr>\n",
       "      <th>3</th>\n",
       "      <td>Kim</td>\n",
       "      <td>24.0</td>\n",
       "      <td>Nanny</td>\n",
       "      <td>Tempe, Arizona</td>\n",
       "      <td>NaN</td>\n",
       "      <td>4.0</td>\n",
       "      <td>1</td>\n",
       "      <td>0</td>\n",
       "    </tr>\n",
       "    <tr>\n",
       "      <th>4</th>\n",
       "      <td>Cathy Grimes</td>\n",
       "      <td>22.0</td>\n",
       "      <td>Graduate Student</td>\n",
       "      <td>Terra Haute, Indiana</td>\n",
       "      <td>NaN</td>\n",
       "      <td>3.0</td>\n",
       "      <td>1</td>\n",
       "      <td>0</td>\n",
       "    </tr>\n",
       "  </tbody>\n",
       "</table>\n",
       "</div>"
      ],
      "text/plain": [
       "             Name   Age                       Occupation  \\\n",
       "0    Amanda Marsh  23.0                    Event Planner   \n",
       "1     Trista Rehn  29.0                Miami Heat Dancer   \n",
       "2  Shannon Oliver  24.0  Financial Management Consultant   \n",
       "3             Kim  24.0                            Nanny   \n",
       "4    Cathy Grimes  22.0                 Graduate Student   \n",
       "\n",
       "               Hometown  Height  ElimWeek  Season  occNum  \n",
       "0       Chanute, Kansas     NaN      11.0       1       0  \n",
       "1        Miami, Florida     NaN       6.0       1       0  \n",
       "2         Dallas, Texas     NaN       5.0       1       0  \n",
       "3        Tempe, Arizona     NaN       4.0       1       0  \n",
       "4  Terra Haute, Indiana     NaN       3.0       1       0  "
      ]
     },
     "execution_count": 18,
     "metadata": {},
     "output_type": "execute_result"
    }
   ],
   "source": [
    "contest.head()"
   ]
  },
  {
   "cell_type": "code",
   "execution_count": 19,
   "id": "21f95403",
   "metadata": {},
   "outputs": [
    {
     "data": {
      "text/plain": [
       "-0.11086099426033462"
      ]
     },
     "execution_count": 19,
     "metadata": {},
     "output_type": "execute_result"
    }
   ],
   "source": [
    "contest['occNum'].corr(contest['ElimWeek'])"
   ]
  },
  {
   "cell_type": "code",
   "execution_count": null,
   "id": "a87892e3",
   "metadata": {},
   "outputs": [],
   "source": [
    "len(contest['Occupation'].unique())"
   ]
  },
  {
   "cell_type": "code",
   "execution_count": null,
   "id": "f5a6d212",
   "metadata": {},
   "outputs": [],
   "source": [
    "contest['Hometown'].unique()"
   ]
  },
  {
   "cell_type": "code",
   "execution_count": null,
   "id": "915ba933",
   "metadata": {},
   "outputs": [],
   "source": [
    "len(contest['Hometown'].unique())"
   ]
  },
  {
   "cell_type": "code",
   "execution_count": null,
   "id": "2274db12",
   "metadata": {},
   "outputs": [],
   "source": [
    "print(contest)"
   ]
  },
  {
   "cell_type": "code",
   "execution_count": null,
   "id": "286ed226",
   "metadata": {},
   "outputs": [],
   "source": [
    "contest['ElimWeek'] = pd.to_numeric(contest['ElimWeek'], errors='coerce')"
   ]
  },
  {
   "cell_type": "code",
   "execution_count": 20,
   "id": "56600e3d",
   "metadata": {},
   "outputs": [
    {
     "data": {
      "text/plain": [
       "-0.10248121550116647"
      ]
     },
     "execution_count": 20,
     "metadata": {},
     "output_type": "execute_result"
    }
   ],
   "source": [
    "contest['Age'].corr(contest['ElimWeek'])"
   ]
  },
  {
   "cell_type": "code",
   "execution_count": null,
   "id": "19e45d87",
   "metadata": {},
   "outputs": [],
   "source": []
  },
  {
   "cell_type": "code",
   "execution_count": null,
   "id": "6e7786c3",
   "metadata": {},
   "outputs": [],
   "source": [
    "import requests\n",
    "from bs4 import BeautifulSoup\n",
    "\n",
    "df = pd.DataFrame(columns=['Editions'])\n",
    "season = 22\n",
    "while page <= 29:\n",
    "    url = 'https://en.wikipedia.org/wiki/The_Bachelor_(American_TV_series)_season_'+ str(season)\n",
    "    \n",
    "    # Make a request to the website and check the status code\n",
    "    response = requests.get(url)\n",
    "    if response.status_code == 200:\n",
    "        # Step 2: Parse the HTML content with BeautifulSoup\n",
    "        soup = BeautifulSoup(response.text, 'html.parser')\n",
    "        \n",
    "        # Find all the h2 elements with the specific class\n",
    "        mydivs = soup.find_all(\"span\", class_=\"resultDetails\")\n",
    "        \n",
    "        # Loop through each element and print the text\n",
    "        for blueText in mydivs:\n",
    "            step1 = blueText.get_text(strip=True).replace('First published in ', '', 1)\n",
    "            year = step1[0:4]\n",
    "            print(year)\n",
    "            editions = step1[5: 7]\n",
    "            print(editions)\n",
    "\n",
    "            print(blueText.get_text(strip=True).replace('First published in ', '', 1)) # get_text() extracts the inner text, and strip() removes any extra whitespace\n",
    "\n",
    "            new_row = {'Editions': editions}\n",
    "            '''df = df._append(new_row, ignore_index=True)'''\n",
    "            df = pd.concat([df, pd.DataFrame([new_row])], ignore_index=True)\n",
    "        else:\n",
    "            print(f\"Error: Unable to retrieve the page, status code {response.status_code}\")\n",
    "    \n",
    "    season += 1"
   ]
  },
  {
   "cell_type": "code",
   "execution_count": null,
   "id": "eab7b847",
   "metadata": {},
   "outputs": [],
   "source": [
    "import requests\n",
    "from bs4 import BeautifulSoup\n",
    "\n",
    "season = 22\n",
    "while season <= 29:\n",
    "    url = 'https://en.wikipedia.org/wiki/The_Bachelor_(American_TV_series)_season_'+ str(season)\n",
    "    \n",
    "    # Make a request to the website and check the status code\n",
    "    response = requests.get(url)\n",
    "    if response.status_code == 200:\n",
    "        # Step 2: Parse the HTML content with BeautifulSoup\n",
    "        soup = BeautifulSoup(response.text, 'html.parser')\n",
    "        \n",
    "\n",
    "        # Find the table containing the list of contestants\n",
    "\n",
    "        table = soup.find('table', {'class': 'wikitable'})\n",
    "\n",
    "\n",
    "        # Loop through each row of the table (skipping the header)\n",
    "\n",
    "        for row in table.find_all('tr')[1:]:\n",
    "            columns = row.find_all('td')\n",
    "            # Assuming that the first column contains contestant names, you can extract the text\n",
    "            if columns:\n",
    "                contestant_name = columns[0].get_text(strip=True)\n",
    "            print(contestant_name)\n",
    "   \n",
    "    season += 1"
   ]
  },
  {
   "cell_type": "code",
   "execution_count": null,
   "id": "11f824ac",
   "metadata": {},
   "outputs": [],
   "source": [
    "import requests\n",
    "from bs4 import BeautifulSoup\n",
    "\n",
    "season = 22\n",
    "while season <= 29:\n",
    "    url = 'https://en.wikipedia.org/wiki/The_Bachelor_(American_TV_series)_season_' + str(season)\n",
    "    \n",
    "    # Make a request to the website and check the status code\n",
    "    response = requests.get(url)\n",
    "    if response.status_code == 200:\n",
    "        # Step 2: Parse the HTML content with BeautifulSoup\n",
    "        soup = BeautifulSoup(response.text, 'html.parser')\n",
    "\n",
    "        # Find the table containing the list of contestants\n",
    "        table = soup.find('table', {'class': 'wikitable'})\n",
    "\n",
    "        # Loop through each row of the table (skipping the header)\n",
    "        for row in table.find_all('tr')[1:]:\n",
    "            columns = row.find_all('td')\n",
    "            \n",
    "            # Ensure the row has enough columns (at least two: name and age)\n",
    "            if len(columns) >= 2:\n",
    "                # Get contestant name (usually in the first column)\n",
    "                contestant_name = columns[0].get_text(strip=True)\n",
    "\n",
    "                # Try to extract age (usually in the second column)\n",
    "                age = columns[1].get_text(strip=True)\n",
    "\n",
    "                # Print contestant name and age\n",
    "                print(f\"Name: {contestant_name}, Age: {age}\")\n",
    "   \n",
    "    season += 1\n"
   ]
  },
  {
   "cell_type": "markdown",
   "id": "880ff05f",
   "metadata": {},
   "source": [
    "### 2. Training Your Model\n",
    "In the cell seen below, write the code you need to train a linear regression model. Make sure you display the equation of the plane that best fits your chosen data at the end of your program. \n",
    "\n",
    "*Note, level 5 work trains a model using only the standard Python library and Pandas. A level 5 model is trained with at least two features, where one of the features begins as a categorical value (e.g. occupation, hometown, etc.). A level 4 uses external libraries like scikit or numpy.*"
   ]
  },
  {
   "cell_type": "code",
   "execution_count": null,
   "id": "a87a9144",
   "metadata": {},
   "outputs": [],
   "source": [
    "# Train model here.\n",
    "# Don't forget to display the equation of the plane that best fits your data!"
   ]
  },
  {
   "cell_type": "code",
   "execution_count": 21,
   "id": "b7fd736b",
   "metadata": {},
   "outputs": [],
   "source": [
    "features = contest[['Age', 'occNum']]"
   ]
  },
  {
   "cell_type": "code",
   "execution_count": 22,
   "id": "edfb7473",
   "metadata": {},
   "outputs": [],
   "source": [
    "output = contest['ElimWeek']"
   ]
  },
  {
   "cell_type": "code",
   "execution_count": 26,
   "id": "14e9f1e0",
   "metadata": {},
   "outputs": [
    {
     "name": "stdout",
     "output_type": "stream",
     "text": [
      "1\n"
     ]
    }
   ],
   "source": [
    "nan_count = contest['Age'].isna().sum()\n",
    "print(nan_count)"
   ]
  },
  {
   "cell_type": "code",
   "execution_count": 29,
   "id": "6ef065d1",
   "metadata": {},
   "outputs": [],
   "source": [
    "contest.dropna(subset=['Age'], inplace=True)"
   ]
  },
  {
   "cell_type": "code",
   "execution_count": 33,
   "id": "f952802b",
   "metadata": {},
   "outputs": [
    {
     "name": "stdout",
     "output_type": "stream",
     "text": [
      "0\n"
     ]
    }
   ],
   "source": [
    "nan_count = contest['Age'].isna().sum()\n",
    "print(nan_count)"
   ]
  },
  {
   "cell_type": "code",
   "execution_count": 34,
   "id": "d31404ee",
   "metadata": {},
   "outputs": [],
   "source": [
    "X_train, X_test, y_train, y_test = train_test_split(\n",
    "    features, output, test_size=0.30, random_state=42)"
   ]
  },
  {
   "cell_type": "code",
   "execution_count": 35,
   "id": "83811ca3",
   "metadata": {},
   "outputs": [],
   "source": [
    "model = LinearRegression()"
   ]
  },
  {
   "cell_type": "code",
   "execution_count": 36,
   "id": "8717be19",
   "metadata": {},
   "outputs": [
    {
     "ename": "ValueError",
     "evalue": "Input contains NaN, infinity or a value too large for dtype('float64').",
     "output_type": "error",
     "traceback": [
      "\u001b[1;31m---------------------------------------------------------------------------\u001b[0m",
      "\u001b[1;31mValueError\u001b[0m                                Traceback (most recent call last)",
      "\u001b[1;32m~\\AppData\\Local\\Temp\\ipykernel_2960\\812995018.py\u001b[0m in \u001b[0;36m<module>\u001b[1;34m\u001b[0m\n\u001b[1;32m----> 1\u001b[1;33m \u001b[0mmodel\u001b[0m\u001b[1;33m.\u001b[0m\u001b[0mfit\u001b[0m\u001b[1;33m(\u001b[0m\u001b[0mX_train\u001b[0m\u001b[1;33m,\u001b[0m \u001b[0my_train\u001b[0m\u001b[1;33m)\u001b[0m\u001b[1;33m\u001b[0m\u001b[1;33m\u001b[0m\u001b[0m\n\u001b[0m\u001b[0;32m      2\u001b[0m \u001b[1;31m# y = m1x1 + m2x + b, where x1 is age and x2 is occupation\u001b[0m\u001b[1;33m\u001b[0m\u001b[1;33m\u001b[0m\u001b[0m\n",
      "\u001b[1;32mC:\\ProgramData\\Anaconda3\\lib\\site-packages\\sklearn\\linear_model\\_base.py\u001b[0m in \u001b[0;36mfit\u001b[1;34m(self, X, y, sample_weight)\u001b[0m\n\u001b[0;32m    660\u001b[0m         \u001b[0maccept_sparse\u001b[0m \u001b[1;33m=\u001b[0m \u001b[1;32mFalse\u001b[0m \u001b[1;32mif\u001b[0m \u001b[0mself\u001b[0m\u001b[1;33m.\u001b[0m\u001b[0mpositive\u001b[0m \u001b[1;32melse\u001b[0m \u001b[1;33m[\u001b[0m\u001b[1;34m\"csr\"\u001b[0m\u001b[1;33m,\u001b[0m \u001b[1;34m\"csc\"\u001b[0m\u001b[1;33m,\u001b[0m \u001b[1;34m\"coo\"\u001b[0m\u001b[1;33m]\u001b[0m\u001b[1;33m\u001b[0m\u001b[1;33m\u001b[0m\u001b[0m\n\u001b[0;32m    661\u001b[0m \u001b[1;33m\u001b[0m\u001b[0m\n\u001b[1;32m--> 662\u001b[1;33m         X, y = self._validate_data(\n\u001b[0m\u001b[0;32m    663\u001b[0m             \u001b[0mX\u001b[0m\u001b[1;33m,\u001b[0m \u001b[0my\u001b[0m\u001b[1;33m,\u001b[0m \u001b[0maccept_sparse\u001b[0m\u001b[1;33m=\u001b[0m\u001b[0maccept_sparse\u001b[0m\u001b[1;33m,\u001b[0m \u001b[0my_numeric\u001b[0m\u001b[1;33m=\u001b[0m\u001b[1;32mTrue\u001b[0m\u001b[1;33m,\u001b[0m \u001b[0mmulti_output\u001b[0m\u001b[1;33m=\u001b[0m\u001b[1;32mTrue\u001b[0m\u001b[1;33m\u001b[0m\u001b[1;33m\u001b[0m\u001b[0m\n\u001b[0;32m    664\u001b[0m         )\n",
      "\u001b[1;32mC:\\ProgramData\\Anaconda3\\lib\\site-packages\\sklearn\\base.py\u001b[0m in \u001b[0;36m_validate_data\u001b[1;34m(self, X, y, reset, validate_separately, **check_params)\u001b[0m\n\u001b[0;32m    579\u001b[0m                 \u001b[0my\u001b[0m \u001b[1;33m=\u001b[0m \u001b[0mcheck_array\u001b[0m\u001b[1;33m(\u001b[0m\u001b[0my\u001b[0m\u001b[1;33m,\u001b[0m \u001b[1;33m**\u001b[0m\u001b[0mcheck_y_params\u001b[0m\u001b[1;33m)\u001b[0m\u001b[1;33m\u001b[0m\u001b[1;33m\u001b[0m\u001b[0m\n\u001b[0;32m    580\u001b[0m             \u001b[1;32melse\u001b[0m\u001b[1;33m:\u001b[0m\u001b[1;33m\u001b[0m\u001b[1;33m\u001b[0m\u001b[0m\n\u001b[1;32m--> 581\u001b[1;33m                 \u001b[0mX\u001b[0m\u001b[1;33m,\u001b[0m \u001b[0my\u001b[0m \u001b[1;33m=\u001b[0m \u001b[0mcheck_X_y\u001b[0m\u001b[1;33m(\u001b[0m\u001b[0mX\u001b[0m\u001b[1;33m,\u001b[0m \u001b[0my\u001b[0m\u001b[1;33m,\u001b[0m \u001b[1;33m**\u001b[0m\u001b[0mcheck_params\u001b[0m\u001b[1;33m)\u001b[0m\u001b[1;33m\u001b[0m\u001b[1;33m\u001b[0m\u001b[0m\n\u001b[0m\u001b[0;32m    582\u001b[0m             \u001b[0mout\u001b[0m \u001b[1;33m=\u001b[0m \u001b[0mX\u001b[0m\u001b[1;33m,\u001b[0m \u001b[0my\u001b[0m\u001b[1;33m\u001b[0m\u001b[1;33m\u001b[0m\u001b[0m\n\u001b[0;32m    583\u001b[0m \u001b[1;33m\u001b[0m\u001b[0m\n",
      "\u001b[1;32mC:\\ProgramData\\Anaconda3\\lib\\site-packages\\sklearn\\utils\\validation.py\u001b[0m in \u001b[0;36mcheck_X_y\u001b[1;34m(X, y, accept_sparse, accept_large_sparse, dtype, order, copy, force_all_finite, ensure_2d, allow_nd, multi_output, ensure_min_samples, ensure_min_features, y_numeric, estimator)\u001b[0m\n\u001b[0;32m    962\u001b[0m         \u001b[1;32mraise\u001b[0m \u001b[0mValueError\u001b[0m\u001b[1;33m(\u001b[0m\u001b[1;34m\"y cannot be None\"\u001b[0m\u001b[1;33m)\u001b[0m\u001b[1;33m\u001b[0m\u001b[1;33m\u001b[0m\u001b[0m\n\u001b[0;32m    963\u001b[0m \u001b[1;33m\u001b[0m\u001b[0m\n\u001b[1;32m--> 964\u001b[1;33m     X = check_array(\n\u001b[0m\u001b[0;32m    965\u001b[0m         \u001b[0mX\u001b[0m\u001b[1;33m,\u001b[0m\u001b[1;33m\u001b[0m\u001b[1;33m\u001b[0m\u001b[0m\n\u001b[0;32m    966\u001b[0m         \u001b[0maccept_sparse\u001b[0m\u001b[1;33m=\u001b[0m\u001b[0maccept_sparse\u001b[0m\u001b[1;33m,\u001b[0m\u001b[1;33m\u001b[0m\u001b[1;33m\u001b[0m\u001b[0m\n",
      "\u001b[1;32mC:\\ProgramData\\Anaconda3\\lib\\site-packages\\sklearn\\utils\\validation.py\u001b[0m in \u001b[0;36mcheck_array\u001b[1;34m(array, accept_sparse, accept_large_sparse, dtype, order, copy, force_all_finite, ensure_2d, allow_nd, ensure_min_samples, ensure_min_features, estimator)\u001b[0m\n\u001b[0;32m    798\u001b[0m \u001b[1;33m\u001b[0m\u001b[0m\n\u001b[0;32m    799\u001b[0m         \u001b[1;32mif\u001b[0m \u001b[0mforce_all_finite\u001b[0m\u001b[1;33m:\u001b[0m\u001b[1;33m\u001b[0m\u001b[1;33m\u001b[0m\u001b[0m\n\u001b[1;32m--> 800\u001b[1;33m             \u001b[0m_assert_all_finite\u001b[0m\u001b[1;33m(\u001b[0m\u001b[0marray\u001b[0m\u001b[1;33m,\u001b[0m \u001b[0mallow_nan\u001b[0m\u001b[1;33m=\u001b[0m\u001b[0mforce_all_finite\u001b[0m \u001b[1;33m==\u001b[0m \u001b[1;34m\"allow-nan\"\u001b[0m\u001b[1;33m)\u001b[0m\u001b[1;33m\u001b[0m\u001b[1;33m\u001b[0m\u001b[0m\n\u001b[0m\u001b[0;32m    801\u001b[0m \u001b[1;33m\u001b[0m\u001b[0m\n\u001b[0;32m    802\u001b[0m     \u001b[1;32mif\u001b[0m \u001b[0mensure_min_samples\u001b[0m \u001b[1;33m>\u001b[0m \u001b[1;36m0\u001b[0m\u001b[1;33m:\u001b[0m\u001b[1;33m\u001b[0m\u001b[1;33m\u001b[0m\u001b[0m\n",
      "\u001b[1;32mC:\\ProgramData\\Anaconda3\\lib\\site-packages\\sklearn\\utils\\validation.py\u001b[0m in \u001b[0;36m_assert_all_finite\u001b[1;34m(X, allow_nan, msg_dtype)\u001b[0m\n\u001b[0;32m    112\u001b[0m         ):\n\u001b[0;32m    113\u001b[0m             \u001b[0mtype_err\u001b[0m \u001b[1;33m=\u001b[0m \u001b[1;34m\"infinity\"\u001b[0m \u001b[1;32mif\u001b[0m \u001b[0mallow_nan\u001b[0m \u001b[1;32melse\u001b[0m \u001b[1;34m\"NaN, infinity\"\u001b[0m\u001b[1;33m\u001b[0m\u001b[1;33m\u001b[0m\u001b[0m\n\u001b[1;32m--> 114\u001b[1;33m             raise ValueError(\n\u001b[0m\u001b[0;32m    115\u001b[0m                 msg_err.format(\n\u001b[0;32m    116\u001b[0m                     \u001b[0mtype_err\u001b[0m\u001b[1;33m,\u001b[0m \u001b[0mmsg_dtype\u001b[0m \u001b[1;32mif\u001b[0m \u001b[0mmsg_dtype\u001b[0m \u001b[1;32mis\u001b[0m \u001b[1;32mnot\u001b[0m \u001b[1;32mNone\u001b[0m \u001b[1;32melse\u001b[0m \u001b[0mX\u001b[0m\u001b[1;33m.\u001b[0m\u001b[0mdtype\u001b[0m\u001b[1;33m\u001b[0m\u001b[1;33m\u001b[0m\u001b[0m\n",
      "\u001b[1;31mValueError\u001b[0m: Input contains NaN, infinity or a value too large for dtype('float64')."
     ]
    }
   ],
   "source": [
    "model.fit(X_train, y_train)\n",
    "# y = m1x1 + m2x + b, where x1 is age and x2 is occupation"
   ]
  },
  {
   "cell_type": "code",
   "execution_count": 37,
   "id": "2a90b6c6",
   "metadata": {},
   "outputs": [
    {
     "ename": "AttributeError",
     "evalue": "'LinearRegression' object has no attribute 'coef_'",
     "output_type": "error",
     "traceback": [
      "\u001b[1;31m---------------------------------------------------------------------------\u001b[0m",
      "\u001b[1;31mAttributeError\u001b[0m                            Traceback (most recent call last)",
      "\u001b[1;32m~\\AppData\\Local\\Temp\\ipykernel_2960\\3272516716.py\u001b[0m in \u001b[0;36m<module>\u001b[1;34m\u001b[0m\n\u001b[1;32m----> 1\u001b[1;33m \u001b[0mm1\u001b[0m \u001b[1;33m=\u001b[0m \u001b[0mmodel\u001b[0m\u001b[1;33m.\u001b[0m\u001b[0mcoef_\u001b[0m\u001b[1;33m[\u001b[0m\u001b[1;36m0\u001b[0m\u001b[1;33m]\u001b[0m\u001b[1;33m\u001b[0m\u001b[1;33m\u001b[0m\u001b[0m\n\u001b[0m\u001b[0;32m      2\u001b[0m \u001b[0mm2\u001b[0m \u001b[1;33m=\u001b[0m \u001b[0mmodel\u001b[0m\u001b[1;33m.\u001b[0m\u001b[0mcoef_\u001b[0m\u001b[1;33m[\u001b[0m\u001b[1;36m1\u001b[0m\u001b[1;33m]\u001b[0m\u001b[1;33m\u001b[0m\u001b[1;33m\u001b[0m\u001b[0m\n\u001b[0;32m      3\u001b[0m \u001b[0mb\u001b[0m \u001b[1;33m=\u001b[0m \u001b[0mmodel\u001b[0m\u001b[1;33m.\u001b[0m\u001b[0mintercept_\u001b[0m\u001b[1;33m\u001b[0m\u001b[1;33m\u001b[0m\u001b[0m\n\u001b[0;32m      4\u001b[0m \u001b[0mprint\u001b[0m\u001b[1;33m(\u001b[0m\u001b[1;34m\"y = \"\u001b[0m\u001b[1;33m,\u001b[0m \u001b[0mm1\u001b[0m\u001b[1;33m,\u001b[0m \u001b[1;34m\"x1 + \"\u001b[0m\u001b[1;33m,\u001b[0m \u001b[0mm2\u001b[0m\u001b[1;33m,\u001b[0m \u001b[1;34m\"x2 + \"\u001b[0m\u001b[1;33m,\u001b[0m \u001b[0mb\u001b[0m \u001b[1;33m)\u001b[0m\u001b[1;33m\u001b[0m\u001b[1;33m\u001b[0m\u001b[0m\n",
      "\u001b[1;31mAttributeError\u001b[0m: 'LinearRegression' object has no attribute 'coef_'"
     ]
    }
   ],
   "source": [
    "m1 = model.coef_[0]\n",
    "m2 = model.coef_[1]\n",
    "b = model.intercept_\n",
    "print(\"y = \", m1, \"x1 + \", m2, \"x2 + \", b )"
   ]
  },
  {
   "cell_type": "code",
   "execution_count": null,
   "id": "78d06d67",
   "metadata": {},
   "outputs": [],
   "source": [
    "y = (m1 * 58.2) + (m2 * 34) + b"
   ]
  },
  {
   "cell_type": "code",
   "execution_count": null,
   "id": "39e63cba",
   "metadata": {},
   "outputs": [],
   "source": [
    "y"
   ]
  },
  {
   "cell_type": "markdown",
   "id": "cfb2b903",
   "metadata": {},
   "source": [
    "### 3. Testing Your Model\n",
    "In the cell seen below, write the code you need to test your linear regression model. \n",
    "\n",
    "*Note, a model is considered a level 5 if it achieves at least 60% prediction accuracy or achieves an RMSE of 2 weeks or less.*"
   ]
  },
  {
   "cell_type": "code",
   "execution_count": null,
   "id": "24f8b990",
   "metadata": {},
   "outputs": [],
   "source": [
    "# Test model here."
   ]
  },
  {
   "cell_type": "markdown",
   "id": "343eb3f7",
   "metadata": {},
   "source": [
    "### 4. Final Answer\n",
    "\n",
    "In the first cell seen below, state the name of your predicted winner. \n",
    "In the second cell seen below, justify your prediction using an evaluation technique like RMSE or percent accuracy."
   ]
  },
  {
   "cell_type": "markdown",
   "id": "25533722",
   "metadata": {},
   "source": [
    "#### State the name of your predicted winner here."
   ]
  },
  {
   "cell_type": "markdown",
   "id": "e29adde2",
   "metadata": {},
   "source": [
    "#### Justify your prediction here."
   ]
  }
 ],
 "metadata": {
  "kernelspec": {
   "display_name": "Python 3 (ipykernel)",
   "language": "python",
   "name": "python3"
  },
  "language_info": {
   "codemirror_mode": {
    "name": "ipython",
    "version": 3
   },
   "file_extension": ".py",
   "mimetype": "text/x-python",
   "name": "python",
   "nbconvert_exporter": "python",
   "pygments_lexer": "ipython3",
   "version": "3.9.13"
  }
 },
 "nbformat": 4,
 "nbformat_minor": 5
}
